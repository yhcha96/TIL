{
 "cells": [
  {
   "cell_type": "markdown",
   "metadata": {},
   "source": [
    "문제 1\n",
    "\n",
    "다음의 조건을 만족하는 Point라는 클래스를 작성하세요.\n",
    "\n",
    "- Point 클래스는 생성자를 통해 (x, y) 좌표를 입력받는다.(`__init__`)\n",
    "- setx(x), sety(y) 메서드를 통해 x 좌표와 y 좌표를 따로 입력받을 수도 있다.\n",
    "- get() 메서드를 호출하면 튜플로 구성된 (x, y) 좌표를 반환한다.\n",
    "- move(dx, dy) 메서드는 현재 좌표를 dx, dy만큼 이동시킨다.\n",
    "- 모든 메서드는 인스턴스 메서드다."
   ]
  },
  {
   "cell_type": "code",
   "execution_count": 19,
   "metadata": {},
   "outputs": [],
   "source": [
    "class Point:\n",
    "    def __init__(self,x,y):\n",
    "        self.x = x\n",
    "        self.y = y\n",
    "    def get(self):\n",
    "        print((self.x,self.y))\n",
    "    def move(self,dx,dy):\n",
    "        self.dx = dx\n",
    "        self.dy = dy\n",
    "        self.x += self.dx\n",
    "        self.y += self.dy\n",
    "        print((self.x,self.y))\n",
    "    def setx(self,x):\n",
    "        self.x = x\n",
    "    def sety(self,y):\n",
    "        self.y = y"
   ]
  },
  {
   "cell_type": "code",
   "execution_count": 23,
   "metadata": {},
   "outputs": [
    {
     "name": "stdout",
     "output_type": "stream",
     "text": [
      "(0, 0)\n",
      "(1, -3)\n",
      "(10, 4)\n"
     ]
    }
   ],
   "source": [
    "p = Point(0,0)\n",
    "p.get() #(0,0)\n",
    "p.move(1,-3) #(1,-3)\n",
    "p.setx(10) #(10,-3)\n",
    "p.sety(4) #(10,4)\n",
    "p.get()"
   ]
  },
  {
   "cell_type": "markdown",
   "metadata": {},
   "source": [
    "문제 2\n",
    "\n",
    "문제 1에서 생성한 Point 클래스에 대한 인스턴스를 생성한 후 4개의 메서드를 사용하는 코드를 작성하세요.\n"
   ]
  },
  {
   "cell_type": "markdown",
   "metadata": {},
   "source": [
    "문제 3\n",
    "\n",
    "1부터 10까지의 숫자를 각 라인 단위로 파일에 출력하는 프로그램을 작성하세요.\n",
    "\n",
    "생성되는 파일의 이름은 number.txt 이다."
   ]
  },
  {
   "cell_type": "code",
   "execution_count": 32,
   "metadata": {},
   "outputs": [],
   "source": [
    "f = open(\"number.txt\",'w')\n",
    "for i in range(1,11):\n",
    "    f.write(str(i)+'\\n')\n",
    "f.close()"
   ]
  },
  {
   "cell_type": "markdown",
   "metadata": {},
   "source": [
    "문제 4\n",
    "\n",
    "사용자에게 경로를 입력받은 후 해당 경로에 있는 디렉터리와 파일 목록을 flist.txt라는 파일로 출력하는 함수를 작성하세요.\n"
   ]
  },
  {
   "cell_type": "code",
   "execution_count": 40,
   "metadata": {},
   "outputs": [
    {
     "name": "stdout",
     "output_type": "stream",
     "text": [
      "경로를 입력해주세요C:/Users/student/Desktop/TIL/Python/pycharm/\n"
     ]
    }
   ],
   "source": [
    "import glob\n",
    "# c:/Windows/*\n",
    "data = input(\"경로를 입력해주세요\") +'*'\n",
    "list(glob.glob(data))\n",
    "\n",
    "f = open(\"flist.txt\",'w')\n",
    "for i in list(glob.glob(data)):\n",
    "    f.write(i+'\\n')\n",
    "f.close()"
   ]
  },
  {
   "cell_type": "markdown",
   "metadata": {},
   "source": [
    "문제 5\n",
    "\n",
    "윤동주 시인 방송 출연 년월일 추출(화요일 수업내용 중)"
   ]
  },
  {
   "cell_type": "code",
   "execution_count": 113,
   "metadata": {},
   "outputs": [
    {
     "name": "stdout",
     "output_type": "stream",
     "text": [
      "['1984년', '1988년', '1995년', '2006년', '2006년', '2008년', '2009년', '2011년', '2016년']\n"
     ]
    }
   ],
   "source": [
    "import urllib.request as req\n",
    "from bs4 import BeautifulSoup\n",
    "import re\n",
    "\n",
    "\n",
    "url = \"https://ko.wikipedia.org/wiki/%EC%9C%A4%EB%8F%99%EC%A3%BC\"\n",
    "\n",
    "res = req.urlopen(url)\n",
    "soup = BeautifulSoup(res,\"html.parser\")\n",
    "\n",
    "p = soup.select(\"div#mw-content-text > div.mw-parser-output > ul:nth-of-type(9)\")\n",
    "\n",
    "t = p[0].text\n",
    "a = re.findall(\"\\d+년\",t)\n",
    "print(a)\n"
   ]
  },
  {
   "cell_type": "markdown",
   "metadata": {},
   "source": [
    "문제 6\n",
    "\n",
    "영문, 숫자 포함하여 특수문자 모두 제거(오늘 수업내용 중)\n"
   ]
  },
  {
   "cell_type": "code",
   "execution_count": 133,
   "metadata": {},
   "outputs": [
    {
     "name": "stdout",
     "output_type": "stream",
     "text": [
      "기압골의 영향으로 일부터 일 사이에 전국에 비 또는 눈이 오겠고 제주도는 일에도 비가 오겠습니다  한편 동풍의 영향으로 일은 강원영동에 비 또는 눈이 오겠습니다 그 밖의 날은 고기압의 가장자리에 들어 가끔 구름많겠습니다 기온은 평년최저기온  최고기온 보다 높겠습니다 강수량은 평년보다 많겠습니다\n"
     ]
    }
   ],
   "source": [
    "# 기상청 기상예보에서 특정 내용 추출\n",
    "import urllib.request as req\n",
    "import re\n",
    "\n",
    "# www.kma.go.kr/weather/forecast/mid-term-rss3.jsp\n",
    "url = \"http://www.kma.go.kr/weather/forecast/mid-term-rss3.jsp\"\n",
    "\n",
    "res = req.urlopen(url)\n",
    "soup = BeautifulSoup(res,\"html.parser\")\n",
    "\n",
    "# wf태그값 추출\n",
    "data = soup.find(\"wf\").string\n",
    "\n",
    "#영문,숫자 등 특수 문자 모두제거(한글제외)\n",
    "print(re.sub(\"[^가-힣\\s]*\",\"\",data))\n"
   ]
  },
  {
   "cell_type": "code",
   "execution_count": null,
   "metadata": {},
   "outputs": [],
   "source": []
  }
 ],
 "metadata": {
  "kernelspec": {
   "display_name": "Python 3",
   "language": "python",
   "name": "python3"
  },
  "language_info": {
   "codemirror_mode": {
    "name": "ipython",
    "version": 3
   },
   "file_extension": ".py",
   "mimetype": "text/x-python",
   "name": "python",
   "nbconvert_exporter": "python",
   "pygments_lexer": "ipython3",
   "version": "3.7.4"
  }
 },
 "nbformat": 4,
 "nbformat_minor": 2
}
