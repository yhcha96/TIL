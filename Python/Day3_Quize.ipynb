{
 "cells": [
  {
   "cell_type": "code",
   "execution_count": null,
   "metadata": {},
   "outputs": [],
   "source": [
    "# 데이터 입력을 받아서 10보다 작으면 '10보다 작아요'\n",
    "# 그렇지 않으면 '10보다 커요'"
   ]
  },
  {
   "cell_type": "code",
   "execution_count": 5,
   "metadata": {},
   "outputs": [
    {
     "name": "stdout",
     "output_type": "stream",
     "text": [
      "입력 : 80\n",
      "10보다 커요\n"
     ]
    }
   ],
   "source": [
    "a = int(input('입력 : '))\n",
    "if a < 10:\n",
    "    print('10보다 작아요')\n",
    "elif a > 10:\n",
    "    print('10보다 커요')\n",
    "else:\n",
    "    print('10이예요')"
   ]
  },
  {
   "cell_type": "markdown",
   "metadata": {},
   "source": [
    "#### Q.1 \n",
    "어떤 자연수 n이 있을 때, d(n)을 n의 각 자릿수 숫자들과 n 자신을 더한 숫자라고 정의하자.\n",
    "\n",
    "예를 들어\n",
    "\n",
    "d(91) = 9 + 1 + 91 = 101\n",
    "\n",
    "이 때, n을 d(n)의 제네레이터(generator)라고 한다. 위의 예에서 91은 101의 제네레이터이다.\n",
    "\n",
    "어떤 숫자들은 하나 이상의 제네레이터를 가지고 있는데, 101의 제네레이터는 91 뿐 아니라 100도 있다. 그런데 반대로, 제네레이터가 없는 숫자들도 있으며, 이런 숫자를 인도의 수학자 Kaprekar가 셀프 넘버(self-number)라 이름 붙였다. 예를 들어 1,3,5,7,9,20,31 은 셀프 넘버 들이다.\n",
    "\n",
    "1 이상이고 5000 보다 작은 모든 셀프 넘버들의 합을 구하라.\n"
   ]
  },
  {
   "cell_type": "code",
   "execution_count": 13,
   "metadata": {},
   "outputs": [
    {
     "name": "stdout",
     "output_type": "stream",
     "text": [
      "1227365\n"
     ]
    }
   ],
   "source": [
    "# 1번\n",
    "totalNum = list(range(1,5001))\n",
    "nonSelf = []\n",
    "total = 0\n",
    "\n",
    "# 자릿수에 따라 분리하여 셀프넘버가 아닌 것을 구하기\n",
    "for i in totalNum:\n",
    "    L = len(str(i))\n",
    "    if L == 1:\n",
    "        nonSelf = nonSelf + [i+i]        \n",
    "    elif L == 2:\n",
    "        ii = str(i)\n",
    "        nonSelf = nonSelf +[int(ii[0]) + int(ii[1]) + i]\n",
    "    elif L == 3:\n",
    "        ii = str(i)\n",
    "        nonSelf = nonSelf +[int(ii[0]) + int(ii[1]) + int(ii[2]) + i]\n",
    "    else:\n",
    "        ii = str(i)\n",
    "        nonSelf = nonSelf +[int(ii[0]) + int(ii[1]) + int(ii[2]) + int(ii[3]) + i]\n",
    "\n",
    "\n",
    "s1 = set(totalNum)\n",
    "s2 = set(nonSelf)\n",
    "Self = list(s1-s2) # s1와 s2의 차집합통해 셀프넘버 구하기\n",
    "\n",
    "\n",
    "for i in Self:\n",
    "    total = total + i\n",
    "\n",
    "print(total)"
   ]
  },
  {
   "cell_type": "code",
   "execution_count": 12,
   "metadata": {},
   "outputs": [
    {
     "name": "stdout",
     "output_type": "stream",
     "text": [
      "1227365\n"
     ]
    }
   ],
   "source": [
    "# 1번\n",
    "# a = list(range(1,5001))\n",
    "D = []\n",
    "total = 0\n",
    "\n",
    "for i in range(1,5001):\n",
    "    l = len(str(i))\n",
    "    if l == 1:\n",
    "        D = D + [i+i]        \n",
    "    elif l == 2:\n",
    "        ii = str(i)\n",
    "        D = D +[int(ii[0]) + int(ii[1]) + i]\n",
    "    elif l == 3:\n",
    "        ii = str(i)\n",
    "        D = D +[int(ii[0]) + int(ii[1]) + int(ii[2]) + i]\n",
    "    else:\n",
    "        ii = str(i)\n",
    "        D = D +[int(ii[0]) + int(ii[1]) + int(ii[2]) + int(ii[3]) + i]\n",
    "\n",
    "\n",
    "s1 = set(range(1,5001))\n",
    "s2 = set(D)\n",
    "DD = list(s1-s2)\n",
    "\n",
    "\n",
    "for i in DD:\n",
    "    total = total + i\n",
    "\n",
    "print(total)"
   ]
  },
  {
   "cell_type": "code",
   "execution_count": null,
   "metadata": {},
   "outputs": [],
   "source": [
    "storage = set()\n",
    "total = 0\n",
    "\n",
    "for i in range(1,5001) :\n",
    "    b = 0\n",
    "    for j in str(i) :  # 124이면 1,2,4가 들어감\n",
    "        b += int(j)\n",
    "    storage.add(b+i)\n",
    "\n",
    "for i in range(1,5001) :\n",
    "    if i not in storage: # 전체수와 셀프넘버아닌 것 비교\n",
    "        total += i\n",
    "        \n",
    "print(total)"
   ]
  },
  {
   "cell_type": "markdown",
   "metadata": {},
   "source": [
    "#### Q2\n",
    "표준 입력으로 가격(정수)과 쿠폰 이름이 각 줄에 입력됩니다. Cash3000 쿠폰은 3,000원, Cash5000 쿠폰은 5,000원을 할인합니다. 쿠폰에 따라 할인된 가격을 출력하는 프로그램을 만드세요(input에서 안내 문자열은 출력하지 않아야 합니다).\n",
    "\n",
    "입력 \n",
    "27000\n",
    "Cash3000\n",
    "\n",
    "출력\n",
    "24000"
   ]
  },
  {
   "cell_type": "code",
   "execution_count": 139,
   "metadata": {},
   "outputs": [
    {
     "name": "stdout",
     "output_type": "stream",
     "text": [
      "37000 cash7000\n",
      "30000\n"
     ]
    }
   ],
   "source": [
    "# price = int(input('가격 : '))\n",
    "# cupon = input('쿠폰 이름 : ')\n",
    "\n",
    "price, cupon = input().split(' ')\n",
    "\n",
    "price = int(price)\n",
    "discount = int(cupon[4:len(cupon)])\n",
    "\n",
    "total = price - discount\n",
    "print(total)\n"
   ]
  },
  {
   "cell_type": "markdown",
   "metadata": {},
   "source": [
    "#### Q3\n",
    "표준 입력으로 정수가 입력됩니다. range의 시작하는 숫자는 -10, 끝나는 숫자는 10이며 입력된 정수만큼 증가하는 숫자가 들어가도록 튜플을 만들고, 해당 튜플을 출력하는 프로그램을 만드세요(input에서 안내 문자열은 출력하지 않아야 합니다).\n",
    "\n",
    "입력\n",
    "2\n",
    "출력\n",
    "(-10, -8, -6, -4, -2, 0, 2, 4, 6, 8)\n"
   ]
  },
  {
   "cell_type": "code",
   "execution_count": 37,
   "metadata": {},
   "outputs": [
    {
     "name": "stdout",
     "output_type": "stream",
     "text": [
      "2\n"
     ]
    },
    {
     "data": {
      "text/plain": [
       "(-10, -8, -6, -4, -2, 0, 2, 4, 6, 8)"
      ]
     },
     "execution_count": 37,
     "metadata": {},
     "output_type": "execute_result"
    }
   ],
   "source": [
    "a = int(input())\n",
    "tuple(range(-10,10,a))"
   ]
  },
  {
   "cell_type": "markdown",
   "metadata": {},
   "source": [
    "#### Q4\n",
    "튜플 n에서 인덱스가 홀수인 요소들이 출력되게 만드세요.\n",
    "\n",
    "n = -32, 75, 97, -10, 9, 32, 4, -15, 0, 76, 14, 2"
   ]
  },
  {
   "cell_type": "code",
   "execution_count": 44,
   "metadata": {},
   "outputs": [
    {
     "data": {
      "text/plain": [
       "(75, -10, 32, -15, 76, 2)"
      ]
     },
     "execution_count": 44,
     "metadata": {},
     "output_type": "execute_result"
    }
   ],
   "source": [
    "n = -32, 75, 97, -10, 9, 32, 4, -15, 0, 76, 14, 2\n",
    "n[1::2]"
   ]
  },
  {
   "cell_type": "code",
   "execution_count": 9,
   "metadata": {},
   "outputs": [
    {
     "name": "stdout",
     "output_type": "stream",
     "text": [
      "75\n",
      "-10\n",
      "32\n",
      "-15\n",
      "76\n",
      "2\n"
     ]
    }
   ],
   "source": [
    "n = -32, 75, 97, -10, 9, 32, 4, -15, 0, 76, 14, 2\n",
    "for i in range(len(n)):\n",
    "    if i%2 != 0:\n",
    "        print(n[i])"
   ]
  },
  {
   "cell_type": "markdown",
   "metadata": {},
   "source": [
    "#### Q5\n",
    "a 리스트에서 중복 숫자를 제거해 보자.\n",
    "\n",
    "a = [1, 1, 1, 2, 2, 3, 3, 3, 4, 4, 5]"
   ]
  },
  {
   "cell_type": "code",
   "execution_count": 5,
   "metadata": {},
   "outputs": [
    {
     "data": {
      "text/plain": [
       "[1, 2, 3, 4, 5]"
      ]
     },
     "execution_count": 5,
     "metadata": {},
     "output_type": "execute_result"
    }
   ],
   "source": [
    "a = [1, 1, 1, 2, 2, 3, 3, 3, 4, 4, 5]\n",
    "list(set(a))"
   ]
  }
 ],
 "metadata": {
  "kernelspec": {
   "display_name": "Python 3",
   "language": "python",
   "name": "python3"
  },
  "language_info": {
   "codemirror_mode": {
    "name": "ipython",
    "version": 3
   },
   "file_extension": ".py",
   "mimetype": "text/x-python",
   "name": "python",
   "nbconvert_exporter": "python",
   "pygments_lexer": "ipython3",
   "version": "3.7.4"
  }
 },
 "nbformat": 4,
 "nbformat_minor": 2
}
