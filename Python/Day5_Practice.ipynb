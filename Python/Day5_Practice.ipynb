{
 "cells": [
  {
   "cell_type": "markdown",
   "metadata": {},
   "source": [
    "# Qeustion 1\n",
    "\n",
    "회문 판별하기\n",
    "\n",
    "\n",
    "- Input : level\n",
    "- Output : True\n",
    "- Input : hello\n",
    "- Output : False"
   ]
  },
  {
   "cell_type": "code",
   "execution_count": 23,
   "metadata": {},
   "outputs": [
    {
     "name": "stdout",
     "output_type": "stream",
     "text": [
      "asasas\n",
      "False\n"
     ]
    }
   ],
   "source": [
    "word = list(input())\n",
    "r_word = []\n",
    "for i in range(len(word)):\n",
    "    r_word += word[-(1+i)]\n",
    "\n",
    "count = 0\n",
    "for i in range(len(word)):\n",
    "    if word[i] == r_word[i]:\n",
    "        count += 1\n",
    "\n",
    "if count == len(word):\n",
    "    print(True)\n",
    "else:\n",
    "    print(False)\n"
   ]
  },
  {
   "cell_type": "markdown",
   "metadata": {},
   "source": [
    "# Question 2\n",
    "\n",
    "n-gram 만들기(n=2)\n",
    "\n",
    "Input : hello\n",
    "\n",
    "Output : he\n",
    "         el\n",
    "         ll\n",
    "         lo"
   ]
  },
  {
   "cell_type": "code",
   "execution_count": 29,
   "metadata": {},
   "outputs": [
    {
     "name": "stdout",
     "output_type": "stream",
     "text": [
      "good\n",
      "go\n",
      "oo\n",
      "od\n"
     ]
    }
   ],
   "source": [
    "word = input()\n",
    "\n",
    "for i in range(1,len(word)):\n",
    "    print(word[i-1]+word[i])"
   ]
  },
  {
   "cell_type": "markdown",
   "metadata": {},
   "source": [
    "# Question 4\n",
    "\n",
    "파일명 포매팅\n",
    "\n",
    "Input : 1.jpg 10.jpg 2.jpg\n",
    "\n",
    "Output : ['001.jpg', '010.jpg', '002'.jpg]"
   ]
  },
  {
   "cell_type": "code",
   "execution_count": 3,
   "metadata": {},
   "outputs": [
    {
     "name": "stdout",
     "output_type": "stream",
     "text": [
      "1.jpg 10.jpg 2.jpg\n",
      "['001jpg', '010jpg', '002jpg']\n"
     ]
    }
   ],
   "source": [
    "# 뒤에 파일명이 3개라고 했을때의 방법\n",
    "a = input().split(' ')\n",
    "front = []\n",
    "back = []\n",
    "result = []\n",
    "for i in a:\n",
    "    front += [i[:len(i)-4]]\n",
    "    back +=[i[len(i)-3:]]\n",
    "for i in range(len(a)):\n",
    "    result += ['{0:0>3}'.format(front[i]) + back[i] ]\n",
    "    \n",
    "print(result)"
   ]
  },
  {
   "cell_type": "code",
   "execution_count": 52,
   "metadata": {},
   "outputs": [
    {
     "name": "stdout",
     "output_type": "stream",
     "text": [
      "1.jpg 10.jpg 2.jpg\n",
      "['001jpg', '010jpg', '002jpg']\n"
     ]
    }
   ],
   "source": [
    "# .을 기준으로 저장해서 결과내는 방법\n",
    "a = input().split(' ')\n",
    "\n",
    "result=[]\n",
    "\n",
    "for i in a:\n",
    "    (x,y) = i.split('.')\n",
    "    result += ['{0:0>3}'.format(x)+y] # result += ['%03d'%int(x)+y]\n",
    "\n",
    "print(result)"
   ]
  },
  {
   "cell_type": "markdown",
   "metadata": {},
   "source": [
    "# Question 5\n",
    "\n",
    "약 2,000년 전에는 전쟁에서 병사들이 적들에 의해 동굴에 갇히게 되는 경우가 종종 있었다고 한다.\n",
    "\n",
    "그들은 포로가 되는것을 방지하기 위해 동그랗게 서서 마지막 한 사람이 남을 때 까지 순서대로 돌아가며 세번째에 해당되는 사람을 죽여 나갔다고 한다.\n",
    "\n",
    "마지막으로 남게되는 사람은 자살하기로 약속되어 있었지만 보통 적들에게 항복을 하는 경우가 많았다고 한다.\n",
    "\n",
    "여러분이 풀어야 할 문제는 총 인원수(N)와 간격(K)이 주어졌을 때 가장 마지막에 살아남는 병사의 위치(the safe position)를 알아내는 것이다.\n",
    "\n",
    "예를 들어 병사수가 총 10명이고 돌아가며 세번째에 해당되는 병사를 제거하는 경우는 다음과 같다:\n",
    "\n",
    "N = 10, K = 3\n",
    "\n",
    "위의 경우 다음과 같은 순서로 병사들이 제거된다. (괄호는 제거되는 병사를 의미한다)"
   ]
  },
  {
   "cell_type": "markdown",
   "metadata": {},
   "source": [
    "1st round: 1 2 (3) 4 5 (6) 7 8 (9) 10\n",
    "2nd round:                            1 (2) 4 5 (7) 8 10\n",
    "3rd round:                                                (1) 4 5 (8) 10\n",
    "4th round:                                                               4 (5) 10\n",
    "5th round:                                                                        4 (10)\n",
    "위 예에서 끝가지 살아남는 병사는 4, 즉 4번째 병사이다.\n",
    "\n",
    "입력 데이터는 총 병사수 N과 간격 K이다.\n",
    "출력 데이터는 마지막까지 살아남는 병사의 위치이다.\n",
    "\n",
    "(단, 최초 시작은 1번 병사부터이다.)\n",
    "\n",
    "입출력 예는 다음과 같다:\n",
    "\n",
    "initial data:\n",
    "10 3\n",
    "\n",
    "answer:\n",
    "4"
   ]
  },
  {
   "cell_type": "code",
   "execution_count": 35,
   "metadata": {},
   "outputs": [
    {
     "ename": "IndexError",
     "evalue": "list index out of range",
     "output_type": "error",
     "traceback": [
      "\u001b[1;31m---------------------------------------------------------------------------\u001b[0m",
      "\u001b[1;31mIndexError\u001b[0m                                Traceback (most recent call last)",
      "\u001b[1;32m<ipython-input-35-f428ebc764f6>\u001b[0m in \u001b[0;36m<module>\u001b[1;34m\u001b[0m\n\u001b[0;32m     14\u001b[0m         \u001b[1;32mif\u001b[0m \u001b[0mi\u001b[0m\u001b[1;33m%\u001b[0m\u001b[1;36m3\u001b[0m \u001b[1;33m==\u001b[0m \u001b[1;36m0\u001b[0m\u001b[1;33m:\u001b[0m\u001b[1;33m\u001b[0m\u001b[1;33m\u001b[0m\u001b[0m\n\u001b[0;32m     15\u001b[0m             \u001b[1;32mfor\u001b[0m \u001b[0mj\u001b[0m \u001b[1;32min\u001b[0m \u001b[0mnumL\u001b[0m\u001b[1;33m:\u001b[0m\u001b[1;33m\u001b[0m\u001b[1;33m\u001b[0m\u001b[0m\n\u001b[1;32m---> 16\u001b[1;33m                 \u001b[1;32mif\u001b[0m \u001b[0mnumL\u001b[0m\u001b[1;33m[\u001b[0m\u001b[0mi\u001b[0m\u001b[1;33m]\u001b[0m \u001b[1;33m==\u001b[0m \u001b[0mj\u001b[0m\u001b[1;33m:\u001b[0m\u001b[1;33m\u001b[0m\u001b[1;33m\u001b[0m\u001b[0m\n\u001b[0m\u001b[0;32m     17\u001b[0m                     \u001b[0mDelete_count\u001b[0m \u001b[1;33m+=\u001b[0m \u001b[1;36m1\u001b[0m\u001b[1;33m\u001b[0m\u001b[1;33m\u001b[0m\u001b[0m\n\u001b[0;32m     18\u001b[0m         \u001b[1;32mfor\u001b[0m \u001b[0mi\u001b[0m \u001b[1;32min\u001b[0m \u001b[0mrange\u001b[0m\u001b[1;33m(\u001b[0m\u001b[0mDelete_count\u001b[0m\u001b[1;33m)\u001b[0m\u001b[1;33m:\u001b[0m\u001b[1;33m\u001b[0m\u001b[1;33m\u001b[0m\u001b[0m\n",
      "\u001b[1;31mIndexError\u001b[0m: list index out of range"
     ]
    }
   ],
   "source": [
    "# num = input('Input total number: ')\n",
    "# count = input('간격: ')\n",
    "\n",
    "num = 10\n",
    "count = 3\n",
    "Delete_count = 0\n",
    "\n",
    "numL = []\n",
    "while len(numL) != 1:\n",
    "    for i in range(10):\n",
    "        numL += [i+1]\n",
    "\n",
    "    for i in range(10):\n",
    "        if i%3 == 0:\n",
    "            for j in numL:\n",
    "                if numL[i] == j:\n",
    "                    Delete_count += 1\n",
    "        for i in range(Delete_count):\n",
    "            numL.remove(numL[i])\n",
    "    numL = numL*2\n",
    "\n",
    "# for i in range(10):\n",
    "#     numL += [i+1]\n",
    "#     safe += [i+1]\n",
    "\n",
    "# for i in range(10):\n",
    "#     if numL[i]%3 == 0:\n",
    "#         safe.remove(numL[i])\n",
    "\n",
    "    \n",
    "    \n",
    "# while len(numL) != 1:\n",
    "#     numD = numL[0::3]\n",
    "#     print('없앨것 : ',numD)\n",
    "\n",
    "#     for i in range(len(numD)):\n",
    "#         numL.remove(numD[i])\n",
    "#     print('새로운 numL : ',numL)\n",
    "\n"
   ]
  },
  {
   "cell_type": "code",
   "execution_count": 61,
   "metadata": {},
   "outputs": [
    {
     "name": "stdout",
     "output_type": "stream",
     "text": [
      "총 병사수 : 10\n",
      "간격 : 3\n",
      "살아남은 병사는 4 번째 병사입니다.\n"
     ]
    }
   ],
   "source": [
    "total = int(input('총 병사수 : '))\n",
    "num = int(input('간격 : '))\n",
    "total_list = []\n",
    "\n",
    "# 병사 순서를 리스트에 넣기\n",
    "for i in range(total):\n",
    "    total_list += [i+1]\n",
    "\n",
    "while len(total_list) != 1:\n",
    "    front = []\n",
    "    back = []\n",
    "    \n",
    "    # 총 명수에서 최대 간격 배수 수 보다 넘어가는건 다음번 죽는 사람 셀때 처음으로 세기 떄문에 front, back으로 나누어 줌\n",
    "    # front : 간격 배수 넘어있는 수\n",
    "    # back : 간격 배수까지\n",
    "    left = total%num\n",
    "    L  = len(total_list)\n",
    "    \n",
    "    front = total_list[L-left:]\n",
    "    back = total_list[:L-left]\n",
    "    \n",
    "    # 간격에 땨라 병사 없애주기\n",
    "    r = 0\n",
    "    for i in range(1,L+1):\n",
    "        if i%num == 0:\n",
    "            back.remove(back[i-r-1])\n",
    "            r += 1\n",
    "    \n",
    "    total_list = front + back\n",
    "    total = len(total_list)\n",
    "    \n",
    "    # 간격보다 사람수가 적으면 남은 병사 중 2번째 순서의 사람이 살아남게 된다\n",
    "    if total < num:\n",
    "        total_list = [total_list[1]]\n",
    "print('살아남은 병사는',total_list[0],'번째 병사입니다.')"
   ]
  },
  {
   "cell_type": "code",
   "execution_count": 62,
   "metadata": {},
   "outputs": [
    {
     "name": "stdout",
     "output_type": "stream",
     "text": [
      "총 병사수 : 10\n",
      "간격 : 3\n",
      "[4]\n"
     ]
    }
   ],
   "source": [
    "total = int(input('총 병사수 : '))\n",
    "num = int(input('간격 : '))\n",
    "total_list = []\n",
    "\n",
    "# 병사 순서를 리스트에 넣기\n",
    "for i in range(total):\n",
    "    total_list += [i+1]\n",
    "c = 0\n",
    "while len(total_list) != 1:\n",
    "    c += 1\n",
    "    if c%num != 0:\n",
    "        total_list.append(total_list.pop(0))\n",
    "    else:\n",
    "        total_list.pop(0)\n",
    "print(total_list)"
   ]
  },
  {
   "cell_type": "code",
   "execution_count": null,
   "metadata": {},
   "outputs": [],
   "source": [
    "'''\n",
    "pycharm설치\n",
    "\n",
    "http://www.jetbrains.com/\n",
    "comunity버전으로 다운\n",
    "\n",
    "\n",
    "아나콘다는 가상환경\n",
    "파이참은 툴(파이썬 언어를 쓰기 최적화된 툴)\n",
    "\n",
    "파이참을 사용하기위해서는 파이썬이 설치되어 있어야함\n",
    "아나콘다에 설치되어 있어 파이썬을 추가적으로 할 필요가 없음\n",
    "\n",
    "dont send\n",
    "'''"
   ]
  }
 ],
 "metadata": {
  "kernelspec": {
   "display_name": "Python 3",
   "language": "python",
   "name": "python3"
  },
  "language_info": {
   "codemirror_mode": {
    "name": "ipython",
    "version": 3
   },
   "file_extension": ".py",
   "mimetype": "text/x-python",
   "name": "python",
   "nbconvert_exporter": "python",
   "pygments_lexer": "ipython3",
   "version": "3.7.4"
  }
 },
 "nbformat": 4,
 "nbformat_minor": 2
}
