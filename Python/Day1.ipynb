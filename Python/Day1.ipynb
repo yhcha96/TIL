{
 "cells": [
  {
   "cell_type": "markdown",
   "metadata": {},
   "source": [
    "# 12.17 1일차"
   ]
  },
  {
   "cell_type": "markdown",
   "metadata": {},
   "source": [
    "셀에 라인 넘버 표시\n",
    "\n",
    "view->Toggle Line Numbers\n",
    "\n",
    "`'''` 3개를 연속으로 넣으면 `''''''`개나 나옴\n",
    "\n",
    "문자열로 인식\n",
    "\n",
    "`#` 주석문 : 비실행문, 코드 부연 설명\n"
   ]
  },
  {
   "cell_type": "code",
   "execution_count": 1,
   "metadata": {},
   "outputs": [
    {
     "name": "stdout",
     "output_type": "stream",
     "text": [
      "Hi\n"
     ]
    }
   ],
   "source": [
    "print('Hi')"
   ]
  },
  {
   "cell_type": "code",
   "execution_count": 61,
   "metadata": {},
   "outputs": [
    {
     "data": {
      "text/plain": [
       "3"
      ]
     },
     "execution_count": 61,
     "metadata": {},
     "output_type": "execute_result"
    }
   ],
   "source": [
    "1+2 \n",
    "#정수/정수 => 실수(파이썬 3)\n",
    "#정수/정수=> 정수(파이썬 2)"
   ]
  },
  {
   "cell_type": "code",
   "execution_count": 63,
   "metadata": {},
   "outputs": [
    {
     "name": "stdout",
     "output_type": "stream",
     "text": [
      "2.5\n"
     ]
    },
    {
     "data": {
      "text/plain": [
       "1024"
      ]
     },
     "execution_count": 63,
     "metadata": {},
     "output_type": "execute_result"
    }
   ],
   "source": [
    "# 숫자 / 숫자  : 나누기\n",
    "# 숫자 // 숫자  : 몫\n",
    "# 숫자 % 숫자  : 나머지\n",
    "# 숫자 ** 숫자  : 제곱\n",
    "# 정수 / 실수  = 실수   => 파이썬은 표현 범위가 넓은쪽으로 계산이 되기 때문에\n",
    "\n",
    "#숫자의 범위가 따로 없음 메모리만 되면 다 나옴!!\n",
    "\n",
    "\n",
    "5/2\n",
    "5//2 # 몫\n",
    "5.5//2 # 2.0\n",
    "5%3 #2 나머지\n",
    "4//2 #2\n",
    "4//2.0 #2.0\n",
    "4.1//2.0 #2.0\n",
    "4.2//2.5 # 1.0\n",
    "3+4.1 #실수가 더 큰 범위이기 때문에 7.1\n",
    "2**10 # 제곱"
   ]
  },
  {
   "cell_type": "code",
   "execution_count": 64,
   "metadata": {},
   "outputs": [
    {
     "data": {
      "text/plain": [
       "9"
      ]
     },
     "execution_count": 64,
     "metadata": {},
     "output_type": "execute_result"
    }
   ],
   "source": [
    "# 실수 -> 정수 \n",
    "int(3.14) # 3\n",
    "int(5/2) # 2 원래 2.5인데 int로 변환해서 2\n",
    "\n",
    "\n",
    "\n",
    "#문자로된 숫자 -> 정수\n",
    "int('9') # 9\n"
   ]
  },
  {
   "cell_type": "code",
   "execution_count": 17,
   "metadata": {},
   "outputs": [
    {
     "data": {
      "text/plain": [
       "(2, 1)"
      ]
     },
     "execution_count": 17,
     "metadata": {},
     "output_type": "execute_result"
    }
   ],
   "source": [
    "# 타입 알이보기\n",
    "type(3.14) # float\n",
    "type('a') # str"
   ]
  },
  {
   "cell_type": "code",
   "execution_count": 24,
   "metadata": {},
   "outputs": [
    {
     "data": {
      "text/plain": [
       "(1, 2)"
      ]
     },
     "execution_count": 24,
     "metadata": {},
     "output_type": "execute_result"
    }
   ],
   "source": [
    "divmod(7,3) # (몫, 나머지)  (2.1)\n",
    "type(divmod(7,3)) # type : tuple\n",
    "\n",
    "#자료(데이터), 자료형(자료 타입, 데이터 타입)\n",
    "\n",
    "a = 3 # a는 변수 (데이터를 저장하는 장소)\n",
    "a,b = 1,2 # a=1, b=2"
   ]
  },
  {
   "cell_type": "code",
   "execution_count": 27,
   "metadata": {},
   "outputs": [
    {
     "data": {
      "text/plain": [
       "15"
      ]
     },
     "execution_count": 27,
     "metadata": {},
     "output_type": "execute_result"
    }
   ],
   "source": [
    "# 참고사항\n",
    "0b111 #0b : 2진수 # 7\n",
    "0o10 #0o : 8진수 # 8\n",
    "0xF #0x : 16진수 #15"
   ]
  },
  {
   "cell_type": "code",
   "execution_count": 30,
   "metadata": {},
   "outputs": [
    {
     "data": {
      "text/plain": [
       "1.5999999999999996"
      ]
     },
     "execution_count": 30,
     "metadata": {},
     "output_type": "execute_result"
    }
   ],
   "source": [
    "4.3 - 2.7 #1.599999999\n",
    "#1.6이 나와야하지만, 1.59가 나오는 이유는 실수를 표현할때 오차가 있기 때문 , 컴퓨터 구조적 문제\n",
    "#오차에 대한 전처리가 필요함"
   ]
  },
  {
   "cell_type": "code",
   "execution_count": 3,
   "metadata": {},
   "outputs": [
    {
     "data": {
      "text/plain": [
       "1.5999999999999996"
      ]
     },
     "execution_count": 3,
     "metadata": {},
     "output_type": "execute_result"
    }
   ],
   "source": [
    "import math,sys # math : 수학관련 연산들의 모음 sys : 시스템과 관련된 모음"
   ]
  },
  {
   "cell_type": "code",
   "execution_count": 8,
   "metadata": {},
   "outputs": [
    {
     "data": {
      "text/plain": [
       "True"
      ]
     },
     "execution_count": 8,
     "metadata": {},
     "output_type": "execute_result"
    }
   ],
   "source": [
    "x = 0.1+0.2\n",
    "x # 0.30000000000000004\n",
    "\n",
    "sys.float_info.epsilon # sys.fl적고 tab통해 float_info 선택, .찍고 ep적고 tab누르면 epsilon완성 #2*10의 -16승\n",
    "# math.fabs() : 절대값\n",
    "math.fabs(x-0.3) <= sys.float_info.epsilon # 성립하면 소수점 값 무의미\n",
    "\n",
    "math.isclose(0.1+0.2,0.3)\n",
    "\n"
   ]
  },
  {
   "cell_type": "code",
   "execution_count": 7,
   "metadata": {},
   "outputs": [
    {
     "data": {
      "text/plain": [
       "True"
      ]
     },
     "execution_count": 7,
     "metadata": {},
     "output_type": "execute_result"
    }
   ],
   "source": [
    "sys.float_info.epsilon # sys.fl적고 tab통해 float_info 선택, .찍고 ep적고 tab누르면 epsilon완성 #2*10의 -16승\n",
    "math.fabs(x-0.3) # 절대값\n",
    "math.fabs(x-0.3) <= sys.float_info.epsilon # 성립하면 0.3으로 나옴\n",
    "\n",
    "#파이썬 3.5\n",
    "math.isclose(0.1+0.2,0.3)"
   ]
  },
  {
   "cell_type": "code",
   "execution_count": 33,
   "metadata": {},
   "outputs": [
    {
     "data": {
      "text/plain": [
       "9"
      ]
     },
     "execution_count": 33,
     "metadata": {},
     "output_type": "execute_result"
    }
   ],
   "source": [
    "#데이터가 주어져 있을 때, 실수로 변환\n",
    "int('9.1') #9.1이 float(실수문자)이기때문에 int를 적용할 수 없음\n",
    "\n",
    "float('9.1')\n",
    "\n",
    "#셀 안의 각각의 값을 보고 싶다면 print문을 적어주기"
   ]
  },
  {
   "cell_type": "code",
   "execution_count": 33,
   "metadata": {},
   "outputs": [
    {
     "name": "stdout",
     "output_type": "stream",
     "text": [
      "You \n",
      " need \n",
      " python\n"
     ]
    }
   ],
   "source": [
    "x = '''test''' # 'test'\n",
    "x = '''\n",
    "test\n",
    "''' # '\\ntest\\n' 엔터까지 들어감\n",
    "x = '''\n",
    "test test2 test3''' # '\\ntest test2 test3'\n",
    "x = \"Python's favorite food is egg\" # 작은 따움표를 쓸때 조심\n",
    "x = '\"Python is very easy\" he said' # 번거로움\n",
    "y = \"\\\"Python is very easy\\ he said\" # \n",
    "\n",
    "x = \"You \\n need \\n python\"\n",
    "print(x)"
   ]
  },
  {
   "cell_type": "code",
   "execution_count": 39,
   "metadata": {},
   "outputs": [
    {
     "name": "stdout",
     "output_type": "stream",
     "text": [
      "PythonPython\n",
      "----------\n"
     ]
    }
   ],
   "source": [
    "x = 'Python'\n",
    "y=' is easy'\n",
    "x+y\n",
    "print(x*2)\n",
    "print('-'*10)"
   ]
  },
  {
   "cell_type": "code",
   "execution_count": 42,
   "metadata": {},
   "outputs": [
    {
     "data": {
      "text/plain": [
       "16"
      ]
     },
     "execution_count": 42,
     "metadata": {},
     "output_type": "execute_result"
    }
   ],
   "source": [
    "x = 'My name is Helen'\n",
    "len(x) # 길이 문자만 가능\n",
    "# 함수 : 내장함수, 외장함수\n",
    "#패키지 : 함수 또는 패키지들의 묶음\n",
    "#외장함수 : 패키지에 저장되어 있으므로, 사용하기 위해서는 사전에 가져와야함(import 패키지이름)"
   ]
  },
  {
   "cell_type": "code",
   "execution_count": 57,
   "metadata": {},
   "outputs": [
    {
     "data": {
      "text/plain": [
       "'easy'"
      ]
     },
     "execution_count": 57,
     "metadata": {},
     "output_type": "execute_result"
    }
   ],
   "source": [
    "#인덱싱(영역 참조), 슬라이싱(영역 잘라냄)\n",
    "\n",
    "#인덱싱\n",
    "x = 'Python is easy. You need python'\n",
    "x[0:14] #[시작위치 : 끝위치-1]  0부터 13까지\n",
    "x[-1] #뒤에서 첫번째 문자\n",
    "\n",
    "# easy인덱싱\n",
    "x[10:14] #'easy'추출\n",
    "\n"
   ]
  },
  {
   "cell_type": "code",
   "execution_count": 60,
   "metadata": {},
   "outputs": [
    {
     "name": "stdout",
     "output_type": "stream",
     "text": [
      "Karea\n"
     ]
    },
    {
     "data": {
      "text/plain": [
       "'Korea'"
      ]
     },
     "execution_count": 60,
     "metadata": {},
     "output_type": "execute_result"
    }
   ],
   "source": [
    "a= 'Karea' #a->o로 고쳐야해\n",
    "#문자열이기 때문에 'a[1] = 'o'로 변경 불가능, 문자라면 가능\n",
    "#a에 저장된 문자열의 특정 문자에 대한 변경시 오류\n",
    "\n",
    "#슬라이싱 방법으로 변경 가능\n",
    "print(a)\n",
    "a = a[0]+'o'+a[2:]\n",
    "a"
   ]
  },
  {
   "cell_type": "code",
   "execution_count": null,
   "metadata": {},
   "outputs": [],
   "source": []
  }
 ],
 "metadata": {
  "kernelspec": {
   "display_name": "Python 3",
   "language": "python",
   "name": "python3"
  },
  "language_info": {
   "codemirror_mode": {
    "name": "ipython",
    "version": 3
   },
   "file_extension": ".py",
   "mimetype": "text/x-python",
   "name": "python",
   "nbconvert_exporter": "python",
   "pygments_lexer": "ipython3",
   "version": "3.7.4"
  }
 },
 "nbformat": 4,
 "nbformat_minor": 2
}
