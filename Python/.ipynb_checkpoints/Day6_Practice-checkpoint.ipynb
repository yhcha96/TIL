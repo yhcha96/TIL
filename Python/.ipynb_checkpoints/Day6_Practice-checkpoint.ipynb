{
 "cells": [
  {
   "cell_type": "markdown",
   "metadata": {},
   "source": [
    "1. 다음과 같은 내용을 지닌 파일 test.txt가 있다. 이 파일의 내용 중 \"java\"라는 문자열을 \"python\"으로 바꾸어서 저장해 보자.\n",
    "\n",
    "Life is too short\n",
    "you need java\n",
    "※ replace 함수를 사용해 보자.\n",
    "\n",
    "test.txt 파일 만들어서 위의 문장 넣어서 저장한 파일 만들어 놓기"
   ]
  },
  {
   "cell_type": "code",
   "execution_count": 136,
   "metadata": {},
   "outputs": [],
   "source": [
    "data = []\n",
    "f = open(\"c:/my_Share/test.txt\",'r')\n",
    "while True:\n",
    "    line = f.readline()\n",
    "    if not line:\n",
    "        break\n",
    "    else:\n",
    "        if 'java' in line:\n",
    "            data += [line.replace('java','python')]\n",
    "        else:\n",
    "            data += [line]\n",
    "f.close()\n",
    "\n",
    "ff = open(\"c:/my_Share/test.txt\",'w')\n",
    "for i in data:\n",
    "    ff.write(i)\n",
    "ff.close()"
   ]
  },
  {
   "cell_type": "markdown",
   "metadata": {},
   "source": [
    "2. 사용자의 입력을 파일(test.txt)에 저장하는 프로그램을 작성해 보자. \n",
    "(단 프로그램을 다시 실행하더라도 기존에 작성한 내용을 유지하고 새로 입력한 내용을 추가해야 한다.)"
   ]
  },
  {
   "cell_type": "code",
   "execution_count": 29,
   "metadata": {},
   "outputs": [],
   "source": [
    "def add(data):\n",
    "    f = open(\"c:/my_Share/test2.txt\",'a')\n",
    "    f.write('\\n'+data)\n",
    "    f.close()"
   ]
  },
  {
   "cell_type": "code",
   "execution_count": 30,
   "metadata": {},
   "outputs": [
    {
     "name": "stdout",
     "output_type": "stream",
     "text": [
      "추가할 내용을 입력하세요 : 123333\n"
     ]
    }
   ],
   "source": [
    "data = input('추가할 내용을 입력하세요 : ')\n",
    "add(data)"
   ]
  },
  {
   "cell_type": "markdown",
   "metadata": {},
   "source": [
    "3. 다음은 Calculator 클래스이다.\n",
    "\n",
    "class Calculator:\n",
    "    def __init__(self):\n",
    "        self.value = 0\n",
    "\n",
    "    def add(self, val):\n",
    "        self.value += val\n",
    "위 클래스를 상속하는 UpgradeCalculator를 만들고 값을 뺄 수 있는 minus 메서드를 추가해 보자. 즉 다음과 같이 동작하는 클래스를 만들어야 한다.\n",
    "\n",
    "cal = UpgradeCalculator()\n",
    "cal.add(10)\n",
    "cal.minus(7)\n",
    "\n",
    "print(cal.value) # 10에서 7을 뺀 3을 출력"
   ]
  },
  {
   "cell_type": "code",
   "execution_count": 37,
   "metadata": {},
   "outputs": [],
   "source": [
    "class Calculator:\n",
    "    def __init__(self):\n",
    "        self.value = 0\n",
    "\n",
    "    def add(self, val):\n",
    "        self.value += val\n",
    "\n",
    "class UpgradeCalculator(Calculator):\n",
    "    def minus(self,val):\n",
    "        self.value -= val"
   ]
  },
  {
   "cell_type": "code",
   "execution_count": 38,
   "metadata": {},
   "outputs": [
    {
     "name": "stdout",
     "output_type": "stream",
     "text": [
      "3\n"
     ]
    }
   ],
   "source": [
    "cal = UpgradeCalculator()\n",
    "cal.add(10)\n",
    "cal.minus(7)\n",
    "\n",
    "print(cal.value)"
   ]
  },
  {
   "cell_type": "markdown",
   "metadata": {},
   "source": [
    "4. 객체변수 value가 100 이상의 값은 가질 수 없도록 제한하는 MaxLimitCalculator 클래스를 만들어 보자. 즉 다음과 같이 동작해야 한다.\n",
    "\n",
    "cal = MaxLimitCalculator()\n",
    "cal.add(50) # 50 더하기\n",
    "cal.add(60) # 60 더하기\n",
    "\n",
    "print(cal.value) # 100 출력\n",
    "단 반드시 다음과 같은 Calculator 클래스를 상속해서 만들어야 한다.\n",
    "\n",
    "class Calculator:\n",
    "    def __init__(self):\n",
    "        self.value = 0\n",
    "\n",
    "    def add(self, val):\n",
    "        self.value += val"
   ]
  },
  {
   "cell_type": "code",
   "execution_count": 58,
   "metadata": {},
   "outputs": [],
   "source": [
    "class Calculator:\n",
    "    def __init__(self):\n",
    "        self.value = 0\n",
    "\n",
    "    def add(self, val):\n",
    "        self.value += val\n",
    "        \n",
    "class MaxLimitCalculator(Calculator):\n",
    "    def add(self,val):\n",
    "        self.value += val\n",
    "        if self.value > 100:\n",
    "            self.value = 100\n",
    "    "
   ]
  },
  {
   "cell_type": "code",
   "execution_count": 62,
   "metadata": {},
   "outputs": [
    {
     "name": "stdout",
     "output_type": "stream",
     "text": [
      "100\n"
     ]
    }
   ],
   "source": [
    "cal = MaxLimitCalculator()\n",
    "cal.add(50) # 50 더하기\n",
    "cal.add(60) # 60 더하기\n",
    "\n",
    "print(cal.value) # 100 출력"
   ]
  },
  {
   "cell_type": "markdown",
   "metadata": {},
   "source": [
    "5. map과 lambda를 사용하여 [1, 2, 3, 4] 리스트의 각 요솟값에 3이 곱해진 리스트 [3, 6, 9, 12]를 만들어 보자."
   ]
  },
  {
   "cell_type": "code",
   "execution_count": 65,
   "metadata": {},
   "outputs": [
    {
     "name": "stdout",
     "output_type": "stream",
     "text": [
      "[3, 6, 9, 12]\n"
     ]
    }
   ],
   "source": [
    "# data = input()\n",
    "result = list(map(lambda x: x*3, [1, 2, 3, 4]))\n",
    "print(result)"
   ]
  },
  {
   "cell_type": "markdown",
   "metadata": {},
   "source": [
    "6. ???\n",
    "\n",
    "지뢰찾기 게임은 M x N 매트릭스에 위치해 있는 지뢰를 찾는 게임이다.\n",
    "\n",
    "M x N 매트릭스 상의 격자(square)는 지뢰이거나 지뢰가 아니다.\n",
    "\n",
    "지뢰 격자는 *로 표시한다. 지뢰가 아닌 격자(square)는 숫자로 표시하며 그 숫자는 인접해 있는 지뢰의 수를 의미한다. (격자(sqaure)는 최대 8개의 인접한 지뢰를 가질 수 있다.)\n",
    "\n",
    "다음은 4x4 매트릭스에서 2개의 지뢰(*)를 표시하는 방법이다.\n",
    "\n",
    "*...\n",
    "....\n",
    ".*..\n",
    "....\n",
    "이 게임의 목표는 지뢰의 위치(*)를 제외한 나머지 격자들의 숫자를 맞추는 것이다.\n",
    "\n",
    "위 경우의 답은 아래와 같다.\n",
    "\n",
    "*100\n",
    "2210\n",
    "1*10\n",
    "1110\n",
    "입력\n",
    "\n",
    "첫번째 줄은 M x N 의 M(행)과 N(열)에 해당되는 숫자이다. N과 M은 0보다 크고 100 이하이다. (0< N, M <=100) 그 다음 M개의 줄이 차례로 입력되고 각 줄은 정확하게 N개의 문자가 입력된다. 지뢰 격자는 *로 표시하며 지뢰가 아닌 격자는 .(dot)로 표시한다.\n",
    "\n",
    "출력\n",
    "\n",
    "지뢰(*)를 제외한 나머지 격자의 숫자값을 찾아서 M x N 매트릭스를 출력한다."
   ]
  },
  {
   "cell_type": "code",
   "execution_count": 131,
   "metadata": {},
   "outputs": [
    {
     "name": "stdout",
     "output_type": "stream",
     "text": [
      "4 4\n",
      "*...\n",
      "....\n",
      ".*..\n",
      "....\n",
      "*100\n",
      "2210\n",
      "1*10\n",
      "1110\n"
     ]
    }
   ],
   "source": [
    "row = []\n",
    "M,N = input().split(' ')\n",
    "M = int(M)\n",
    "N = int(N)\n",
    "for i in range(M):\n",
    "    a = []\n",
    "    a += input()\n",
    "    row += [a]\n",
    "\n",
    "\n",
    "result = []\n",
    "for i in range(M):\n",
    "    a = []\n",
    "    for j in range(N):\n",
    "        a += [0]\n",
    "    result += [a]\n",
    "\n",
    "for i in range(M):\n",
    "    for j in range(N):\n",
    "        if row[i][j] == '*':\n",
    "            result[i][j] = '*'\n",
    "            continue\n",
    "            \n",
    "        count = 0\n",
    "        if i == 0:\n",
    "            if j == 0:\n",
    "                if row[i][j+1] == '*':count += 1\n",
    "                if row[i+1][j] == '*':count += 1\n",
    "                if row[i+1][j+1] == '*':count += 1\n",
    "            elif j == N-1:\n",
    "                if row[i][j-1] == '*':count += 1\n",
    "                if row[i+1][j-1] == '*':count += 1\n",
    "                if row[i+1][j] == '*':count += 1\n",
    "            else:\n",
    "                if row[i][j-1] == '*':count += 1\n",
    "                if row[i][j+1] == '*':count += 1\n",
    "                if row[i+1][j-1] == '*':count += 1\n",
    "                if row[i+1][j] == '*':count += 1\n",
    "                if row[i+1][j+1] == '*':count += 1\n",
    "        \n",
    "        elif i == M-1:\n",
    "            if j == 0:\n",
    "                if row[i-1][j] == '*':count += 1\n",
    "                if row[i-1][j+1] == '*':count += 1\n",
    "                if row[i][j+1] == '*':count += 1\n",
    "            elif j == N-1:\n",
    "                if row[i-1][j-1] == '*':count += 1\n",
    "                if row[i-1][j] == '*':count += 1\n",
    "                if row[i][j-1] == '*':count += 1\n",
    "            else:\n",
    "                if row[i-1][j-1] == '*':count += 1\n",
    "                if row[i-1][j] == '*':count += 1\n",
    "                if row[i-1][j+1] == '*':count += 1\n",
    "                if row[i][j-1] == '*':count += 1\n",
    "                if row[i][j+1] == '*':count += 1\n",
    "\n",
    "        \n",
    "        else:\n",
    "            if j == 0:\n",
    "                if row[i-1][j] == '*':count += 1   \n",
    "                if row[i-1][j+1] == '*':count += 1            \n",
    "                if row[i][j+1] == '*':count += 1\n",
    "                if row[i+1][j] == '*':count += 1\n",
    "                if row[i+1][j+1] == '*':count += 1\n",
    "            elif j == N-1:\n",
    "                if row[i-1][j-1] == '*':count += 1\n",
    "                if row[i-1][j] == '*':count += 1         \n",
    "                if row[i][j-1] == '*':count += 1       \n",
    "                if row[i+1][j-1] == '*':count += 1\n",
    "                if row[i+1][j] == '*':count += 1\n",
    "            else:\n",
    "                if row[i-1][j-1] == '*':count += 1\n",
    "                if row[i-1][j] == '*':count += 1   \n",
    "                if row[i-1][j+1] == '*':count += 1      \n",
    "                if row[i][j-1] == '*':count += 1       \n",
    "                if row[i][j+1] == '*':count += 1\n",
    "                if row[i+1][j-1] == '*':count += 1\n",
    "                if row[i+1][j] == '*':count += 1\n",
    "                if row[i+1][j+1] == '*':count += 1\n",
    "        result[i][j] = count\n",
    "\n",
    "for i in range(M):\n",
    "    for j in range(N):\n",
    "        print(result[i][j],end='')\n",
    "    print(\"\")"
   ]
  },
  {
   "cell_type": "code",
   "execution_count": 138,
   "metadata": {},
   "outputs": [],
   "source": [
    "def matrix(M,N):\n",
    "    row = []\n",
    "    M = int(M)\n",
    "    N = int(N)\n",
    "    for i in range(M):\n",
    "        a = []\n",
    "        a += input()\n",
    "        row += [a]\n",
    "\n",
    "\n",
    "    result = []\n",
    "    for i in range(M):\n",
    "        a = []\n",
    "        for j in range(N):\n",
    "            a += [0]\n",
    "        result += [a]\n",
    "\n",
    "    for i in range(M):\n",
    "        for j in range(N):\n",
    "            if row[i][j] == '*':\n",
    "                result[i][j] = '*'\n",
    "                continue\n",
    "\n",
    "            count = 0\n",
    "            if i == 0:\n",
    "                if j == 0:\n",
    "                    if row[i][j+1] == '*':count += 1\n",
    "                    if row[i+1][j] == '*':count += 1\n",
    "                    if row[i+1][j+1] == '*':count += 1\n",
    "                elif j == N-1:\n",
    "                    if row[i][j-1] == '*':count += 1\n",
    "                    if row[i+1][j-1] == '*':count += 1\n",
    "                    if row[i+1][j] == '*':count += 1\n",
    "                else:\n",
    "                    if row[i][j-1] == '*':count += 1\n",
    "                    if row[i][j+1] == '*':count += 1\n",
    "                    if row[i+1][j-1] == '*':count += 1\n",
    "                    if row[i+1][j] == '*':count += 1\n",
    "                    if row[i+1][j+1] == '*':count += 1\n",
    "\n",
    "            elif i == M-1:\n",
    "                if j == 0:\n",
    "                    if row[i-1][j] == '*':count += 1\n",
    "                    if row[i-1][j+1] == '*':count += 1\n",
    "                    if row[i][j+1] == '*':count += 1\n",
    "                elif j == N-1:\n",
    "                    if row[i-1][j-1] == '*':count += 1\n",
    "                    if row[i-1][j] == '*':count += 1\n",
    "                    if row[i][j-1] == '*':count += 1\n",
    "                else:\n",
    "                    if row[i-1][j-1] == '*':count += 1\n",
    "                    if row[i-1][j] == '*':count += 1\n",
    "                    if row[i-1][j+1] == '*':count += 1\n",
    "                    if row[i][j-1] == '*':count += 1\n",
    "                    if row[i][j+1] == '*':count += 1\n",
    "\n",
    "\n",
    "            else:\n",
    "                if j == 0:\n",
    "                    if row[i-1][j] == '*':count += 1   \n",
    "                    if row[i-1][j+1] == '*':count += 1            \n",
    "                    if row[i][j+1] == '*':count += 1\n",
    "                    if row[i+1][j] == '*':count += 1\n",
    "                    if row[i+1][j+1] == '*':count += 1\n",
    "                elif j == N-1:\n",
    "                    if row[i-1][j-1] == '*':count += 1\n",
    "                    if row[i-1][j] == '*':count += 1         \n",
    "                    if row[i][j-1] == '*':count += 1       \n",
    "                    if row[i+1][j-1] == '*':count += 1\n",
    "                    if row[i+1][j] == '*':count += 1\n",
    "                else:\n",
    "                    if row[i-1][j-1] == '*':count += 1\n",
    "                    if row[i-1][j] == '*':count += 1   \n",
    "                    if row[i-1][j+1] == '*':count += 1      \n",
    "                    if row[i][j-1] == '*':count += 1       \n",
    "                    if row[i][j+1] == '*':count += 1\n",
    "                    if row[i+1][j-1] == '*':count += 1\n",
    "                    if row[i+1][j] == '*':count += 1\n",
    "                    if row[i+1][j+1] == '*':count += 1\n",
    "            result[i][j] = count\n",
    "\n",
    "    for i in range(M):\n",
    "        for j in range(N):\n",
    "            print(result[i][j],end='')\n",
    "        print(\"\")"
   ]
  },
  {
   "cell_type": "code",
   "execution_count": 139,
   "metadata": {},
   "outputs": [
    {
     "name": "stdout",
     "output_type": "stream",
     "text": [
      "4 4\n",
      "*...\n",
      "....\n",
      ".*..\n",
      "....\n",
      "*100\n",
      "2210\n",
      "1*10\n",
      "1110\n"
     ]
    }
   ],
   "source": [
    "M,N = input().split(' ')\n",
    "matrix(M,N)"
   ]
  },
  {
   "cell_type": "code",
   "execution_count": 140,
   "metadata": {},
   "outputs": [
    {
     "name": "stdout",
     "output_type": "stream",
     "text": [
      "3 5\n",
      "**...\n",
      ".....\n",
      ".*...\n",
      "**100\n",
      "33200\n",
      "1*100\n"
     ]
    }
   ],
   "source": [
    "M,N = input().split(' ')\n",
    "matrix(M,N)"
   ]
  },
  {
   "cell_type": "code",
   "execution_count": 180,
   "metadata": {},
   "outputs": [
    {
     "name": "stdout",
     "output_type": "stream",
     "text": [
      "3 7\n",
      "6\n",
      "*1123*1\n",
      "111**42\n",
      "0013*3*\n"
     ]
    }
   ],
   "source": [
    "# 자동 생성\n",
    "\n",
    "M,N = input().split(' ')\n",
    "bomb = int(input())\n",
    "M = int(M)\n",
    "N = int(N)\n",
    "\n",
    "\n",
    "result = []\n",
    "for i in range(M):\n",
    "    a = []\n",
    "    for j in range(N):\n",
    "        a += [0]\n",
    "    result += [a]\n",
    "\n",
    "    \n",
    "import random\n",
    "bomb_location = []\n",
    "for i in range(bomb):\n",
    "    x = random.randint(0,M-1)\n",
    "    y = random.randint(0,N-1)\n",
    "    bomb_location.append([x,y])\n",
    "\n",
    "\n",
    "\n",
    "for a in range(bomb):\n",
    "    for i in range(-1,2):        \n",
    "        if bomb_location[a][0]+i != -1 and bomb_location[a][0]+i != M and bomb_location[a][1]-1 != -1 :\n",
    "            result[bomb_location[a][0]+i][bomb_location[a][1]-1] += 1\n",
    "        \n",
    "        if bomb_location[a][0]+i != -1 and bomb_location[a][0]+i != M:\n",
    "            result[bomb_location[a][0]+i][bomb_location[a][1]] += 1\n",
    "        \n",
    "        if bomb_location[a][0]+i != -1 and bomb_location[a][0]+i != M and bomb_location[a][1]+1 != N:\n",
    "            result[bomb_location[a][0]+i][bomb_location[a][1]+1] += 1 \n",
    "\n",
    "for i,j in bomb_location:\n",
    "    result[i][j] = \"*\"\n",
    "            \n",
    "for i in range(M):\n",
    "    for j in range(N):\n",
    "        print(result[i][j],end='')\n",
    "    print(\"\")"
   ]
  },
  {
   "cell_type": "code",
   "execution_count": null,
   "metadata": {},
   "outputs": [],
   "source": []
  }
 ],
 "metadata": {
  "kernelspec": {
   "display_name": "Python 3",
   "language": "python",
   "name": "python3"
  },
  "language_info": {
   "codemirror_mode": {
    "name": "ipython",
    "version": 3
   },
   "file_extension": ".py",
   "mimetype": "text/x-python",
   "name": "python",
   "nbconvert_exporter": "python",
   "pygments_lexer": "ipython3",
   "version": "3.7.4"
  }
 },
 "nbformat": 4,
 "nbformat_minor": 2
}
