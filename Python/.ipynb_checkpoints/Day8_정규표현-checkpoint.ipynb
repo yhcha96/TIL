{
 "cells": [
  {
   "cell_type": "code",
   "execution_count": null,
   "metadata": {},
   "outputs": [],
   "source": [
    "# 정규표현\n",
    "\n",
    "[] : [] 사이의 문자들과 매치\n",
    "정규식 : [ABCDE]\n",
    "문자열 : A : 매치\n",
    "         BLUE : 매치\n",
    "         DRY : 매치\n",
    "         SKY : 매치안됨\n",
    "            \n",
    "\n",
    "\\\n",
    "\\d == [0-9]\n",
    "\\D == [^0-9]\n",
    "\\w == [a-zA-Z0-9_] : 문자와 숫자, _까지 가능\n",
    "\\W == [^a-zA-Z0-9_]\n",
    "\n",
    "\n",
    ". : 모든 문자\n",
    "젇규식 : a.b == a + 모든문자 + b\n",
    "문자열 : aab : 매치\n",
    "         abb : 매치 안됨\n",
    "         a0b : 매치\n",
    "            \n",
    "\n",
    "* : 반복(0번 이상)\n",
    "정규식 : ca*t\n",
    "문자열 : ct : 매치\n",
    "         cat : 매치\n",
    "         caaaat : 매치\n",
    "\n",
    "\n",
    "+ : 반복(1번 이상)\n",
    "정규식 : ca+t\n",
    "문자열 : ct : 매치 안됨\n",
    "         cat : 매치\n",
    "         caaaaaat : 매치\n",
    "            \n",
    "            \n",
    "            \n",
    "{}\n",
    "정규식 : ca{2}t : c + a는 반드시 2번 반복 + t\n",
    "문자열 : cat : 매치 안됨\n",
    "         caat : 매치\n",
    "             \n",
    "정규식 : ca{2,5}t : c + a는 21번이상 5번 이하 + t\n",
    "문자열 : cat : 매치안됨\n",
    "         caaat : 매치\n",
    "                \n",
    "                \n",
    "?\n",
    "ca?t : c + a(있어도 되고 없어도 됨) + t"
   ]
  },
  {
   "cell_type": "code",
   "execution_count": 169,
   "metadata": {},
   "outputs": [
    {
     "name": "stdout",
     "output_type": "stream",
     "text": [
      "<re.Match object; span=(0, 3), match='abb'>\n"
     ]
    }
   ],
   "source": [
    "import re\n",
    "a = re.match(\"abb\", \"abb\")\n",
    "print(a)"
   ]
  },
  {
   "cell_type": "code",
   "execution_count": 5,
   "metadata": {},
   "outputs": [
    {
     "name": "stdout",
     "output_type": "stream",
     "text": [
      "<re.Match object; span=(0, 1), match='h'>\n",
      "<re.Match object; span=(0, 7), match='hellohi'>\n",
      "<re.Match object; span=(0, 10), match='hellohi123'>\n"
     ]
    }
   ],
   "source": [
    "print(re.match(\"[a-zA-Z]\",\"hellohi123\"))\n",
    "print(re.match(\"[a-zA-Z]*\",\"hellohi123\"))\n",
    "print(re.match(\"[a-zA-Z0-9]*\",\"hellohi123\"))"
   ]
  },
  {
   "cell_type": "code",
   "execution_count": 7,
   "metadata": {},
   "outputs": [
    {
     "name": "stdout",
     "output_type": "stream",
     "text": [
      "<re.Match object; span=(0, 3), match='반가워'>\n",
      "<re.Match object; span=(0, 5), match='반가워안녕'>\n"
     ]
    }
   ],
   "source": [
    "print(re.match(\"[가-힣]*\",\"반가워 안녕 ㅋㅋㅋ ㅎㅎ\"))\n",
    "print(re.match(\"[가-힣]*\",\"반가워안녕ㅋㅋㅋㅎㅎ\"))"
   ]
  },
  {
   "cell_type": "code",
   "execution_count": 15,
   "metadata": {},
   "outputs": [
    {
     "name": "stdout",
     "output_type": "stream",
     "text": [
      "None\n",
      "<re.Match object; span=(0, 3), match='123'>\n"
     ]
    }
   ],
   "source": [
    "print(re.match(\"[^a-zA-Z]\",\"hellohi123\"))\n",
    "print(re.match(\"[^a-zA-Z]*\",\"123hellohi123\"))"
   ]
  },
  {
   "cell_type": "code",
   "execution_count": 13,
   "metadata": {},
   "outputs": [
    {
     "name": "stdout",
     "output_type": "stream",
     "text": [
      "None\n",
      "<re.Match object; span=(0, 1), match='h'>\n"
     ]
    }
   ],
   "source": [
    "# ^가 대괄호 안에 있을때 \n",
    "print(re.match(\"[^a-zA-Z]\",\"hellohi123\"))\n",
    "\n",
    "# ^가 대괄호 밖에 있을때- > 패턴 문자로 시작하면 매치\n",
    "print(re.match(\"^[a-zA-Z]\",\"hellohi123\"))"
   ]
  },
  {
   "cell_type": "code",
   "execution_count": 16,
   "metadata": {},
   "outputs": [
    {
     "name": "stdout",
     "output_type": "stream",
     "text": [
      "<re.Match object; span=(0, 3), match='123'>\n"
     ]
    }
   ],
   "source": [
    "print(re.match(\"[0-9]*\",\"123abc456\"))"
   ]
  },
  {
   "cell_type": "code",
   "execution_count": 24,
   "metadata": {},
   "outputs": [
    {
     "name": "stdout",
     "output_type": "stream",
     "text": [
      "<re.Match object; span=(6, 9), match='456'>\n"
     ]
    }
   ],
   "source": [
    "# 뒤에서부터 하려면 search 사용\n",
    "print(re.search(\"[0-9]*$\",\"123abc456\"))"
   ]
  },
  {
   "cell_type": "code",
   "execution_count": 26,
   "metadata": {},
   "outputs": [
    {
     "name": "stdout",
     "output_type": "stream",
     "text": [
      "None\n",
      "<re.Match object; span=(1, 3), match='**'>\n"
     ]
    }
   ],
   "source": [
    "# 특수문자는 앞에 역슬래쉬를 붙여야 함\n",
    "\n",
    "\n",
    "# 수식에서 제곱이 사용되었는지 여부 확인\n",
    "print(re.match(\"\\*+\",\"3**8\")) # 3의 8승\n",
    "print(re.search(\"\\*+\",\"3**8\"))"
   ]
  },
  {
   "cell_type": "code",
   "execution_count": 28,
   "metadata": {},
   "outputs": [
    {
     "name": "stdout",
     "output_type": "stream",
     "text": [
      "<re.Match object; span=(0, 3), match='ab가'>\n"
     ]
    }
   ],
   "source": [
    "print(re.match(\"\\D+\",\"ab가10\")) # \\D :숫자가 아닌것"
   ]
  },
  {
   "cell_type": "code",
   "execution_count": 30,
   "metadata": {},
   "outputs": [
    {
     "name": "stdout",
     "output_type": "stream",
     "text": [
      "<re.Match object; span=(0, 6), match='aB가10_'>\n"
     ]
    }
   ],
   "source": [
    "print(re.match(\"\\w+\",\"aB가10_\")) # \\w : 숫자+문자+_"
   ]
  },
  {
   "cell_type": "code",
   "execution_count": 31,
   "metadata": {},
   "outputs": [
    {
     "name": "stdout",
     "output_type": "stream",
     "text": [
      "<re.Match object; span=(0, 4), match='(#:)'>\n"
     ]
    }
   ],
   "source": [
    "print(re.match(\"\\W+\",\"(#:)\")) # \\W not(숫자+문자+_)"
   ]
  },
  {
   "cell_type": "code",
   "execution_count": 41,
   "metadata": {},
   "outputs": [
    {
     "name": "stdout",
     "output_type": "stream",
     "text": [
      "<re.Match object; span=(0, 13), match='this is 4 you'>\n"
     ]
    }
   ],
   "source": [
    "# \\s : whitespace문자( \\n \\r \\f \\t 다 포함)\n",
    "print(re.match(\"[a-zA-z0-9\\s]+\",\"this is 4 you\"))"
   ]
  },
  {
   "cell_type": "code",
   "execution_count": 42,
   "metadata": {},
   "outputs": [
    {
     "data": {
      "text/plain": [
       "<re.Match object; span=(0, 3), match='123'>"
      ]
     },
     "execution_count": 42,
     "metadata": {},
     "output_type": "execute_result"
    }
   ],
   "source": [
    "# re.compile() #정규식을 저장 -> 객체(패턴)\n",
    "\n",
    "pat = re.compile(\"[0-9]+\")\n",
    "pat.match(\"123\")"
   ]
  },
  {
   "cell_type": "code",
   "execution_count": null,
   "metadata": {},
   "outputs": [],
   "source": [
    "책 p.298-302\n",
    "정규식을 작성하는 일반적인 형식\n",
    "1. 패턴을 저장(re.compile함수)\n",
    "2. 패턴을 사용하여 문자열 검색을 수행 ( match, search, findall, finditer함수 사용)\n",
    "    match :  문자열의 처음부터 정규식과 매치되는지 조사\n",
    "    search : 문자열 전체에 대해 정규식과 매치되는지 조사\n",
    "    findall : 정규식과 매치되는 모든 문자열을 리스트로 리턴\n",
    "    finditer : 정규식과 매치되는 모든 문자열을 반복가능 객체로 리턴"
   ]
  },
  {
   "cell_type": "code",
   "execution_count": 43,
   "metadata": {},
   "outputs": [],
   "source": [
    "p = re.compile(\"[a-z]+\") #패턴저장"
   ]
  },
  {
   "cell_type": "code",
   "execution_count": 45,
   "metadata": {},
   "outputs": [
    {
     "name": "stdout",
     "output_type": "stream",
     "text": [
      "매치됨 python\n",
      "<re.Match object; span=(0, 6), match='python'>\n"
     ]
    }
   ],
   "source": [
    "# match 문자열의 처음부터~ 정규식과 매치\n",
    "m = p.match(\"python\")\n",
    "if m:\n",
    "    print(\"매치됨\",m.group())\n",
    "else:\n",
    "    print(\"a매치 안될러\")\n",
    "\n",
    "print(m)"
   ]
  },
  {
   "cell_type": "code",
   "execution_count": 48,
   "metadata": {},
   "outputs": [
    {
     "name": "stdout",
     "output_type": "stream",
     "text": [
      "<re.Match object; span=(0, 6), match='python'>\n",
      "<re.Match object; span=(2, 8), match='python'>\n"
     ]
    }
   ],
   "source": [
    "m = p.search(\"python\")\n",
    "print(m)\n",
    "\n",
    "m=p.search(\"9 python 7 java\")\n",
    "print(m)"
   ]
  },
  {
   "cell_type": "code",
   "execution_count": 49,
   "metadata": {},
   "outputs": [
    {
     "name": "stdout",
     "output_type": "stream",
     "text": [
      "['ife', 'is', 'too', 'short']\n"
     ]
    }
   ],
   "source": [
    "res = p.findall(\"Life is too short\")\n",
    "print(res)"
   ]
  },
  {
   "cell_type": "code",
   "execution_count": 56,
   "metadata": {},
   "outputs": [
    {
     "name": "stdout",
     "output_type": "stream",
     "text": [
      "<callable_iterator object at 0x000002203CCD1388>\n"
     ]
    }
   ],
   "source": [
    "res = p.finditer(\"Life is too short\")\n",
    "print(res)"
   ]
  },
  {
   "cell_type": "code",
   "execution_count": 61,
   "metadata": {},
   "outputs": [
    {
     "name": "stdout",
     "output_type": "stream",
     "text": [
      "<re.Match object; span=(1, 4), match='ife'>\n",
      "<re.Match object; span=(5, 7), match='is'>\n",
      "<re.Match object; span=(8, 11), match='too'>\n",
      "<re.Match object; span=(12, 17), match='short'>\n"
     ]
    }
   ],
   "source": [
    "res = p.finditer(\"Life is too short\")\n",
    "for r in res:\n",
    "    print(r)"
   ]
  },
  {
   "cell_type": "code",
   "execution_count": 62,
   "metadata": {},
   "outputs": [
    {
     "name": "stdout",
     "output_type": "stream",
     "text": [
      "ife\n",
      "is\n",
      "too\n",
      "short\n"
     ]
    }
   ],
   "source": [
    "res = p.finditer(\"Life is too short\")\n",
    "for r in res:\n",
    "    print(r.group()) # 매치 문자열"
   ]
  },
  {
   "cell_type": "code",
   "execution_count": 63,
   "metadata": {},
   "outputs": [
    {
     "name": "stdout",
     "output_type": "stream",
     "text": [
      "1\n",
      "5\n",
      "8\n",
      "12\n"
     ]
    }
   ],
   "source": [
    "res = p.finditer(\"Life is too short\")\n",
    "for r in res:\n",
    "    print(r.start()) # 매치 시작 위치"
   ]
  },
  {
   "cell_type": "code",
   "execution_count": 64,
   "metadata": {},
   "outputs": [
    {
     "name": "stdout",
     "output_type": "stream",
     "text": [
      "4\n",
      "7\n",
      "11\n",
      "17\n"
     ]
    }
   ],
   "source": [
    "res = p.finditer(\"Life is too short\")\n",
    "for r in res:\n",
    "    print(r.end()) # 매치 끝 위치"
   ]
  },
  {
   "cell_type": "code",
   "execution_count": 65,
   "metadata": {},
   "outputs": [
    {
     "name": "stdout",
     "output_type": "stream",
     "text": [
      "(1, 4)\n",
      "(5, 7)\n",
      "(8, 11)\n",
      "(12, 17)\n"
     ]
    }
   ],
   "source": [
    "res = p.finditer(\"Life is too short\")\n",
    "for r in res:\n",
    "    print(r.span()) # 매치 (시작 위치, 끝위치)"
   ]
  },
  {
   "cell_type": "code",
   "execution_count": 67,
   "metadata": {},
   "outputs": [
    {
     "data": {
      "text/plain": [
       "<re.Match object; span=(0, 5), match='multi'>"
      ]
     },
     "execution_count": 67,
     "metadata": {},
     "output_type": "execute_result"
    }
   ],
   "source": [
    "# 일반적으로 많이 쓰는 표현\n",
    "p = re.compile(\"[a-z]+\")\n",
    "m = p.match(\"multi\")\n",
    "# <=> 같은 표현\n",
    "re.match(\"[a-z]+\",\"multi\")"
   ]
  },
  {
   "cell_type": "code",
   "execution_count": 73,
   "metadata": {},
   "outputs": [
    {
     "name": "stdout",
     "output_type": "stream",
     "text": [
      "<re.Match object; span=(0, 3), match='acb'>\n",
      "None\n",
      "<re.Match object; span=(0, 3), match='a\\nb'>\n"
     ]
    }
   ],
   "source": [
    "# 정규식 컴파일 옵션\n",
    "\n",
    "p = re.compile(\"a.b\") # .은 모든 문자와 매치 but \\n 문자 제외\n",
    "m = p.match(\"acb\")\n",
    "print(m)\n",
    "\n",
    "m2 = p.match(\"a\\nb\")\n",
    "print(m2)\n",
    "\n",
    "# DOTALL 옵션 : .을 사용할때 \\n 문자도 표함하고자 하는 경우\n",
    "p = re.compile(\"a.b\",re.DOTALL)\n",
    "m3 = p.match(\"a\\nb\")\n",
    "print(m3)"
   ]
  },
  {
   "cell_type": "code",
   "execution_count": 76,
   "metadata": {},
   "outputs": [
    {
     "name": "stdout",
     "output_type": "stream",
     "text": [
      "<re.Match object; span=(0, 1), match='p'>\n",
      "<re.Match object; span=(0, 1), match='P'>\n"
     ]
    }
   ],
   "source": [
    "# re.I 옵션 : ignorecase는 대소문자 구분없이 수행하고자 할때\n",
    "\n",
    "p = re.compile(\"[a-z]\")\n",
    "print(p.match(\"pYthon\"))\n",
    "\n",
    "p = re.compile(\"[a-z]\",re.I) # [a-zA-Z]와 같음\n",
    "print(p.match(\"Python\"))\n"
   ]
  },
  {
   "cell_type": "code",
   "execution_count": 84,
   "metadata": {},
   "outputs": [
    {
     "name": "stdout",
     "output_type": "stream",
     "text": [
      "<re.Match object; span=(0, 10), match='python one'>\n",
      "<re.Match object; span=(0, 10), match='python one'>\n",
      "['python one']\n",
      "['python one', 'python two']\n"
     ]
    }
   ],
   "source": [
    "# MULTILINE 옵션\n",
    "\n",
    "text = \"\"\"python one\n",
    "python two\n",
    "you need python\n",
    "\"\"\"\n",
    "p = re.compile(\"^python\\s\\w+\") #\n",
    "print(p.match(text))\n",
    "print(p.search(text))\n",
    "print(p.findall(text)) # python one만 나오는 이유 => 문자열 전체의 저음에 대해서 적용하기 때문에\n",
    "\n",
    "# 문자열의 각 라인 단위로 정규식(^)을 적용 => MULTILINE\n",
    "p = re.compile(\"^python\\s\\w+\", re.MULTILINE)\n",
    "print(p.findall(text))"
   ]
  },
  {
   "cell_type": "code",
   "execution_count": 85,
   "metadata": {},
   "outputs": [
    {
     "name": "stdout",
     "output_type": "stream",
     "text": [
      "<re.Match object; span=(0, 3), match='Bye'>\n"
     ]
    }
   ],
   "source": [
    "pat = re.compile(\"Bye\")\n",
    "m = pat.match(\"ByeHello\")\n",
    "print(m)"
   ]
  },
  {
   "cell_type": "code",
   "execution_count": 86,
   "metadata": {},
   "outputs": [
    {
     "name": "stdout",
     "output_type": "stream",
     "text": [
      "<re.Match object; span=(0, 3), match='Bye'>\n"
     ]
    }
   ],
   "source": [
    "# | 기호\n",
    "pat = re.compile(\"Bye|Hi\")\n",
    "m = pat.match(\"ByeHello\")\n",
    "print(m)"
   ]
  },
  {
   "cell_type": "code",
   "execution_count": 87,
   "metadata": {},
   "outputs": [
    {
     "name": "stdout",
     "output_type": "stream",
     "text": [
      "<re.Match object; span=(0, 2), match='Hi'>\n"
     ]
    }
   ],
   "source": [
    "pat = re.compile(\"Bye|Hi\")\n",
    "m = pat.match(\"HiHello\")\n",
    "print(m)"
   ]
  },
  {
   "cell_type": "raw",
   "metadata": {},
   "source": [
    "pat = re.compile(\"Bye|Hi\")\n",
    "m = pat.match(\"Hello\")\n",
    "print(m)"
   ]
  },
  {
   "cell_type": "code",
   "execution_count": 89,
   "metadata": {},
   "outputs": [
    {
     "name": "stdout",
     "output_type": "stream",
     "text": [
      "<re.Match object; span=(0, 4), match='Life'>\n"
     ]
    }
   ],
   "source": [
    "print(re.search(\"^Life\",\"Life is too short\"))"
   ]
  },
  {
   "cell_type": "code",
   "execution_count": 91,
   "metadata": {},
   "outputs": [
    {
     "name": "stdout",
     "output_type": "stream",
     "text": [
      "<re.Match object; span=(12, 17), match='short'>\n"
     ]
    }
   ],
   "source": [
    "print(re.search(\"short$\",\"Life is too short\"))"
   ]
  },
  {
   "cell_type": "code",
   "execution_count": 94,
   "metadata": {},
   "outputs": [
    {
     "name": "stdout",
     "output_type": "stream",
     "text": [
      "<re.Match object; span=(0, 12), match='xyzxyzxyzxyz'>\n",
      "xyzxyzxyzxyz\n"
     ]
    }
   ],
   "source": [
    "# 패턴식 내부에 괄호로 묶어서 표현\n",
    "# 괄호로 묶인 부분이 그룹이 됨\n",
    "#  xyz 문자열이 계속해서 반복되는지 확인하는 정규식? => (xyz)+\n",
    "\n",
    "pat =re.compile(\"(xyz)+\")\n",
    "m=pat.search(\"xyzxyzxyzxyz ok\")\n",
    "print(m)\n",
    "print(m.group()) # group()을 사용하면 매칭된 문자열 확인 가능"
   ]
  },
  {
   "cell_type": "code",
   "execution_count": 110,
   "metadata": {},
   "outputs": [
    {
     "name": "stdout",
     "output_type": "stream",
     "text": [
      "<re.Match object; span=(0, 17), match='kim 010-2345-6789'>\n"
     ]
    }
   ],
   "source": [
    "'''\n",
    "kim 010-2345-6789\n",
    "hong 02-1234-2678\n",
    "lee seoul\n",
    "park 010 1234 5678\n",
    "'''\n",
    "pat = re.compile(\"\\w+\\s+\\d+[-]\\d+[-]\\d+\")  # pat = re.compile(\"[a-z]+\\s+([0-9]+[-])+[0-9]+\")\n",
    "m = pat.search(\"kim 010-2345-6789\")\n",
    "print(m)"
   ]
  },
  {
   "cell_type": "code",
   "execution_count": 111,
   "metadata": {},
   "outputs": [
    {
     "name": "stdout",
     "output_type": "stream",
     "text": [
      "kim 010-2345-6789\n"
     ]
    }
   ],
   "source": [
    "print(m.group())"
   ]
  },
  {
   "cell_type": "code",
   "execution_count": 116,
   "metadata": {},
   "outputs": [
    {
     "name": "stdout",
     "output_type": "stream",
     "text": [
      "kim\n",
      "kim 010-2345-6789\n"
     ]
    }
   ],
   "source": [
    "# () : 그루핑 기호\n",
    "# 이름 그룹핑 => (\\w+)\n",
    "pat = re.compile(\"(\\w+)\\s+\\d+[-]\\d+[-]\\d+\")\n",
    "m = pat.search(\"kim 010-2345-6789\")\n",
    "print(m.group(1)) # 첫번째 그룹에 해당되는 문자열\n",
    "# print(m.group(2)) # 해당 그룹이 없으므로 헤러\n",
    "print(m.group(0)) # 매칭된 전체 문자열"
   ]
  },
  {
   "cell_type": "code",
   "execution_count": 117,
   "metadata": {},
   "outputs": [
    {
     "name": "stdout",
     "output_type": "stream",
     "text": [
      "kim 010-2345-6789\n",
      "kim\n",
      "010\n",
      "2345\n",
      "6789\n"
     ]
    }
   ],
   "source": [
    "pat = re.compile(\"(\\w+)\\s+(\\d+)[-](\\d+)[-](\\d+)\")\n",
    "m = pat.search(\"kim 010-2345-6789\")\n",
    "print(m.group(0))\n",
    "print(m.group(1))\n",
    "print(m.group(2))\n",
    "print(m.group(3))\n",
    "print(m.group(4))"
   ]
  },
  {
   "cell_type": "code",
   "execution_count": 118,
   "metadata": {},
   "outputs": [
    {
     "name": "stdout",
     "output_type": "stream",
     "text": [
      "kim 010-2345-6789\n",
      "kim\n",
      "010\n",
      "2345-6789\n",
      "2345\n",
      "6789\n"
     ]
    }
   ],
   "source": [
    "pat = re.compile(\"(\\w+)\\s+(\\d+)[-]((\\d+)[-](\\d+))\")\n",
    "m = pat.search(\"kim 010-2345-6789\")\n",
    "print(m.group(0))\n",
    "print(m.group(1))\n",
    "print(m.group(2))\n",
    "print(m.group(3))\n",
    "print(m.group(4))\n",
    "print(m.group(5))"
   ]
  },
  {
   "cell_type": "code",
   "execution_count": 124,
   "metadata": {},
   "outputs": [
    {
     "name": "stdout",
     "output_type": "stream",
     "text": [
      "kim 010-2345-6789\n",
      "kim\n",
      "kim\n"
     ]
    }
   ],
   "source": [
    "# 그룹핑시 이름을 부여 가능\n",
    "# pat = re.compile(\"(\\w+)\\s+(\\d+)[-]((\\d+)[-](\\d+))\")\n",
    "# 이름부여 : 형식 => (?<그룹명>....)\n",
    "# (\\w+) => (?P<name>\\w+)\n",
    "\n",
    "pat = re.compile(\"(?P<name>\\w+)\\s+(\\d+)[-]((\\d+)[-](\\d+))\")\n",
    "m = pat.search(\"kim 010-2345-6789\")\n",
    "print(m.group(0))\n",
    "print(m.group(1))\n",
    "print(m.group(\"name\"))"
   ]
  },
  {
   "cell_type": "code",
   "execution_count": 132,
   "metadata": {},
   "outputs": [
    {
     "data": {
      "text/plain": [
       "'color socks and color shooes'"
      ]
     },
     "execution_count": 132,
     "metadata": {},
     "output_type": "execute_result"
    }
   ],
   "source": [
    "# 텍스트 수집 -> 전처리 -> 워드임베딩(숫자 변환(인코딩)) -> 얕은(깊은) 신경망 모델 설계 -> 모델링 -> 분류/예측 등\n",
    "pat = re.compile(\"red\")\n",
    "pat.sub(\"color\",\"blue socks and red shooes\") # 치환 red를 color로 바꾸어라\n",
    "# pat.sub(바꿀 문자열,대상문자열)\n",
    "# 해석? 대상문자열에서 패턴이 발견되면 바꿀 문자열로 변경해라\n",
    "\n",
    "# blue 또는 red는 모두 color로 변경하시오\n",
    "# 치환결과 => \"color socks and color shooes\"\n",
    "pat = re.compile(\"red|blue\") # |기호 사용!!!\n",
    "pat.sub(\"color\",\"blue socks and red shooes\")"
   ]
  },
  {
   "cell_type": "code",
   "execution_count": 133,
   "metadata": {},
   "outputs": [
    {
     "data": {
      "text/plain": [
       "\"You R dozing iff. I'm also sleepy.\""
      ]
     },
     "execution_count": 133,
     "metadata": {},
     "output_type": "execute_result"
    }
   ],
   "source": [
    "pat = re.compile(\"are\")\n",
    "pat.sub(\"R\", \"You are dozing iff. I'm also sleepy.\")\n",
    "# 문자열에서 are 패턴이 발견되면 R로 치환"
   ]
  },
  {
   "cell_type": "code",
   "execution_count": 144,
   "metadata": {},
   "outputs": [
    {
     "name": "stdout",
     "output_type": "stream",
     "text": [
      "대한민국 좋은 나라 대한민국 대한민국 대한민국\n",
      "대한민국 좋은 나라 대한민국 대한민국 대한민국\n"
     ]
    }
   ],
   "source": [
    "pat = re.compile(\"우리나라|한국|코리아|대한민국\")\n",
    "print(pat.sub(\"대한민국\",\"우리나라 좋은 나라 한국 코리아 대한민국\"))\n",
    "\n",
    "\n",
    "# re.compile(\"패턴\")\n",
    "# re.sub(\"바꿀 문자열\",\"문자열\")\n",
    "# 문자열에서 패턴에 매칭되는 부분은 바꿀문자열\n",
    "\n",
    "# re.sub('패턴','바꿀문자열','문자열')로도 가능\n",
    "\n",
    "print(re.sub(\"우리나라|한국|코리아|대한민국\",\"대한민국\",\"우리나라 좋은 나라 한국 코리아 대한민국\"))"
   ]
  },
  {
   "cell_type": "code",
   "execution_count": 135,
   "metadata": {},
   "outputs": [
    {
     "name": "stdout",
     "output_type": "stream",
     "text": [
      "<re.Match object; span=(0, 7), match='100 200'>\n"
     ]
    }
   ],
   "source": [
    "g = re.match(\"\\w+\\s+\\w+\",\"100 200\")\n",
    "print(g)"
   ]
  },
  {
   "cell_type": "code",
   "execution_count": 141,
   "metadata": {},
   "outputs": [
    {
     "name": "stdout",
     "output_type": "stream",
     "text": [
      "sumPrice\n",
      "50\n",
      "sumPrice\n",
      "50\n"
     ]
    }
   ],
   "source": [
    "#함수에서 '이름','인수' 추출하는 패턴식\n",
    "# 함수구문 : sumPrice(50)\n",
    "# 함수명 : sumPrice\n",
    "# 인수 : 50\n",
    "\n",
    "# g = re.match(\"(?P<func>[a-z]\\w+)[(](?P<arg>\\w+)[)]\",\"sumPrice(50)\")\n",
    "g = re.match(\"(함수명)\\((인수)\\)\",\"sumPrice(50)\")\n",
    "g = re.match(\"(?P<func>[a-z]\\w+)\\((?P<arg>\\w+)\\)\",\"sumPrice(50)\")\n",
    "\n",
    "print(g.group(\"func\")) # sumPrice\n",
    "print(g.group(\"arg\")) # 50\n",
    "print(g.group(1)) # sumPrice\n",
    "print(g.group(2)) # 50"
   ]
  },
  {
   "cell_type": "code",
   "execution_count": 142,
   "metadata": {},
   "outputs": [
    {
     "name": "stdout",
     "output_type": "stream",
     "text": [
      "['10', '20', '40']\n"
     ]
    }
   ],
   "source": [
    "print(re.findall(\"[0-9]+\",\"10 20 th 40\"))"
   ]
  },
  {
   "cell_type": "code",
   "execution_count": 159,
   "metadata": {},
   "outputs": [
    {
     "name": "stdout",
     "output_type": "stream",
     "text": [
      "101-1234-5678 park\n"
     ]
    }
   ],
   "source": [
    "# sub함수, 그룹핑\n",
    "# park 101-1234-5678 => 010-1234-5678 park\n",
    "# g = re.match(\"(?P<name>[a-z]+)\\s(?P<phone>\\d+[-]\\d+[-]\\d+)\",\"park 101-1234-5678\")\n",
    "# print(re.sub(g.group(\"name\"),g.group(\"phone\"),\"park 101-1234-5678\"))\n",
    "# print(re.sub(g.group(1),g.group(1),\"park 101-1234-5678\"))\n",
    "\n",
    "\n",
    "p = re.compile(\"(?P<name>[a-z]+)\\s(?P<phone>\\d+[-]\\d+[-]\\d+)\")\n",
    "print(p.sub(\"\\g<2> \\g<1>\",\"park 101-1234-5678\"))"
   ]
  },
  {
   "cell_type": "code",
   "execution_count": 160,
   "metadata": {},
   "outputs": [],
   "source": [
    "def toHex(mat):\n",
    "    val = int(mat.group())\n",
    "    return hex(val)"
   ]
  },
  {
   "cell_type": "code",
   "execution_count": 162,
   "metadata": {},
   "outputs": [
    {
     "data": {
      "text/plain": [
       "'call 0x72, 0x63 for user code'"
      ]
     },
     "execution_count": 162,
     "metadata": {},
     "output_type": "execute_result"
    }
   ],
   "source": [
    "pat = re.compile(\"\\d+\")\n",
    "pat.sub(toHex,\"call 114, 99 for user code\")"
   ]
  },
  {
   "cell_type": "code",
   "execution_count": null,
   "metadata": {},
   "outputs": [],
   "source": [
    "토지 파일 전처리\n",
    "-저장명추출\n",
    "-편 제목 추출\n",
    "-각 편에 대한 장 구성 정보 추출\n",
    "-인용부호(겹따옴표)로 묶여있는 대사만 추출 -> 챗봇\n",
    "-치환(양반,사람 -> 사람 )\n"
   ]
  },
  {
   "cell_type": "code",
   "execution_count": null,
   "metadata": {},
   "outputs": [],
   "source": [
    "f = open(\"\")"
   ]
  }
 ],
 "metadata": {
  "kernelspec": {
   "display_name": "Python 3",
   "language": "python",
   "name": "python3"
  },
  "language_info": {
   "codemirror_mode": {
    "name": "ipython",
    "version": 3
   },
   "file_extension": ".py",
   "mimetype": "text/x-python",
   "name": "python",
   "nbconvert_exporter": "python",
   "pygments_lexer": "ipython3",
   "version": "3.7.4"
  }
 },
 "nbformat": 4,
 "nbformat_minor": 2
}
