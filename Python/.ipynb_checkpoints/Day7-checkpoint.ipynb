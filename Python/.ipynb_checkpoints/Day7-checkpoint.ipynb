{
 "cells": [
  {
   "cell_type": "markdown",
   "metadata": {},
   "source": [
    "# 1227 7일차"
   ]
  },
  {
   "cell_type": "code",
   "execution_count": 1,
   "metadata": {},
   "outputs": [
    {
     "name": "stdout",
     "output_type": "stream",
     "text": [
      "[1, 2]\n",
      "<filter object at 0x00000187374C2DC8>\n",
      "[1, 2]\n"
     ]
    }
   ],
   "source": [
    "'''\n",
    "filter(함수, 반복가능자료형): 반복가능자료형 요소가 첫번째 인수인 함수에 입력이 \n",
    "변환 값이 참인 경우에 대해서만 필더링 해주는 함수\n",
    "'''\n",
    "# filter함수 모를때\n",
    "def positive(p):\n",
    "    res = []\n",
    "    for i in p:\n",
    "        if i > 0:\n",
    "            res.append(i)\n",
    "    return res\n",
    "\n",
    "print(positive([1,-3,2,-5]))\n",
    "\n",
    "# filter함수 사용\n",
    "print(filter(lambda x:x>0,[1,-3,2,-5]))\n",
    "print(list(filter(lambda x:x>0,[1,-3,2,-5])))\n",
    "\n",
    "# map : 전체\n",
    "# filter : 조건이 참인 것만"
   ]
  },
  {
   "cell_type": "code",
   "execution_count": 6,
   "metadata": {},
   "outputs": [
    {
     "name": "stdout",
     "output_type": "stream",
     "text": [
      "[2, 3, 4, 5]\n"
     ]
    }
   ],
   "source": [
    "target = [1,2,3,4]\n",
    "res = []\n",
    "def add(n):\n",
    "    return n+1\n",
    "for v in target:\n",
    "    res.append(add(v))\n",
    "print(res)"
   ]
  },
  {
   "cell_type": "code",
   "execution_count": 23,
   "metadata": {},
   "outputs": [
    {
     "name": "stdout",
     "output_type": "stream",
     "text": [
      "[2, 3, 4, 5]\n"
     ]
    }
   ],
   "source": [
    "# map 사용\n",
    "target = [1,2,3,4]\n",
    "def add(n):\n",
    "    return n+1\n",
    "print(list(map(add, target)))\n",
    "# print(list(map(str, target)))"
   ]
  },
  {
   "cell_type": "code",
   "execution_count": 8,
   "metadata": {},
   "outputs": [
    {
     "name": "stdout",
     "output_type": "stream",
     "text": [
      "[2, 3, 4, 5]\n"
     ]
    }
   ],
   "source": [
    "# map, lambda 사용\n",
    "target = [1,2,3,4]\n",
    "print(list(map(lambda x:x+1,target))) # 재사용 못함=> 한번만 필요한 경우"
   ]
  },
  {
   "cell_type": "code",
   "execution_count": 22,
   "metadata": {},
   "outputs": [
    {
     "name": "stdout",
     "output_type": "stream",
     "text": [
      "[2, 4, 6, 8, 10]\n"
     ]
    }
   ],
   "source": [
    "''' 1 '''\n",
    "target = list(range(1,11))\n",
    "res = []\n",
    "\n",
    "def is_even(n):\n",
    "    return True if n%2==0 else False\n",
    "for v in target:\n",
    "    if is_even(v):\n",
    "        res.append(v)\n",
    "print(list(res))"
   ]
  },
  {
   "cell_type": "code",
   "execution_count": 21,
   "metadata": {},
   "outputs": [
    {
     "name": "stdout",
     "output_type": "stream",
     "text": [
      "[2, 4, 6, 8, 10]\n"
     ]
    }
   ],
   "source": [
    "''' 2 '''\n",
    "target = list(range(1,11))\n",
    "res = []\n",
    "\n",
    "def is_even(n):\n",
    "    return True if n%2==0 else False\n",
    "res = filter(is_even, target)\n",
    "print(list(res))"
   ]
  },
  {
   "cell_type": "code",
   "execution_count": 29,
   "metadata": {},
   "outputs": [
    {
     "name": "stdout",
     "output_type": "stream",
     "text": [
      "[2, 4, 6, 8, 10]\n"
     ]
    }
   ],
   "source": [
    "''' 3 '''\n",
    "target = list(range(1,11))\n",
    "result = list(filter(lambda x:x%2==0,target))\n",
    "print(result)"
   ]
  },
  {
   "cell_type": "code",
   "execution_count": 30,
   "metadata": {},
   "outputs": [
    {
     "name": "stdout",
     "output_type": "stream",
     "text": [
      "[1, 3]\n"
     ]
    }
   ],
   "source": [
    "# [1,3,-2,-5] 양수만 필터링\n",
    "data = [1,3,-2,-5] \n",
    "result = list(filter(lambda x : x > 0, data))\n",
    "print(result)"
   ]
  },
  {
   "cell_type": "code",
   "execution_count": null,
   "metadata": {},
   "outputs": [],
   "source": [
    "'''\n",
    "변수명과 함수명이 중복 -> list object is not callable\n",
    "'''"
   ]
  },
  {
   "cell_type": "code",
   "execution_count": 28,
   "metadata": {},
   "outputs": [
    {
     "name": "stdout",
     "output_type": "stream",
     "text": [
      "0xfe\n"
     ]
    }
   ],
   "source": [
    "# 정수 -> 16진수\n",
    "print(hex(254))"
   ]
  },
  {
   "cell_type": "code",
   "execution_count": 35,
   "metadata": {},
   "outputs": [
    {
     "name": "stdout",
     "output_type": "stream",
     "text": [
      "id(3) :  140704914710992\n",
      "id(a) :  140704914710992\n"
     ]
    }
   ],
   "source": [
    "a = 3 # 3이 저장된 주소를 a가 갖고 있다는 의미\n",
    "print('id(3) : ',id(3))\n",
    "print('id(a) : ',id(a))\n",
    "# id(객체) 객체의 메모리 주소 값을 돌려주는 함수"
   ]
  },
  {
   "cell_type": "code",
   "execution_count": 37,
   "metadata": {},
   "outputs": [
    {
     "name": "stdout",
     "output_type": "stream",
     "text": [
      "3\n",
      "3\n",
      "5\n",
      "250\n"
     ]
    }
   ],
   "source": [
    "# int함수\n",
    "print(int('3'))\n",
    "print(int(3.14))\n",
    "print(int(\"101\",2)) # 2진수 101에 대한 10진수 값\n",
    "print(int(\"FA\",16)) # 16진수 FA에 대한 10진수 값"
   ]
  },
  {
   "cell_type": "code",
   "execution_count": null,
   "metadata": {},
   "outputs": [],
   "source": [
    "# isinstance함수\n",
    "#인스턴스는 클래스와 비슷한 말이지만 클래스를 생성하면 이를 인스턴스라고 합니다.\n",
    "\n",
    "# 클래스 -> 객체\n",
    "# 붕어빵 isinstance 붕어빵기계 : 붕어빵이 붕어빵기계의 인스턴스가 맞나? => True\n",
    "# 꽃게빵 isinstance 꽃게빵기계 => True"
   ]
  },
  {
   "cell_type": "code",
   "execution_count": 39,
   "metadata": {},
   "outputs": [
    {
     "data": {
      "text/plain": [
       "True"
      ]
     },
     "execution_count": 39,
     "metadata": {},
     "output_type": "execute_result"
    }
   ],
   "source": [
    "class 붕어빵기계:\n",
    "    pass\n",
    "붕어빵 = 붕어빵기계()\n",
    "isinstance(붕어빵,붕어빵기계)"
   ]
  },
  {
   "cell_type": "code",
   "execution_count": 40,
   "metadata": {},
   "outputs": [
    {
     "data": {
      "text/plain": [
       "False"
      ]
     },
     "execution_count": 40,
     "metadata": {},
     "output_type": "execute_result"
    }
   ],
   "source": [
    "class 꽃게빵기계:\n",
    "    pass\n",
    "꽃게빵 = 꽃게빵기계()\n",
    "isinstance(꽃게빵,붕어빵기계)"
   ]
  },
  {
   "cell_type": "code",
   "execution_count": 41,
   "metadata": {},
   "outputs": [
    {
     "data": {
      "text/plain": [
       "['t', 'e', 's', 't']"
      ]
     },
     "execution_count": 41,
     "metadata": {},
     "output_type": "execute_result"
    }
   ],
   "source": [
    "# 'test' => ['t','e','s','t']\n",
    "list('test') # 문자열\n",
    "list((1,2,3)) #튜플\n",
    "list(range(1,10)) #range\n",
    "\n",
    "# 반복가능한거는 이렇게 가능"
   ]
  },
  {
   "cell_type": "code",
   "execution_count": 50,
   "metadata": {},
   "outputs": [
    {
     "name": "stdout",
     "output_type": "stream",
     "text": [
      "[2, 4, 6]\n"
     ]
    }
   ],
   "source": [
    "# 문제\n",
    "# 일반적인 함수 구현\n",
    "def two_times(num):\n",
    "    a = []\n",
    "    for i in num:\n",
    "        a.append(i*2)\n",
    "    return a\n",
    "\n",
    "res = two_times([1,2,3])\n",
    "print(res)"
   ]
  },
  {
   "cell_type": "code",
   "execution_count": 53,
   "metadata": {},
   "outputs": [
    {
     "name": "stdout",
     "output_type": "stream",
     "text": [
      "[2, 4, 6]\n"
     ]
    }
   ],
   "source": [
    "# 2. map함수 구현\n",
    "\n",
    "def two_times2(x):\n",
    "    return x*2\n",
    "print(list(map(two_times2,[1,2,3])))"
   ]
  },
  {
   "cell_type": "code",
   "execution_count": 54,
   "metadata": {},
   "outputs": [
    {
     "data": {
      "text/plain": [
       "[2, 4, 6]"
      ]
     },
     "execution_count": 54,
     "metadata": {},
     "output_type": "execute_result"
    }
   ],
   "source": [
    "# 3. lambda함수 구현\n",
    "\n",
    "list(map(lambda x: x*2, [1,2,3]))"
   ]
  },
  {
   "cell_type": "code",
   "execution_count": null,
   "metadata": {},
   "outputs": [],
   "source": [
    "#완성해보기\n",
    "\n",
    "# def two_times(num):\n",
    "#     result = map(lambda x: i*2 for i in x, num)\n",
    "#     return result\n",
    "# res1 = two_times([1,2,3])\n",
    "# print(res1)"
   ]
  },
  {
   "cell_type": "code",
   "execution_count": 55,
   "metadata": {},
   "outputs": [
    {
     "name": "stdout",
     "output_type": "stream",
     "text": [
      "3\n",
      "t\n",
      "1\n",
      "e\n"
     ]
    }
   ],
   "source": [
    "# max, min함수\n",
    "print(max([1,2,3]))\n",
    "print(max(\"test\")) #아스키코드값이 가장 큰 문자\n",
    "\n",
    "print(min([1,2,3]))\n",
    "print(min(\"test\")) #아스키코드값이 가장 큰 문자"
   ]
  },
  {
   "cell_type": "code",
   "execution_count": 58,
   "metadata": {},
   "outputs": [
    {
     "data": {
      "text/plain": [
       "16"
      ]
     },
     "execution_count": 58,
     "metadata": {},
     "output_type": "execute_result"
    }
   ],
   "source": [
    "oct(8) # 10진수 8-> 8진수 10\n",
    "chr(97) #ord 함수 반대\n",
    "ord('a')\n",
    "pow(2,4)"
   ]
  },
  {
   "cell_type": "code",
   "execution_count": 61,
   "metadata": {},
   "outputs": [
    {
     "data": {
      "text/plain": [
       "3.46"
      ]
     },
     "execution_count": 61,
     "metadata": {},
     "output_type": "execute_result"
    }
   ],
   "source": [
    "# 반올림\n",
    "round(4.6)\n",
    "round(3.4567,2) # 소수 둘째 자리까지 반올림"
   ]
  },
  {
   "cell_type": "code",
   "execution_count": 63,
   "metadata": {},
   "outputs": [
    {
     "name": "stdout",
     "output_type": "stream",
     "text": [
      "None\n",
      "[1, 2, 3]\n"
     ]
    }
   ],
   "source": [
    "# list.sort(),  sorted(list)\n",
    "# 두 함수 차이점 정리\n",
    "# sort는 원본 리스트 순서가 변경됨.-> 원본이 변경이 되어도 될때\n",
    "# sorted 변경 안됨 -> 원본이 변경이 되면 안될때\n",
    "# 속도 : sorted가 더 느림(sorted는 사본 리스트가 추가적으로 생성이 되어서)\n",
    "\n",
    "\n",
    "#list.sort(): 리스트를 정렬, 반환값은 None\n",
    "li = [1,3,2]\n",
    "print(li.sort())\n",
    "print(li)"
   ]
  },
  {
   "cell_type": "code",
   "execution_count": 67,
   "metadata": {},
   "outputs": [
    {
     "name": "stdout",
     "output_type": "stream",
     "text": [
      "[4, 5, 6]\n",
      "[5, 4, 6]\n"
     ]
    }
   ],
   "source": [
    "# sorted(list) : 정렬된 새로운 리스트를 반환\n",
    "# 원본 리스트에는 영향 없음\n",
    "li2 = [5,4,6]\n",
    "print(sorted(li2))\n",
    "print(li2)"
   ]
  },
  {
   "cell_type": "code",
   "execution_count": 69,
   "metadata": {},
   "outputs": [
    {
     "data": {
      "text/plain": [
       "['a', 'b', 'c']"
      ]
     },
     "execution_count": 69,
     "metadata": {},
     "output_type": "execute_result"
    }
   ],
   "source": [
    "sorted(['a','c','b'])\n",
    "# sorted('today')"
   ]
  },
  {
   "cell_type": "code",
   "execution_count": 76,
   "metadata": {},
   "outputs": [
    {
     "data": {
      "text/plain": [
       "'HI'"
      ]
     },
     "execution_count": 76,
     "metadata": {},
     "output_type": "execute_result"
    }
   ],
   "source": [
    "str(3)\n",
    "str('hi')\n",
    "str('hi').upper()"
   ]
  },
  {
   "cell_type": "code",
   "execution_count": 73,
   "metadata": {},
   "outputs": [
    {
     "data": {
      "text/plain": [
       "6"
      ]
     },
     "execution_count": 73,
     "metadata": {},
     "output_type": "execute_result"
    }
   ],
   "source": [
    "print(sum([1,2]))\n",
    "print(sum((1,2,3)))"
   ]
  },
  {
   "cell_type": "code",
   "execution_count": 78,
   "metadata": {},
   "outputs": [
    {
     "data": {
      "text/plain": [
       "[('a', 'd', 'g'), ('b', 'e', 'h'), ('c', 'f', 'i')]"
      ]
     },
     "execution_count": 78,
     "metadata": {},
     "output_type": "execute_result"
    }
   ],
   "source": [
    "# zip함수 : 자료를 묶어주는 함수\n",
    "list(zip('abc','def'))\n",
    "list(zip('abc','defg')) #g가 버려짐\n",
    "list(zip('ab','def')) #f가 버려짐\n",
    "list(zip('abc','def','ghi'))"
   ]
  },
  {
   "cell_type": "code",
   "execution_count": 79,
   "metadata": {},
   "outputs": [],
   "source": [
    "# pickle : 객체 상태 그대로 저장/불러오기 기능\n",
    "\n",
    "import pickle\n",
    "f = open('test.txt','wb') # wb : binary형태로 저장할때(이미지,영상)\n",
    "data = {1:'python', 2:'java'} #객체\n",
    "pickle.dump(data, f)\n",
    "f.close()"
   ]
  },
  {
   "cell_type": "code",
   "execution_count": 81,
   "metadata": {},
   "outputs": [
    {
     "name": "stdout",
     "output_type": "stream",
     "text": [
      "{1: 'python', 2: 'java'}\n"
     ]
    }
   ],
   "source": [
    "f = open('test.txt','rb')\n",
    "data = pickle.load(f)\n",
    "print(data)"
   ]
  },
  {
   "cell_type": "code",
   "execution_count": 83,
   "metadata": {},
   "outputs": [
    {
     "data": {
      "text/plain": [
       "'test2.txt'"
      ]
     },
     "execution_count": 83,
     "metadata": {},
     "output_type": "execute_result"
    }
   ],
   "source": [
    "import shutil # 파일 복사\n",
    "shutil.copy('test.txt', 'test2.txt')"
   ]
  },
  {
   "cell_type": "code",
   "execution_count": 85,
   "metadata": {},
   "outputs": [
    {
     "data": {
      "text/plain": [
       "['c:/Windows\\\\addins',\n",
       " 'c:/Windows\\\\AhnInst.log',\n",
       " 'c:/Windows\\\\appcompat',\n",
       " 'c:/Windows\\\\apppatch',\n",
       " 'c:/Windows\\\\AppReadiness',\n",
       " 'c:/Windows\\\\assembly',\n",
       " 'c:/Windows\\\\bcastdvr',\n",
       " 'c:/Windows\\\\bfsvc.exe',\n",
       " 'c:/Windows\\\\BitLockerDiscoveryVolumeContents',\n",
       " 'c:/Windows\\\\Boot',\n",
       " 'c:/Windows\\\\bootstat.dat',\n",
       " 'c:/Windows\\\\Branding',\n",
       " 'c:/Windows\\\\CbsTemp',\n",
       " 'c:/Windows\\\\certutil.log',\n",
       " 'c:/Windows\\\\Containers',\n",
       " 'c:/Windows\\\\CSC',\n",
       " 'c:/Windows\\\\Cursors',\n",
       " 'c:/Windows\\\\debug',\n",
       " 'c:/Windows\\\\diagnostics',\n",
       " 'c:/Windows\\\\DiagTrack',\n",
       " 'c:/Windows\\\\DigitalLocker',\n",
       " 'c:/Windows\\\\Downloaded Program Files',\n",
       " 'c:/Windows\\\\Education.xml',\n",
       " 'c:/Windows\\\\ELAMBKUP',\n",
       " 'c:/Windows\\\\en-US',\n",
       " 'c:/Windows\\\\Enterprise.xml',\n",
       " 'c:/Windows\\\\explorer.exe',\n",
       " 'c:/Windows\\\\Fonts',\n",
       " 'c:/Windows\\\\GameBarPresenceWriter',\n",
       " 'c:/Windows\\\\Globalization',\n",
       " 'c:/Windows\\\\Help',\n",
       " 'c:/Windows\\\\HelpPane.exe',\n",
       " 'c:/Windows\\\\hh.exe',\n",
       " 'c:/Windows\\\\hipiw.dll',\n",
       " 'c:/Windows\\\\IdentityCRL',\n",
       " 'c:/Windows\\\\IME',\n",
       " 'c:/Windows\\\\ImmersiveControlPanel',\n",
       " 'c:/Windows\\\\INF',\n",
       " 'c:/Windows\\\\InputMethod',\n",
       " 'c:/Windows\\\\Installer',\n",
       " 'c:/Windows\\\\ko-KR',\n",
       " 'c:/Windows\\\\L2Schemas',\n",
       " 'c:/Windows\\\\LanguageOverlayCache',\n",
       " 'c:/Windows\\\\LiveKernelReports',\n",
       " 'c:/Windows\\\\Logs',\n",
       " 'c:/Windows\\\\Media',\n",
       " 'c:/Windows\\\\mib.bin',\n",
       " 'c:/Windows\\\\Microsoft.NET',\n",
       " 'c:/Windows\\\\Migration',\n",
       " 'c:/Windows\\\\minidump',\n",
       " 'c:/Windows\\\\ModemLogs',\n",
       " 'c:/Windows\\\\notepad.exe',\n",
       " 'c:/Windows\\\\OCR',\n",
       " 'c:/Windows\\\\Offline Web Pages',\n",
       " 'c:/Windows\\\\Panther',\n",
       " 'c:/Windows\\\\PCHEALTH',\n",
       " 'c:/Windows\\\\Performance',\n",
       " 'c:/Windows\\\\PFRO.log',\n",
       " 'c:/Windows\\\\PLA',\n",
       " 'c:/Windows\\\\PolicyDefinitions',\n",
       " 'c:/Windows\\\\Prefetch',\n",
       " 'c:/Windows\\\\PrintDialog',\n",
       " 'c:/Windows\\\\Professional.xml',\n",
       " 'c:/Windows\\\\ProfessionalEducation.xml',\n",
       " 'c:/Windows\\\\ProfessionalWorkstation.xml',\n",
       " 'c:/Windows\\\\Provisioning',\n",
       " 'c:/Windows\\\\regedit.exe',\n",
       " 'c:/Windows\\\\Registration',\n",
       " 'c:/Windows\\\\RemotePackages',\n",
       " 'c:/Windows\\\\rescache',\n",
       " 'c:/Windows\\\\Resources',\n",
       " 'c:/Windows\\\\SchCache',\n",
       " 'c:/Windows\\\\schemas',\n",
       " 'c:/Windows\\\\security',\n",
       " 'c:/Windows\\\\ServerRdsh.xml',\n",
       " 'c:/Windows\\\\ServiceProfiles',\n",
       " 'c:/Windows\\\\ServiceState',\n",
       " 'c:/Windows\\\\servicing',\n",
       " 'c:/Windows\\\\Setup',\n",
       " 'c:/Windows\\\\setupact.log',\n",
       " 'c:/Windows\\\\setuperr.log',\n",
       " 'c:/Windows\\\\ShellComponents',\n",
       " 'c:/Windows\\\\ShellExperiences',\n",
       " 'c:/Windows\\\\SHELLNEW',\n",
       " 'c:/Windows\\\\SKB',\n",
       " 'c:/Windows\\\\SoftwareDistribution',\n",
       " 'c:/Windows\\\\Speech',\n",
       " 'c:/Windows\\\\Speech_OneCore',\n",
       " 'c:/Windows\\\\splwow64.exe',\n",
       " 'c:/Windows\\\\System',\n",
       " 'c:/Windows\\\\system.ini',\n",
       " 'c:/Windows\\\\System32',\n",
       " 'c:/Windows\\\\SystemApps',\n",
       " 'c:/Windows\\\\SystemResources',\n",
       " 'c:/Windows\\\\SysWOW64',\n",
       " 'c:/Windows\\\\TAPI',\n",
       " 'c:/Windows\\\\Tasks',\n",
       " 'c:/Windows\\\\Temp',\n",
       " 'c:/Windows\\\\TextInput',\n",
       " 'c:/Windows\\\\tracing',\n",
       " 'c:/Windows\\\\twain_32',\n",
       " 'c:/Windows\\\\twain_32.dll',\n",
       " 'c:/Windows\\\\Vss',\n",
       " 'c:/Windows\\\\WaaS',\n",
       " 'c:/Windows\\\\Web',\n",
       " 'c:/Windows\\\\win.ini',\n",
       " 'c:/Windows\\\\WindowsShell.Manifest',\n",
       " 'c:/Windows\\\\WindowsUpdate.log',\n",
       " 'c:/Windows\\\\winhlp32.exe',\n",
       " 'c:/Windows\\\\WinSxS',\n",
       " 'c:/Windows\\\\WMSysPr9.prx',\n",
       " 'c:/Windows\\\\write.exe']"
      ]
     },
     "execution_count": 85,
     "metadata": {},
     "output_type": "execute_result"
    }
   ],
   "source": [
    "import glob\n",
    "# glob.glob(\"c:/my_Share/*\") # c드라이브에 my_Share안에 있는 모든 파일\n",
    "glob.glob(\"c:/Windows/*\")"
   ]
  },
  {
   "cell_type": "code",
   "execution_count": 89,
   "metadata": {},
   "outputs": [
    {
     "data": {
      "text/plain": [
       "True"
      ]
     },
     "execution_count": 89,
     "metadata": {},
     "output_type": "execute_result"
    }
   ],
   "source": [
    "import webbrowser\n",
    "# webbrowser.open(\"http://google.com\") #구글 실행 현재창에서\n",
    "\n",
    "webbrowser.open_new(\"http://www.google.com\")"
   ]
  },
  {
   "cell_type": "code",
   "execution_count": 91,
   "metadata": {},
   "outputs": [],
   "source": [
    "# 2차원 평면에서 위치를 나타내는 클래스\n",
    "class Point2D:\n",
    "    def __init__(self,x,y):\n",
    "        self.x = x\n",
    "        self.y = y"
   ]
  },
  {
   "cell_type": "code",
   "execution_count": 99,
   "metadata": {},
   "outputs": [
    {
     "name": "stdout",
     "output_type": "stream",
     "text": [
      "p1:30 20\n",
      "p2:50 40\n",
      "28.284271247461902\n"
     ]
    }
   ],
   "source": [
    "p1 = Point2D(x=30,y=20)\n",
    "p2 = Point2D(x=50,y=40)\n",
    "\n",
    "print('p1:{} {}'.format(p1.x,p1.y))\n",
    "print('p2:{} {}'.format(p2.x,p2.y))\n",
    "\n",
    "\n",
    "# 두 점 사이의 거리\n",
    "import math\n",
    "c = math.sqrt((p1.x-p2.x)**2 + (p1.y-p2.y)**2)\n",
    "print(c)"
   ]
  },
  {
   "cell_type": "code",
   "execution_count": 98,
   "metadata": {},
   "outputs": [
    {
     "data": {
      "text/plain": [
       "28.284271247461902"
      ]
     },
     "execution_count": 98,
     "metadata": {},
     "output_type": "execute_result"
    }
   ],
   "source": [
    "math.sqrt(pow(p2.x-p1.x,2)+pow(p2.y-p1.y,2))"
   ]
  },
  {
   "cell_type": "code",
   "execution_count": 100,
   "metadata": {},
   "outputs": [
    {
     "data": {
      "text/plain": [
       "['__add__',\n",
       " '__class__',\n",
       " '__contains__',\n",
       " '__delattr__',\n",
       " '__delitem__',\n",
       " '__dir__',\n",
       " '__doc__',\n",
       " '__eq__',\n",
       " '__format__',\n",
       " '__ge__',\n",
       " '__getattribute__',\n",
       " '__getitem__',\n",
       " '__gt__',\n",
       " '__hash__',\n",
       " '__iadd__',\n",
       " '__imul__',\n",
       " '__init__',\n",
       " '__init_subclass__',\n",
       " '__iter__',\n",
       " '__le__',\n",
       " '__len__',\n",
       " '__lt__',\n",
       " '__mul__',\n",
       " '__ne__',\n",
       " '__new__',\n",
       " '__reduce__',\n",
       " '__reduce_ex__',\n",
       " '__repr__',\n",
       " '__reversed__',\n",
       " '__rmul__',\n",
       " '__setattr__',\n",
       " '__setitem__',\n",
       " '__sizeof__',\n",
       " '__str__',\n",
       " '__subclasshook__',\n",
       " 'append',\n",
       " 'clear',\n",
       " 'copy',\n",
       " 'count',\n",
       " 'extend',\n",
       " 'index',\n",
       " 'insert',\n",
       " 'pop',\n",
       " 'remove',\n",
       " 'reverse',\n",
       " 'sort']"
      ]
     },
     "execution_count": 100,
     "metadata": {},
     "output_type": "execute_result"
    }
   ],
   "source": [
    "'''\n",
    "iterator\n",
    "데이터를 차례대로 꺼낼 수 있는 객체\n",
    "\n",
    "for i in range(10) : 숫자 0~9까지 차례대로 꺼내는 iterator가 있음. \n",
    "                    iterator에 의해서 0~9까지 생성\n",
    "\n",
    "\n",
    "iterable\n",
    "반복 가능한 객체 : 문자열, 튜플, 리스트\n",
    "\n",
    "'''\n",
    "\n",
    "\n",
    "# dir() : 매서드가 다 나옴 => 데이터가 interable한지 확인\n",
    "# dir(객체)\n",
    "\n",
    "dir([1,2,3]) # 반복 가능하다면 \"__iter__\"가 포함"
   ]
  },
  {
   "cell_type": "code",
   "execution_count": 108,
   "metadata": {},
   "outputs": [
    {
     "name": "stdout",
     "output_type": "stream",
     "text": [
      "1\n",
      "2\n",
      "3\n"
     ]
    }
   ],
   "source": [
    "it = [1,2,3].__iter__()\n",
    "\n",
    "# for i in [1,2,3]  \n",
    "# [1,2,3]에서 i로 데이터를 주는 역할을 [1,2,3].__iter__()가 함\n",
    "\n",
    "print(it.__next__())\n",
    "print(it.__next__())\n",
    "print(it.__next__()) \n",
    "# print(it.__next__()) # 더 이상 읽을 자료가 없기때문에 에러가 남"
   ]
  },
  {
   "cell_type": "code",
   "execution_count": null,
   "metadata": {},
   "outputs": [],
   "source": [
    "for i in range(3):\n",
    "    print(i)\n",
    "    \n",
    "1) range(3)에서 __iter__()호출\n",
    "2) __next__()호출 -> i 변수에 0저장\n",
    "3) __next__()호출 -> i 변수에 1저장\n",
    "4) __next__()호출 -> i 변수에 2저장\n",
    "#"
   ]
  },
  {
   "cell_type": "code",
   "execution_count": 128,
   "metadata": {},
   "outputs": [
    {
     "name": "stdout",
     "output_type": "stream",
     "text": [
      "['950101-*******', '970202-*******']\n"
     ]
    }
   ],
   "source": [
    "'''\n",
    "데이터수집(정규표현식) -> 전처리 -> 분석....\n",
    "\n",
    "정규표현식 : 문자열을 규칙에 맞추어 정리\n",
    "010-1234-5678\n",
    "\n",
    "텍스트 수집 -> 주민번호 -> 뒷자리 *로 변경\n",
    "\n",
    "\n",
    "'''\n",
    "\n",
    "data = '''\n",
    "kim 950101-1234567\n",
    "lee 970202-2345678\n",
    "'''\n",
    "word_res = []\n",
    "for line in data.split('\\n'):\n",
    "    for word in line.split(' '):\n",
    "        if len(word) ==14:\n",
    "            w = word[:7] + '*******'\n",
    "            word_res.append(w)\n",
    "print(word_res)"
   ]
  },
  {
   "cell_type": "code",
   "execution_count": 125,
   "metadata": {},
   "outputs": [
    {
     "name": "stdout",
     "output_type": "stream",
     "text": [
      "\n",
      "950101-*******\n",
      "970202-*******\n",
      "\n"
     ]
    }
   ],
   "source": [
    "result = []\n",
    "for line in data.split('\\n'):\n",
    "    word_res = []\n",
    "    for word in line.split(' '):\n",
    "        if len(word) ==14 and word[:6].isdigit() and word[7:].isdigit():  #isdigit : 숫자인지 아닌지 판별\n",
    "            w = word[:7] + '*******'\n",
    "            word_res.append(w)\n",
    "    result.append(\" \".join(word_res))\n",
    "print('\\n'.join(result))"
   ]
  },
  {
   "cell_type": "code",
   "execution_count": 124,
   "metadata": {},
   "outputs": [
    {
     "name": "stdout",
     "output_type": "stream",
     "text": [
      "\n",
      "kim 950101-*******\n",
      "lee 970202-*******\n",
      "\n"
     ]
    }
   ],
   "source": [
    "import re # 정규표현식 모듈 (모든 언어에 다 있음)\n",
    "pattern = re.compile(\"(\\d{6})[-]\\d{7}\")\n",
    "print(pattern.sub(\"\\g<1>-*******\",data))\n"
   ]
  },
  {
   "cell_type": "code",
   "execution_count": 132,
   "metadata": {},
   "outputs": [
    {
     "name": "stdout",
     "output_type": "stream",
     "text": [
      "<re.Match object; span=(0, 5), match='hello'>\n",
      "<re.Match object; span=(0, 1), match='h'>\n"
     ]
    }
   ],
   "source": [
    "# 정규표현식 작성방법\n",
    "\n",
    "# re.match(\"패턴\",\"문자열\") : 문자열에 패턴이 있는지 여부를 확인\n",
    "# None 매치된 것이 없음, None아니면 패턴이 문자열 안에 있다\n",
    "# 패턴의 위치는 span에 저장됨\n",
    "print(re.match(\"hello\",\"hello, word\"))\n",
    "print(re.match(\"h\",\"hello, word\"))"
   ]
  },
  {
   "cell_type": "code",
   "execution_count": 149,
   "metadata": {},
   "outputs": [
    {
     "name": "stdout",
     "output_type": "stream",
     "text": [
      "<re.Match object; span=(0, 1), match='1'>\n",
      "None\n",
      "<re.Match object; span=(0, 1), match='1'>\n",
      "None\n",
      "<re.Match object; span=(0, 1), match='1'>\n",
      "<re.Match object; span=(0, 1), match='t'>\n",
      "None\n",
      "<re.Match object; span=(0, 1), match='대'>\n",
      "<re.Match object; span=(0, 1), match='희'>\n"
     ]
    }
   ],
   "source": [
    "'''\n",
    "정규표현식 메타문자(문자의 본래 의미가 아닌, 특정 의미를 갖는 문자) : () {} [] \\ | ? + * $ ^ ....\n",
    "\n",
    "[] : 문자와 관련된 정규표현식 사용, [] 대괄호 사이에는 어떤 문자도 올 수 있음\n",
    "    정규표현식: [abcdef]\n",
    "    의미 : a, b, c, d, e, f 문자 중에서 한 개의 문자와 매치\n",
    "    \"a\"는 정규식에 일치하는 문자가 있으므로 -> 매치\n",
    "\n",
    "\n",
    "\n",
    "\n",
    "\n",
    "'''\n",
    "\n",
    "# print(re.match('[abcdef]','a'))\n",
    "# print(re.match('[abcdef]','z'))\n",
    "# print(re.match('[abcdef]','all'))\n",
    "# print(re.match('[abcdef]','sky'))\n",
    "# print(re.match('[abcdef]','best'))\n",
    "\n",
    "# print(re.match('[a-z]','abc')) # [a-z] : 알파벳 소문자 모두\n",
    "# print(re.match('[a-z]','ABC'))\n",
    "# print(re.match('[A-Z]','ABC'))\n",
    "# print(re.match('[a-zA-Z]','ABC')) # 알파벳 대소문자 모두\n",
    "\n",
    "# print(re.match('[0-9]','119')) # [0-9] : 숫자 모두\n",
    "# print(re.match('[^0-9]','119')) # [^0-9] : 숫자를 제외한 모두\n",
    "\n",
    "# print(re.match(\"\\d\",\"119\")) # \\d : 숫자와 매치됨, [0-9]와 같음\n",
    "# print(re.match(\"\\D\",\"119\")) # \\D : 숫자가 아닌 모든 것과  매치, [^0-9]와 같음\n",
    "\n",
    "# print(re.match(\"\\w\",\"119\")) # \\w : 숫자와 문자 매치 [0-9a-zA-Z] = \\w\n",
    "# print(re.match(\"\\w\",\"test\")) \n",
    "# print(re.match(\"\\W\",\"test\")) # \\W : 숫자+영문자가 아닌 나머지\n",
    "\n",
    "\n",
    "# print(re.match(\"[0-9a-zA-Z]\",\"대한민국\"))\n",
    "# print(re.match(\"[^0-9a-zA-Z]\",\"대한민국\")) # ^ : 반대\n",
    "\n",
    "# print(re.match(\"[가-힝]\",\"희\"))\n"
   ]
  },
  {
   "cell_type": "code",
   "execution_count": 154,
   "metadata": {},
   "outputs": [
    {
     "name": "stdout",
     "output_type": "stream",
     "text": [
      "None\n",
      "<re.Match object; span=(7, 9), match='hi'>\n"
     ]
    }
   ],
   "source": [
    "'''\n",
    "^문자열 : 문자열이 맨 앞에 오는지 판단\n",
    "문자열$ : 문자열이 맨 뒤에 오는지 판단\n",
    "search함수에서 사용됨\n",
    "\n",
    "'''\n",
    "\n",
    "print(re.search(\"^hi\",\"hello, hi\"))\n",
    "# hi 문자열이 맨 앞에 오는지 판단\n",
    "\n",
    "print(re.search(\"hi$\",\"hello, hi\"))\n",
    "# hi 문자열이 맨 뒤에 오는지 판단"
   ]
  },
  {
   "cell_type": "code",
   "execution_count": 157,
   "metadata": {},
   "outputs": [
    {
     "name": "stdout",
     "output_type": "stream",
     "text": [
      "<re.Match object; span=(0, 2), match='hi'>\n",
      "None\n",
      "<re.Match object; span=(0, 5), match='hello'>\n"
     ]
    }
   ],
   "source": [
    "print(re.match(\"hello|hi|good\",\"hi\"))\n",
    "#|(bar) 기호는 '또는' 의미\n",
    "\n",
    "print(re.match(\"hello|hi|good\",\"goo\"))\n",
    "print(re.match(\"hello|hi|good\",\"hello\"))"
   ]
  },
  {
   "cell_type": "code",
   "execution_count": null,
   "metadata": {},
   "outputs": [],
   "source": [
    "# []사이의 문자들과 매치\n",
    "정규식 : [abc]\n",
    "의미 : a,b,c 중에서 한 개의 문자와 매치\n",
    "    \n",
    "a - 매치\n",
    "before - 매치\n",
    "kick - 매치x\n"
   ]
  },
  {
   "cell_type": "code",
   "execution_count": 158,
   "metadata": {},
   "outputs": [
    {
     "data": {
      "text/plain": [
       "<re.Match object; span=(0, 1), match='1'>"
      ]
     },
     "execution_count": 158,
     "metadata": {},
     "output_type": "execute_result"
    }
   ],
   "source": [
    "re.match(\"[0-9]\",'123')\n",
    "#       패턴  문자열\n",
    "#     패턴이 문자열에 있는지 확인\n",
    "#     span = (0,1)패턴이 매치되는 문자열의 위치"
   ]
  },
  {
   "cell_type": "code",
   "execution_count": 159,
   "metadata": {},
   "outputs": [
    {
     "data": {
      "text/plain": [
       "<re.Match object; span=(0, 3), match='123'>"
      ]
     },
     "execution_count": 159,
     "metadata": {},
     "output_type": "execute_result"
    }
   ],
   "source": [
    "re.match(\"[0-9]*\",'123') \n",
    "# *은 숫자가 0개 이상 있는지 판단\n",
    "# *이 없을 때는 첫번째 자리만\n",
    "# 위 코드에서는 숫자 3개가 매치됨"
   ]
  },
  {
   "cell_type": "code",
   "execution_count": 161,
   "metadata": {},
   "outputs": [
    {
     "data": {
      "text/plain": [
       "<re.Match object; span=(0, 2), match='12'>"
      ]
     },
     "execution_count": 161,
     "metadata": {},
     "output_type": "execute_result"
    }
   ],
   "source": [
    "re.match(\"[0-9]*\",'12a3') #2개 매치"
   ]
  },
  {
   "cell_type": "code",
   "execution_count": 166,
   "metadata": {},
   "outputs": [
    {
     "name": "stdout",
     "output_type": "stream",
     "text": [
      "<re.Match object; span=(0, 0), match=''>\n",
      "None\n"
     ]
    }
   ],
   "source": [
    "print(re.match(\"[0-9]*\",'a123')) # 0개 매치, *이 있으면 매치 없어도 나옴( 0개 이상판단이라서)\n",
    "print(re.match(\"[0-9]\",'a123')) # *이 없으므로 매치가 없으면 None"
   ]
  },
  {
   "cell_type": "code",
   "execution_count": 170,
   "metadata": {},
   "outputs": [
    {
     "name": "stdout",
     "output_type": "stream",
     "text": [
      "<re.Match object; span=(0, 0), match=''>\n",
      "<re.Match object; span=(0, 3), match='abc'>\n",
      "<re.Match object; span=(0, 3), match='abc'>\n",
      "None\n"
     ]
    }
   ],
   "source": [
    "print(re.match(\"[a-z]*\",\"12a3bc\"))\n",
    "\n",
    "print(re.match(\"[a-z]*\",\"abc123def\")) # * : 문자가 0개 이상 있는 지 판단\n",
    "print(re.match(\"[a-z]+\",\"abc123def\")) # + : 문자가 1개 이상 있는지 판단\n",
    "\n",
    "print(re.match(\"[a-z]+\",\"123def\"))"
   ]
  },
  {
   "cell_type": "code",
   "execution_count": 174,
   "metadata": {},
   "outputs": [
    {
     "data": {
      "text/plain": [
       "<re.Match object; span=(0, 2), match='aa'>"
      ]
     },
     "execution_count": 174,
     "metadata": {},
     "output_type": "execute_result"
    }
   ],
   "source": [
    "re.match(\"a*\",\"aabb\") # (\"패턴\",\"문자열\") : 문자열에 패턴이 있는지??"
   ]
  },
  {
   "cell_type": "code",
   "execution_count": 185,
   "metadata": {},
   "outputs": [
    {
     "name": "stdout",
     "output_type": "stream",
     "text": [
      "<re.Match object; span=(0, 3), match='aab'>\n",
      "<re.Match object; span=(0, 1), match='b'>\n",
      "None\n"
     ]
    }
   ],
   "source": [
    "print(re.match(\"a*b\",\"aab\"))\n",
    "print(re.match(\"a*b\",\"ba\"))\n",
    "print(re.match(\"a+b\",\"aa\")) # b가 없으니깐\n",
    "# a가 0개 이상 있으면서 b로 이어진다면 매치"
   ]
  },
  {
   "cell_type": "code",
   "execution_count": 183,
   "metadata": {},
   "outputs": [
    {
     "name": "stdout",
     "output_type": "stream",
     "text": [
      "None\n",
      "<re.Match object; span=(0, 2), match='ab'>\n",
      "<re.Match object; span=(0, 3), match='aab'>\n",
      "<re.Match object; span=(0, 2), match='ab'>\n",
      "None\n"
     ]
    }
   ],
   "source": [
    "print(re.match(\"a+b\",\"ba\"))\n",
    "print(re.match(\"a+b\",\"ab\"))\n",
    "print(re.match(\"a+b\",\"aab\"))\n",
    "print(re.match(\"a+b\",\"aba\"))\n",
    "print(re.match(\"a+b\",\"aacb\")) # a이 다음에는 b가 나와야 되는데 c가 나와서 "
   ]
  },
  {
   "cell_type": "code",
   "execution_count": 193,
   "metadata": {},
   "outputs": [
    {
     "name": "stdout",
     "output_type": "stream",
     "text": [
      "<re.Match object; span=(0, 6), match='aaaaaa'>\n",
      "<re.Match object; span=(0, 7), match='aaaaaab'>\n",
      "<re.Match object; span=(0, 7), match='aaaaaab'>\n",
      "<re.Match object; span=(0, 10), match='aaaaaabbbb'>\n"
     ]
    }
   ],
   "source": [
    "print(re.match(\"a*\",\"aaaaaab\"))\n",
    "# 패턴이 문자열에 있는지 확인\n",
    "print(re.match(\"a*b\",\"aaaaaab\"))\n",
    "print(re.match(\"a*b\",\"aaaaaabbbcc\"))\n",
    "\n",
    "print(re.match(\"a*b*\",\"aaaaaabbbbcc\"))\n"
   ]
  },
  {
   "cell_type": "code",
   "execution_count": 200,
   "metadata": {},
   "outputs": [
    {
     "name": "stdout",
     "output_type": "stream",
     "text": [
      "<re.Match object; span=(0, 3), match='aab'>\n",
      "<re.Match object; span=(0, 3), match='aab'>\n",
      "<re.Match object; span=(0, 3), match='aab'>\n",
      "<re.Match object; span=(0, 4), match='aabb'>\n",
      "<re.Match object; span=(0, 4), match='aabb'>\n",
      "<re.Match object; span=(0, 5), match='aabbc'>\n",
      "None\n"
     ]
    }
   ],
   "source": [
    "print(re.match(\"a*b\",\"aab\"))\n",
    "print(re.match(\"a*b\",\"aabc\"))\n",
    "print(re.match(\"a*b\",\"aabb\"))\n",
    "\n",
    "print(re.match(\"a*b+\",\"aabb\"))\n",
    "print(re.match(\"a*b*\",\"aabb\"))\n",
    "\n",
    "print(re.match(\"a*b*c\",\"aabbc\"))\n",
    "\n",
    "print(re.match(\"a*b*c+b\",\"aabbc\"))"
   ]
  },
  {
   "cell_type": "code",
   "execution_count": 209,
   "metadata": {},
   "outputs": [
    {
     "name": "stdout",
     "output_type": "stream",
     "text": [
      "<re.Match object; span=(0, 1), match='h'>\n",
      "<re.Match object; span=(0, 0), match=''>\n",
      "<re.Match object; span=(0, 1), match='h'>\n"
     ]
    }
   ],
   "source": [
    "# ? : 문자가 0개 또는 한개 있으면 매치\n",
    "print(re.match(\"h?\",\"hi\")) \n",
    "print(re.match(\"h?\",\"python\"))\n",
    "\n",
    "print(re.match(\"h?\",\"hho\")) "
   ]
  },
  {
   "cell_type": "code",
   "execution_count": 221,
   "metadata": {},
   "outputs": [
    {
     "name": "stdout",
     "output_type": "stream",
     "text": [
      "<re.Match object; span=(0, 2), match='hi'>\n",
      "<re.Match object; span=(0, 3), match='hel'>\n",
      "None\n",
      "<re.Match object; span=(0, 3), match='acb'>\n",
      "None\n",
      "<re.Match object; span=(0, 3), match='dog'>\n",
      "None\n",
      "<re.Match object; span=(0, 2), match='dg'>\n",
      "<re.Match object; span=(0, 2), match='dg'>\n",
      "<re.Match object; span=(0, 7), match='doggggg'>\n"
     ]
    }
   ],
   "source": [
    "# .은 문자가 1개 있으면 매치\n",
    "# h.은 h문자 다음에 문자가 1개 있으면 매치됨\n",
    "print(re.match(\"h.\",\"hi\")) \n",
    "\n",
    "\n",
    "print(re.match(\"h.l\",\"hello\"))\n",
    "# h문자 + 모든문자 + l문자\n",
    "\n",
    "print(re.match(\"a.b\",\"ab\")) # a와 b 사이에 반드시 문자가 한개 있어야 매치 \n",
    "print(re.match(\"a.b\",\"acb\"))\n",
    "print(re.match(\"a.b\",\"accb\")) # a와 b 사이에 문자가 한개 이상 있어서\n",
    "\n",
    "print(re.match(\"do*g\",\"dog\"))\n",
    "print(re.match(\"do*g\",\"dokg\"))\n",
    "print(re.match(\"do*g\",\"dg\"))\n",
    "print(re.match(\"do*g\",\"dggg\"))\n",
    "print(re.match(\"do*g+\",\"doggggg\"))"
   ]
  },
  {
   "cell_type": "code",
   "execution_count": 244,
   "metadata": {},
   "outputs": [
    {
     "name": "stdout",
     "output_type": "stream",
     "text": [
      "<re.Match object; span=(0, 3), match='hii'>\n",
      "<re.Match object; span=(0, 2), match='hi'>\n",
      "<re.Match object; span=(0, 4), match='hihi'>\n",
      "None\n",
      "<re.Match object; span=(0, 8), match='hihihehe'>\n"
     ]
    }
   ],
   "source": [
    "# a{3}: a가 3개 있는지 확인?\n",
    "# print(re.match(\"a{3}\",\"aaabbbccc\"))\n",
    "# print(re.match(\"a{3}b\",\"aaabbbccc\"))\n",
    "# print(re.match(\"a{3}b*\",\"aaabbbccc\"))\n",
    "# print(re.match(\"a{3}b+c*\",\"aaabbbccc\"))\n",
    "# print(re.match(\"a{3}\",\"aaaaaaaaabbbccc\"))\n",
    "\n",
    "# print(re.match(\"a{3}\",\"aa\")) \n",
    "\n",
    "# 문자{횟수} : 문자가 지정된 횟수만큼 반복\n",
    "# (문자열){횟수} : 문자열이 지정된 횟수만큼 반복\n",
    "print(re.match(\"hi{2}\",\"hiii\")) # 패턴 : h + i 3번 # hi 전체가 반복이 아니고 i가 반복\n",
    "\n",
    "print(re.match(\"(hi){1}\",\"hihi\")) # 문자열 반복은 ()소괄호로 묶어주기\n",
    "print(re.match(\"(hi){2}\",\"hihi\"))\n",
    "print(re.match(\"(hi){2}\",\"hibyehihi\"))\n",
    "\n",
    "print(re.match(\"(hi){2}(he){2}\",\"hihihehe\"))"
   ]
  },
  {
   "cell_type": "code",
   "execution_count": 232,
   "metadata": {},
   "outputs": [
    {
     "name": "stdout",
     "output_type": "stream",
     "text": [
      "None\n"
     ]
    }
   ],
   "source": [
    "a.b => a + 모든 문자 + b\n",
    "abc는 매치 안됨, a와 b사이에 문자 반드시 한개 이상\n",
    "\n",
    "주의사항\n",
    "a[.]b => a + . + b\n",
    "\n"
   ]
  },
  {
   "cell_type": "code",
   "execution_count": 246,
   "metadata": {},
   "outputs": [
    {
     "name": "stdout",
     "output_type": "stream",
     "text": [
      "<re.Match object; span=(0, 3), match='a.b'>\n"
     ]
    }
   ],
   "source": [
    "print(re.match(\"a[.]b\",\"a.b\"))"
   ]
  },
  {
   "cell_type": "code",
   "execution_count": null,
   "metadata": {},
   "outputs": [],
   "source": [
    "[a-z]+[.][a-z+[.]+fom']\n",
    "          \n",
    "          \n",
    "          "
   ]
  },
  {
   "cell_type": "code",
   "execution_count": 248,
   "metadata": {},
   "outputs": [
    {
     "data": {
      "text/plain": [
       "<re.Match object; span=(0, 13), match='010-1234-5678'>"
      ]
     },
     "execution_count": 248,
     "metadata": {},
     "output_type": "execute_result"
    }
   ],
   "source": [
    "\n",
    "tel1 = \"010-1234-5678\"\n",
    "tel2 = \"010-9876-3234\"\n",
    "\n",
    "\n",
    "re.match(\"[0-9]{3}-[0-9]{4}-[0-9]{4}\", tel1)\n",
    "re.match(\"[0-9]{3}-[0-9]{4}-[0-9]{4}\", tel2)\n",
    "\n",
    "re.match(\"[0-9]{2,3}-[0-9]{3,4}-[0-9]{4}\", tel1) #{2,3} 숫자가  최소 2개 최대 3개 매치"
   ]
  },
  {
   "cell_type": "code",
   "execution_count": 252,
   "metadata": {},
   "outputs": [
    {
     "name": "stdout",
     "output_type": "stream",
     "text": [
      "<re.Match object; span=(0, 14), match='990101-1234567'>\n",
      "정상\n"
     ]
    }
   ],
   "source": [
    "jm = '990101-1234567'\n",
    "print(re.match(\"[0-9]{6}-[0-9]{7}\",jm))\n",
    "\n",
    "check = re.match(\"[0-9]{6}-[0-9]{7}\",jm)\n",
    "if check:\n",
    "    print(\"정상\")\n",
    "else:\n",
    "    print('비정상')"
   ]
  },
  {
   "cell_type": "code",
   "execution_count": null,
   "metadata": {},
   "outputs": [],
   "source": []
  }
 ],
 "metadata": {
  "kernelspec": {
   "display_name": "Python 3",
   "language": "python",
   "name": "python3"
  },
  "language_info": {
   "codemirror_mode": {
    "name": "ipython",
    "version": 3
   },
   "file_extension": ".py",
   "mimetype": "text/x-python",
   "name": "python",
   "nbconvert_exporter": "python",
   "pygments_lexer": "ipython3",
   "version": "3.7.4"
  }
 },
 "nbformat": 4,
 "nbformat_minor": 2
}
