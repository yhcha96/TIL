{
 "cells": [
  {
   "cell_type": "markdown",
   "metadata": {},
   "source": [
    "# 1226 6일차"
   ]
  },
  {
   "cell_type": "markdown",
   "metadata": {},
   "source": [
    "### 1. Class : 객체를 표현하기 위한 개념\n",
    "\n",
    "ex) 게임 - 기사, 궁수, 마법사 등 직업별로 클래스가 생성\n",
    "\n",
    "    웹브라우저 - 스크롤바, 버튼, 체크박스 등 구성요소가 모두가 클래스\n",
    "\n",
    "1. 기사 클래스로 홍길동 객체(캐릭터)를 생성\n",
    "2. 체력, 마나, 공격력,... 초기값 설정 = 속성(속성이 필요)\n",
    "3. 달리기, 베기, 찌르기,....동작 스킬 = 메서드\n",
    "\n",
    "**=> 클래스는 속성과 메서드로 구성된다**"
   ]
  },
  {
   "cell_type": "code",
   "execution_count": 6,
   "metadata": {},
   "outputs": [
    {
     "name": "stdout",
     "output_type": "stream",
     "text": [
      "3\n",
      "7\n"
     ]
    }
   ],
   "source": [
    "res = 0\n",
    "def add(num):\n",
    "    global res\n",
    "    res += num\n",
    "    return res\n",
    "\n",
    "print(add(3))\n",
    "print(add(4))"
   ]
  },
  {
   "cell_type": "code",
   "execution_count": 7,
   "metadata": {},
   "outputs": [
    {
     "name": "stdout",
     "output_type": "stream",
     "text": [
      "3\n",
      "4\n"
     ]
    }
   ],
   "source": [
    "def add(num):\n",
    "    res = 0\n",
    "    res += num\n",
    "    return res\n",
    "\n",
    "print(add(3))\n",
    "print(add(4))"
   ]
  },
  {
   "cell_type": "code",
   "execution_count": 10,
   "metadata": {},
   "outputs": [
    {
     "name": "stdout",
     "output_type": "stream",
     "text": [
      "3\n",
      "7\n",
      "3\n",
      "10\n"
     ]
    }
   ],
   "source": [
    "# 계산기 2대\n",
    "res1 = 0\n",
    "res2 = 0\n",
    "\n",
    "def add1(num):\n",
    "    global res1\n",
    "    res1 += num\n",
    "    return res1\n",
    "\n",
    "def add2(num):\n",
    "    global res2\n",
    "    res2 += num\n",
    "    return res2\n",
    "\n",
    "print(add1(3))\n",
    "print(add1(4))\n",
    "print(add2(3))\n",
    "print(add2(7))"
   ]
  },
  {
   "cell_type": "code",
   "execution_count": 25,
   "metadata": {},
   "outputs": [],
   "source": [
    "# 메모리에 만들어짐\n",
    "class Calc: # 변수이름 규치과 같음\n",
    "    def __init__(self): # 객체를 초기화하는 역할(객체가 만들어진 시점으로)\n",
    "        self.res = 0\n",
    "        print('초기화')\n",
    "    def add(self,num):\n",
    "        self.res += num\n",
    "        return self.res\n",
    "    def sub(self,num):\n",
    "        self.res -= num\n",
    "        return self.res"
   ]
  },
  {
   "cell_type": "code",
   "execution_count": 26,
   "metadata": {},
   "outputs": [
    {
     "name": "stdout",
     "output_type": "stream",
     "text": [
      "초기화\n",
      "초기화\n",
      "3\n",
      "7\n",
      "3\n",
      "10\n"
     ]
    }
   ],
   "source": [
    "# hgd = Calc() # 객체 = 클래스()\n",
    "cal1 = Calc() # 꼐산기1\n",
    "cal2 = Calc() # 계산기2\n",
    "\n",
    "print(cal1.add(3))\n",
    "print(cal1.add(4))\n",
    "\n",
    "print(cal2.add(3))\n",
    "print(cal2.add(7))"
   ]
  },
  {
   "cell_type": "code",
   "execution_count": null,
   "metadata": {},
   "outputs": [],
   "source": [
    "'''\n",
    "붕어빵 기계 = class, 속성(특징)과 메서드(동작)\n",
    "붕어빠 = 객체(object)\n",
    "\n",
    "'''"
   ]
  },
  {
   "cell_type": "code",
   "execution_count": 28,
   "metadata": {},
   "outputs": [],
   "source": [
    "class FishBread:\n",
    "    pass # 아무기능도없는 클래스 정의 가능"
   ]
  },
  {
   "cell_type": "code",
   "execution_count": 29,
   "metadata": {},
   "outputs": [
    {
     "name": "stdout",
     "output_type": "stream",
     "text": [
      "<class '__main__.FishBread'>\n"
     ]
    }
   ],
   "source": [
    "a = FishBread()\n",
    "print(type(a))"
   ]
  },
  {
   "cell_type": "code",
   "execution_count": 47,
   "metadata": {},
   "outputs": [],
   "source": [
    "# 사칙연사 클래스\n",
    "class FourCal:\n",
    "    def __init__(self):\n",
    "        self.res = 0\n",
    "    def setData(self,first,second):\n",
    "        self.first = first\n",
    "        self.second = second\n",
    "# self : 지금 만들어진 객체\n",
    "# self.first : 지금 만들어지고 있는 객체의 first 속성\n",
    "    \n",
    "    def add(self):\n",
    "        self.res = self.first + self.second\n",
    "        return self.res\n",
    "    def sub(self):\n",
    "            self.res = self.first - self.second\n",
    "            return self.res\n",
    "    def mul(self):\n",
    "        self.res = self.first * self.second\n",
    "        return self.res\n",
    "    def div(self):\n",
    "        self.res = self.first / self.second\n",
    "        return self.res"
   ]
  },
  {
   "cell_type": "code",
   "execution_count": 49,
   "metadata": {},
   "outputs": [
    {
     "name": "stdout",
     "output_type": "stream",
     "text": [
      "6\n",
      "3\n"
     ]
    }
   ],
   "source": [
    "# 변수 = 클래스명()\n",
    "# 변수는 클래스로부터 만들어진 객체를 나타냄\n",
    "\n",
    "# 붕어빵 = 붕어빵기계()\n",
    "a = FourCal() # FourCal클래스로부터 객체 생성\n",
    "b = FourCal()\n",
    "\n",
    "# 붕어빵.내용물을 정한다(단팥)\n",
    "a.setData(4,2) # 숫자 4,2를 a에 지정 : first에 4, second에 2 저장\n",
    "b.setData(1,2)\n",
    "\n",
    "\n",
    "print(a.add()) # 6 리턴\n",
    "print(b.add())\n",
    "# print(a.sub())\n",
    "# print(a.mul())\n",
    "# print(a.div())"
   ]
  },
  {
   "cell_type": "code",
   "execution_count": 51,
   "metadata": {},
   "outputs": [],
   "source": [
    "# MoreFourCal은 FourCal의 자식\n",
    "class MoreFourCal(FourCal):\n",
    "    pass\n",
    "# 상속 => class 자식 클래스명(부모클래스명):\n",
    "# MoreFourCal클래스는 FourCal클래스를 상속했으므로, FourCal클래스의 모든 기능을 사용할 수 있음"
   ]
  },
  {
   "cell_type": "code",
   "execution_count": 52,
   "metadata": {},
   "outputs": [
    {
     "data": {
      "text/plain": [
       "6"
      ]
     },
     "execution_count": 52,
     "metadata": {},
     "output_type": "execute_result"
    }
   ],
   "source": [
    "A = MoreFourCal()\n",
    "A.setData(4,2)\n",
    "A.add()"
   ]
  },
  {
   "cell_type": "code",
   "execution_count": 63,
   "metadata": {},
   "outputs": [],
   "source": [
    "class MoreFourCal(FourCal):\n",
    "    def pow(self):\n",
    "        res = self.first ** self.second\n",
    "        return res"
   ]
  },
  {
   "cell_type": "code",
   "execution_count": 64,
   "metadata": {},
   "outputs": [
    {
     "data": {
      "text/plain": [
       "8"
      ]
     },
     "execution_count": 64,
     "metadata": {},
     "output_type": "execute_result"
    }
   ],
   "source": [
    "B = MoreFourCal()\n",
    "B.setData(2,3)\n",
    "B.pow()"
   ]
  },
  {
   "cell_type": "code",
   "execution_count": 66,
   "metadata": {},
   "outputs": [
    {
     "data": {
      "text/plain": [
       "2.0"
      ]
     },
     "execution_count": 66,
     "metadata": {},
     "output_type": "execute_result"
    }
   ],
   "source": [
    "# 매서드 오버라이딩(overriding): 부모 클래스로부터 상속받은 매서드를 자식이 변경\n",
    "\n",
    "myObj = FourCal()\n",
    "myObj.setData(4,2)\n",
    "myObj.div()"
   ]
  },
  {
   "cell_type": "code",
   "execution_count": 67,
   "metadata": {},
   "outputs": [],
   "source": [
    "class SafeFourCal(FourCal):\n",
    "    def div(self):\n",
    "        if self.second == 1:\n",
    "            print(\"Don't divide by 1\")\n",
    "            return\n",
    "        else:\n",
    "            return self.first/self.second"
   ]
  },
  {
   "cell_type": "code",
   "execution_count": 70,
   "metadata": {},
   "outputs": [
    {
     "name": "stdout",
     "output_type": "stream",
     "text": [
      "Don't divide by 1\n",
      "None\n"
     ]
    }
   ],
   "source": [
    "sfc = SafeFourCal()\n",
    "sfc.setData(4,1)\n",
    "print(sfc.div())"
   ]
  },
  {
   "cell_type": "code",
   "execution_count": 81,
   "metadata": {},
   "outputs": [],
   "source": [
    "class Person:\n",
    "    def __init__(self,name,age,home):\n",
    "        self.name = name\n",
    "        self.age = age\n",
    "        self.home = home\n",
    "    def greeting(self):\n",
    "        print(\"안녕하세요. 나는 %s입니다\" %self.name)\n",
    "    def name(self):\n",
    "        return self.name\n",
    "    def age(self):\n",
    "        return self.age\n",
    "    def home(self):\n",
    "        return self.home"
   ]
  },
  {
   "cell_type": "code",
   "execution_count": 82,
   "metadata": {},
   "outputs": [
    {
     "name": "stdout",
     "output_type": "stream",
     "text": [
      "안녕하세요. 나는 홍길동입니다\n",
      "Name :  홍길동\n",
      "Age :  25\n",
      "Home :  서울시 역삼동\n"
     ]
    }
   ],
   "source": [
    "ps = Person(\"홍길동\",25,\"서울시 역삼동\")\n",
    "ps.greeting() # 안녕하세요. 나는 홍길동입니다.\n",
    "print(\"Name : \",ps.name)\n",
    "print(\"Age : \",ps.age)\n",
    "print(\"Home : \",ps.home)"
   ]
  },
  {
   "cell_type": "code",
   "execution_count": 85,
   "metadata": {},
   "outputs": [],
   "source": [
    "class Person2:\n",
    "    def __init__(self,*args):\n",
    "        self.name = args[0]\n",
    "        self.age = args[1]\n",
    "        self.home = args[2]\n",
    "    def greeting(self):\n",
    "        print(\"안녕하세요. 나는 %s입니다\" %self.name)\n",
    "    def name(self):\n",
    "        return self.name\n",
    "    def age(self):\n",
    "        return self.age\n",
    "    def home(self):\n",
    "        return self.home"
   ]
  },
  {
   "cell_type": "code",
   "execution_count": 86,
   "metadata": {},
   "outputs": [
    {
     "name": "stdout",
     "output_type": "stream",
     "text": [
      "안녕하세요. 나는 홍길동입니다\n",
      "Name :  홍길동\n",
      "Age :  25\n",
      "Home :  서울시 역삼동\n"
     ]
    }
   ],
   "source": [
    "ps2 = Person2(\"홍길동\",25,\"서울시 역삼동\")\n",
    "ps2.greeting() # 안녕하세요. 나는 홍길동입니다.\n",
    "print(\"Name : \",ps2.name)\n",
    "print(\"Age : \",ps2.age)\n",
    "print(\"Home : \",ps2.home)"
   ]
  },
  {
   "cell_type": "code",
   "execution_count": null,
   "metadata": {},
   "outputs": [],
   "source": []
  }
 ],
 "metadata": {
  "kernelspec": {
   "display_name": "Python 3",
   "language": "python",
   "name": "python3"
  },
  "language_info": {
   "codemirror_mode": {
    "name": "ipython",
    "version": 3
   },
   "file_extension": ".py",
   "mimetype": "text/x-python",
   "name": "python",
   "nbconvert_exporter": "python",
   "pygments_lexer": "ipython3",
   "version": "3.7.4"
  }
 },
 "nbformat": 4,
 "nbformat_minor": 2
}
