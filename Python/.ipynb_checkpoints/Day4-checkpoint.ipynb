{
 "cells": [
  {
   "cell_type": "markdown",
   "metadata": {},
   "source": [
    "# 12.20 4일차"
   ]
  },
  {
   "cell_type": "code",
   "execution_count": null,
   "metadata": {},
   "outputs": [],
   "source": [
    "money = True\n",
    "\n",
    "# money가 true이기 때문에 if문 실행\n",
    "if mondy:\n",
    "    print('사먹는다')\n",
    "else:\n",
    "    print('...')"
   ]
  },
  {
   "cell_type": "code",
   "execution_count": 4,
   "metadata": {},
   "outputs": [
    {
     "name": "stdout",
     "output_type": "stream",
     "text": [
      "take a bus\n"
     ]
    }
   ],
   "source": [
    "# 조건식 or 조건식 : 1개 이상 참 ->참\n",
    "# 조건식 and 조건식 : 모두 참 -> 참\n",
    "# not 조건식 : 조건식에 대해서 부정\n",
    "\n",
    "money = 5000\n",
    "card = True\n",
    "if not money >= 10000 and card:\n",
    "    print('take a taxi')\n",
    "else:\n",
    "    print('take a bus')"
   ]
  },
  {
   "cell_type": "code",
   "execution_count": 7,
   "metadata": {},
   "outputs": [
    {
     "name": "stdout",
     "output_type": "stream",
     "text": [
      "coin\n"
     ]
    }
   ],
   "source": [
    "# x in list : 리스트 내부에 x가 있는가?\n",
    "# x in tuple\n",
    "# x in string\n",
    "\n",
    "1 in [1,2,3]\n",
    "1 not in [1,2,3]\n",
    "\n",
    "poc = ['money', 'cp', 'coin']\n",
    "if 'coin' in poc:\n",
    "    print('coin')\n",
    "else:\n",
    "    print('no coin')"
   ]
  },
  {
   "cell_type": "code",
   "execution_count": 8,
   "metadata": {},
   "outputs": [
    {
     "name": "stdout",
     "output_type": "stream",
     "text": [
      "False\n"
     ]
    }
   ],
   "source": [
    "if None:\n",
    "    print('true')\n",
    "else:\n",
    "    print('False')"
   ]
  },
  {
   "cell_type": "code",
   "execution_count": 9,
   "metadata": {},
   "outputs": [
    {
     "name": "stdout",
     "output_type": "stream",
     "text": [
      "true\n"
     ]
    }
   ],
   "source": [
    "if 3.14:\n",
    "    print('true')\n",
    "else:\n",
    "    print('False')"
   ]
  },
  {
   "cell_type": "code",
   "execution_count": 10,
   "metadata": {},
   "outputs": [
    {
     "name": "stdout",
     "output_type": "stream",
     "text": [
      "true\n"
     ]
    }
   ],
   "source": [
    "if 0xFFFF: #16진수\n",
    "    print('true')\n",
    "else:\n",
    "    print('False')"
   ]
  },
  {
   "cell_type": "code",
   "execution_count": 11,
   "metadata": {},
   "outputs": [
    {
     "name": "stdout",
     "output_type": "stream",
     "text": [
      "true\n"
     ]
    }
   ],
   "source": [
    "if 0b1010:  #2진수\n",
    "    print('true')\n",
    "else:\n",
    "    print('False')"
   ]
  },
  {
   "cell_type": "code",
   "execution_count": 12,
   "metadata": {},
   "outputs": [
    {
     "name": "stdout",
     "output_type": "stream",
     "text": [
      "False\n"
     ]
    }
   ],
   "source": [
    "if 0:\n",
    "    print('true')\n",
    "else:\n",
    "    print('False')"
   ]
  },
  {
   "cell_type": "code",
   "execution_count": 13,
   "metadata": {},
   "outputs": [
    {
     "name": "stdout",
     "output_type": "stream",
     "text": [
      "False\n"
     ]
    }
   ],
   "source": [
    "if \"\":\n",
    "    print('true')\n",
    "else:\n",
    "    print('False')"
   ]
  },
  {
   "cell_type": "code",
   "execution_count": 16,
   "metadata": {},
   "outputs": [
    {
     "name": "stdout",
     "output_type": "stream",
     "text": [
      "True\n",
      "True\n"
     ]
    }
   ],
   "source": [
    "# 조건이 2개일때\n",
    "x = 1\n",
    "y = 2\n",
    "\n",
    "if x == 1 and y == 2:\n",
    "    print('True')\n",
    "else:\n",
    "    print('False')\n",
    "    \n",
    "    \n",
    "if x == 1:\n",
    "    if y == 2:\n",
    "        print('True')\n",
    "    else:\n",
    "        print('False')\n",
    "else:\n",
    "    print('False')\n",
    "    \n"
   ]
  },
  {
   "cell_type": "code",
   "execution_count": 54,
   "metadata": {},
   "outputs": [
    {
     "name": "stdout",
     "output_type": "stream",
     "text": [
      "20보다 작은 양수\n"
     ]
    }
   ],
   "source": [
    "x = 10\n",
    "if x > 0 and x < 20:\n",
    "    print('20보다 작은 양수')\n",
    "\n",
    "if 0 < x < 10:  # 다른 언어에서는 사용 불가능\n",
    "    print('20보다 작은 양수')"
   ]
  },
  {
   "cell_type": "code",
   "execution_count": 55,
   "metadata": {},
   "outputs": [
    {
     "name": "stdout",
     "output_type": "stream",
     "text": [
      "taxi\n"
     ]
    }
   ],
   "source": [
    "poc = ['cp','paper']\n",
    "card = True\n",
    "if 'money' in poc:\n",
    "    print('taxi')\n",
    "else:\n",
    "    if card :\n",
    "        print('taxi')\n",
    "    else:\n",
    "        print('walk')"
   ]
  },
  {
   "cell_type": "code",
   "execution_count": 18,
   "metadata": {},
   "outputs": [
    {
     "name": "stdout",
     "output_type": "stream",
     "text": [
      "walk\n"
     ]
    }
   ],
   "source": [
    "poc = ['cp','paper']\n",
    "card = False\n",
    "\n",
    "if 'money' in poc:\n",
    "    print('taxi')\n",
    "elif card:\n",
    "    print('taxi')\n",
    "else:\n",
    "    print('walk')"
   ]
  },
  {
   "cell_type": "markdown",
   "metadata": {},
   "source": [
    "#### 표현 축약하기"
   ]
  },
  {
   "cell_type": "code",
   "execution_count": null,
   "metadata": {},
   "outputs": [],
   "source": [
    "if 'money' in poc:\n",
    "    pass\n",
    "else:\n",
    "    print('use card')"
   ]
  },
  {
   "cell_type": "code",
   "execution_count": null,
   "metadata": {},
   "outputs": [],
   "source": [
    "# 두 줄로 표현가능 but 가독성 낮음 so 권장하지 않음\n",
    "if 'money' in poc: pass\n",
    "else: print('use card')"
   ]
  },
  {
   "cell_type": "code",
   "execution_count": 19,
   "metadata": {},
   "outputs": [],
   "source": [
    "score = 80\n",
    "if score >= 60:\n",
    "    msg = 'success'\n",
    "else:\n",
    "    msg = 'failure'\n",
    "\n",
    "print(msg)"
   ]
  },
  {
   "cell_type": "code",
   "execution_count": 56,
   "metadata": {
    "scrolled": true
   },
   "outputs": [
    {
     "name": "stdout",
     "output_type": "stream",
     "text": [
      "success\n"
     ]
    }
   ],
   "source": [
    "# 한줄로 작성\n",
    "score = 80\n",
    "msg = 'success' if score >= 60  else 'failure' # 이런 형태일 경우, if부터 해석을 해줘야함\n",
    "print(msg)\n",
    "\n",
    "# (조건이 참인 경우 나올것) (if 조건문) (else) (조건문이 거짓인 경우 나올것)"
   ]
  },
  {
   "cell_type": "code",
   "execution_count": 25,
   "metadata": {},
   "outputs": [
    {
     "name": "stdout",
     "output_type": "stream",
     "text": [
      "hi\n",
      "hi\n",
      "hi\n"
     ]
    }
   ],
   "source": [
    "# for 변수 in range(범위):\n",
    "#      반복코드\n",
    "for i in range(10,1,-1):  # (10,1,-1)이 (1,10)보다 연산이 빠르다\n",
    "    print(\"hi\")"
   ]
  },
  {
   "cell_type": "code",
   "execution_count": 26,
   "metadata": {},
   "outputs": [
    {
     "name": "stdout",
     "output_type": "stream",
     "text": [
      "반복 횟수 입력 : 2\n",
      "hello\n",
      "hello\n"
     ]
    }
   ],
   "source": [
    "cnt = int(input(\"반복 횟수 입력 : \")) # input은 str로 받음 -> int로 바꾸어 줌\n",
    "for i in range(cnt):\n",
    "    print('hello')"
   ]
  },
  {
   "cell_type": "code",
   "execution_count": 27,
   "metadata": {},
   "outputs": [
    {
     "name": "stdout",
     "output_type": "stream",
     "text": [
      "1\n",
      "2\n",
      "3\n"
     ]
    }
   ],
   "source": [
    "a = [1,2,3]\n",
    "for i in a: # for 변수 in 리스트\n",
    "    print(i)"
   ]
  },
  {
   "cell_type": "code",
   "execution_count": 29,
   "metadata": {},
   "outputs": [
    {
     "name": "stdout",
     "output_type": "stream",
     "text": [
      "1\n",
      "2\n",
      "3\n"
     ]
    }
   ],
   "source": [
    "a2 = (1,2,3)\n",
    "for i in a: # for 변수 in 튜플\n",
    "    print(i)"
   ]
  },
  {
   "cell_type": "code",
   "execution_count": 31,
   "metadata": {},
   "outputs": [
    {
     "name": "stdout",
     "output_type": "stream",
     "text": [
      "p\n",
      "y\n",
      "t\n",
      "h\n",
      "o\n",
      "n\n"
     ]
    }
   ],
   "source": [
    "a3 = 'python'\n",
    "for i in a3: # for 변수 in 문자열\n",
    "    print(i)"
   ]
  },
  {
   "cell_type": "code",
   "execution_count": 33,
   "metadata": {},
   "outputs": [
    {
     "name": "stdout",
     "output_type": "stream",
     "text": [
      "p y t h o n "
     ]
    }
   ],
   "source": [
    "# outpute이 뛰어쓰기 간격으로 나오게\n",
    "a3 = 'python'\n",
    "for i in a3: # for 변수 in 문자열\n",
    "    print(i, end = ' ')"
   ]
  },
  {
   "cell_type": "code",
   "execution_count": 34,
   "metadata": {},
   "outputs": [
    {
     "name": "stdout",
     "output_type": "stream",
     "text": [
      "n o h t y p "
     ]
    }
   ],
   "source": [
    "# 거꾸로 outpute나오게\n",
    "a3 = 'python'\n",
    "for i in reversed(a3): # for 변수 in 문자열\n",
    "    print(i, end = ' ')"
   ]
  },
  {
   "cell_type": "markdown",
   "metadata": {},
   "source": [
    "### while"
   ]
  },
  {
   "cell_type": "code",
   "execution_count": 35,
   "metadata": {},
   "outputs": [
    {
     "name": "stdout",
     "output_type": "stream",
     "text": [
      "hi 0\n",
      "hi 1\n",
      "hi 2\n",
      "hi 3\n",
      "hi 4\n",
      "hi 5\n",
      "hi 6\n",
      "hi 7\n",
      "hi 8\n",
      "hi 9\n"
     ]
    }
   ],
   "source": [
    "# while 조건식:\n",
    "#     수행문장1\n",
    "#     수행문장2\n",
    "#     ...\n",
    "\n",
    "i = 0\n",
    "while i<10: # i가 10보다 작다는 조건을 만족하는 동안 실행\n",
    "    print(\"hi\",i)\n",
    "    i+=1"
   ]
  },
  {
   "cell_type": "code",
   "execution_count": 39,
   "metadata": {},
   "outputs": [
    {
     "name": "stdout",
     "output_type": "stream",
     "text": [
      "\n",
      "1. add\n",
      "2. del\n",
      "3. list\n",
      "4. quit\n",
      "\n",
      "enter number:  \n"
     ]
    }
   ],
   "source": [
    "prompt = '''\n",
    "1. add\n",
    "2. del\n",
    "3. list\n",
    "4. quit\n",
    "\n",
    "enter number:  '''\n",
    "\n",
    "print(prompt)"
   ]
  },
  {
   "cell_type": "code",
   "execution_count": 40,
   "metadata": {},
   "outputs": [
    {
     "name": "stdout",
     "output_type": "stream",
     "text": [
      "\n",
      "1. add\n",
      "2. del\n",
      "3. list\n",
      "4. quit\n",
      "\n",
      "enter number:  \n",
      "1\n",
      "\n",
      "1. add\n",
      "2. del\n",
      "3. list\n",
      "4. quit\n",
      "\n",
      "enter number:  \n",
      "4\n"
     ]
    }
   ],
   "source": [
    "number = 0\n",
    "while number != 4:\n",
    "    print(prompt)\n",
    "    number  = int(input())"
   ]
  },
  {
   "cell_type": "code",
   "execution_count": null,
   "metadata": {},
   "outputs": [],
   "source": [
    "문법적 에러 : 오타\n",
    "논리적 에러 : "
   ]
  },
  {
   "cell_type": "code",
   "execution_count": 52,
   "metadata": {},
   "outputs": [
    {
     "data": {
      "text/plain": [
       "1"
      ]
     },
     "execution_count": 52,
     "metadata": {},
     "output_type": "execute_result"
    }
   ],
   "source": [
    "# 난수(random number) : 컴퓨터 임의의 수\n",
    "# 모듈(파일) : 함수들의 묶음(.py 또는 .ipnyb)\n",
    "# 패키지(폴더) : 모듈 또는 서브 패기키(하위 폴더)의 묶음\n",
    "\n",
    "\n",
    "import random # random모튤(random.py)을 가져와라\n",
    "random.random() # 0 <= 난수 < 1\n",
    "# 모튤이름. 함수이름\n",
    "\n",
    "\n",
    "random.randint(-10,10) # randint : 랜덤 정수\n",
    "\n",
    "# 동일한 수 나옴 -> 중복으로 나올수 있음"
   ]
  },
  {
   "cell_type": "code",
   "execution_count": 58,
   "metadata": {},
   "outputs": [
    {
     "name": "stdout",
     "output_type": "stream",
     "text": [
      "5\n",
      "o\n",
      "17\n"
     ]
    }
   ],
   "source": [
    "# choice함수는 choice(시퀀스형)와 같은 형식으로 작성\n",
    "#무작위로 추출\n",
    "#한개 추출할때 쓰면 좋음\n",
    "\n",
    "print(random.choice([1,2,3,4,5,6]))\n",
    "print(random.choice('hello'))\n",
    "print(random.choice(range(10,20)))"
   ]
  },
  {
   "cell_type": "code",
   "execution_count": 60,
   "metadata": {},
   "outputs": [
    {
     "name": "stdout",
     "output_type": "stream",
     "text": [
      "1\n",
      "2\n",
      "3\n",
      "4\n",
      "5\n"
     ]
    }
   ],
   "source": [
    "# break, continue 문은 반복문에서 제어하는 역할\n",
    "\n",
    "# break : 반복문 종료\n",
    "# continue : 특정 반복 문장을 건너뛸때 사용\n",
    "\n",
    "i = 0\n",
    "while True: # 무한 반복문 (True라서)\n",
    "    i+=1\n",
    "    print(i)\n",
    "    if i == 5:\n",
    "        break"
   ]
  },
  {
   "cell_type": "code",
   "execution_count": 61,
   "metadata": {},
   "outputs": [
    {
     "name": "stdout",
     "output_type": "stream",
     "text": [
      "0\n",
      "1\n",
      "2\n",
      "3\n",
      "4\n",
      "5\n"
     ]
    }
   ],
   "source": [
    "for i in range(100):\n",
    "    print(i)\n",
    "    if i == 5:\n",
    "        break"
   ]
  },
  {
   "cell_type": "code",
   "execution_count": 62,
   "metadata": {},
   "outputs": [
    {
     "name": "stdout",
     "output_type": "stream",
     "text": [
      "1 3 5 7 9 11 13 15 17 19 21 23 25 27 29 31 33 35 37 39 41 43 45 47 49 51 53 55 57 59 61 63 65 67 69 71 73 75 77 79 81 83 85 87 89 91 93 95 97 99 "
     ]
    }
   ],
   "source": [
    "# 100이하 홀수 출력\n",
    "for i in range(100):\n",
    "    if i %2 == 0: # even\n",
    "        continue # 반복문의 시작위치로 이동\n",
    "                    #따라서 continue 아래에 있는 문장들은 실행ㄴㄴ\n",
    "    print(i, end=' ')"
   ]
  },
  {
   "cell_type": "code",
   "execution_count": 63,
   "metadata": {},
   "outputs": [
    {
     "name": "stdout",
     "output_type": "stream",
     "text": [
      "2 4 6 8 10 12 14 16 18 20 22 24 26 28 30 32 34 36 38 40 42 44 46 48 50 52 54 56 58 60 62 64 66 68 70 72 74 76 78 80 82 84 86 88 90 92 94 96 98 100 "
     ]
    }
   ],
   "source": [
    "# 100이하 짝수만 출력 (while문)\n",
    "i = 0\n",
    "while i < 101:\n",
    "    i += 1\n",
    "    if i%2 == 0:\n",
    "        print(i, end =' ')"
   ]
  },
  {
   "cell_type": "code",
   "execution_count": 53,
   "metadata": {},
   "outputs": [
    {
     "name": "stdout",
     "output_type": "stream",
     "text": [
      "커피가 나옵니다\n",
      "남은 커피는 4잔 입니다\n",
      "잔액은 900원 입니다\n",
      "커피가 나옵니다\n",
      "남은 커피는 3잔 입니다\n",
      "잔액은 700원 입니다\n",
      "커피가 나옵니다\n",
      "남은 커피는 2잔 입니다\n",
      "잔액은 500원 입니다\n",
      "커피가 나옵니다\n",
      "남은 커피는 1잔 입니다\n",
      "잔액은 300원 입니다\n",
      "커피가 나옵니다\n",
      "남은 커피는 0잔 입니다\n",
      "잔액은 100원 입니다\n",
      "커피가 떨어졌습니다. 판매 중지\n"
     ]
    }
   ],
   "source": [
    "coffee = 5 # 10잔 커피,1잔에 200원\n",
    "money = 1100\n",
    "\n",
    "while money:\n",
    "    print('커피가 나옵니다')\n",
    "    coffee = coffee-1\n",
    "    money = money -200\n",
    "    print('남은 커피는 %d잔 입니다' %coffee)\n",
    "    print('잔액은 %d원 입니다' %money)\n",
    "    if coffee == 0 :\n",
    "        print(\"커피가 떨어졌습니다. 판매 중지\")\n",
    "        break\n",
    "        \n",
    "        \n",
    "# 잔액이 200원 미만이면 판매가 안되도록"
   ]
  },
  {
   "cell_type": "code",
   "execution_count": 77,
   "metadata": {},
   "outputs": [
    {
     "name": "stdout",
     "output_type": "stream",
     "text": [
      "1\n",
      "3\n"
     ]
    }
   ],
   "source": [
    "a = [(1,2),(3,4)]\n",
    "for (data1, data2) in a:\n",
    "    print(data1)"
   ]
  },
  {
   "cell_type": "code",
   "execution_count": 35,
   "metadata": {},
   "outputs": [
    {
     "name": "stdout",
     "output_type": "stream",
     "text": [
      "2 4 6 8 10 12 14 16 18 \n",
      "\n",
      "3 6 9 12 15 18 21 24 27 \n",
      "\n",
      "4 8 12 16 20 24 28 32 36 \n",
      "\n",
      "5 10 15 20 25 30 35 40 45 \n",
      "\n",
      "6 12 18 24 30 36 42 48 54 \n",
      "\n",
      "7 14 21 28 35 42 49 56 63 \n",
      "\n",
      "8 16 24 32 40 48 56 64 72 \n",
      "\n",
      "9 18 27 36 45 54 63 72 81 \n",
      "\n"
     ]
    }
   ],
   "source": [
    "#구구단 2단\n",
    "\n",
    "c = []\n",
    "for i in range(2,10):\n",
    "    for j in range(1,10):\n",
    "        print(i*j, end = ' ')\n",
    "    print('\\n')"
   ]
  },
  {
   "cell_type": "code",
   "execution_count": 79,
   "metadata": {},
   "outputs": [
    {
     "name": "stdout",
     "output_type": "stream",
     "text": [
      "* \n",
      "* * \n",
      "* * * \n",
      "* * * * \n"
     ]
    }
   ],
   "source": [
    "# *\n",
    "# **\n",
    "# ***\n",
    "# ****\n",
    "for i in range(4): #줄\n",
    "    for j in range(4): #별의 개수\n",
    "        if j <= i:\n",
    "            print(\"*\", end=\" \")\n",
    "#           break\n",
    "    print()"
   ]
  },
  {
   "cell_type": "code",
   "execution_count": 36,
   "metadata": {},
   "outputs": [
    {
     "name": "stdout",
     "output_type": "stream",
     "text": [
      "*\n",
      "**\n",
      "***\n",
      "****\n"
     ]
    }
   ],
   "source": [
    "for i in range(1,5):\n",
    "    print('*'*i)"
   ]
  },
  {
   "cell_type": "code",
   "execution_count": 80,
   "metadata": {},
   "outputs": [
    {
     "name": "stdout",
     "output_type": "stream",
     "text": [
      "*    \n",
      " *   \n",
      "  *  \n",
      "   * \n"
     ]
    }
   ],
   "source": [
    "# *\n",
    "#  *\n",
    "#   *\n",
    "#    *\n",
    "for i in range(4): #줄\n",
    "    for j in range(4): #별의 개수\n",
    "        if j == i:\n",
    "            print(\"*\", end=\" \")\n",
    "#           break\n",
    "        else:\n",
    "            print(\" \", end=\"\")\n",
    "    print()"
   ]
  },
  {
   "cell_type": "code",
   "execution_count": 41,
   "metadata": {},
   "outputs": [
    {
     "name": "stdout",
     "output_type": "stream",
     "text": [
      " *\n",
      "  *\n",
      "   *\n",
      "    *\n"
     ]
    }
   ],
   "source": [
    "for j in range(0,4):\n",
    "     print(' '*j,'*')"
   ]
  },
  {
   "cell_type": "code",
   "execution_count": 48,
   "metadata": {},
   "outputs": [
    {
     "name": "stdout",
     "output_type": "stream",
     "text": [
      "[1, 2, 3]\n",
      "[2, 4, 6]\n"
     ]
    }
   ],
   "source": [
    "# 리스트 내포\n",
    "# 리스트 내부에 for문을 포함\n",
    "x = [1,2,3]\n",
    "res = []\n",
    "res2 = []\n",
    "for n in x:\n",
    "    res.append(n)\n",
    "    res2.append(n*2)\n",
    "print(res)\n",
    "print(res2)"
   ]
  },
  {
   "cell_type": "code",
   "execution_count": 50,
   "metadata": {},
   "outputs": [
    {
     "name": "stdout",
     "output_type": "stream",
     "text": [
      "[2, 4, 6]\n"
     ]
    }
   ],
   "source": [
    "x = [1,2,3]\n",
    "res = []\n",
    "\n",
    "res = [n*2 for n in x]\n",
    "# [표현식 for 변수 in 반복가능형 if 조건문]\n",
    "print(res)"
   ]
  },
  {
   "cell_type": "code",
   "execution_count": 51,
   "metadata": {},
   "outputs": [
    {
     "name": "stdout",
     "output_type": "stream",
     "text": [
      "[4]\n"
     ]
    }
   ],
   "source": [
    "x = [1,2,3]\n",
    "res = []\n",
    "\n",
    "res = [n*2 for n in x if n%2 == 0]\n",
    "# 만약 n이 짝수이면\n",
    "#n에 2를 곱한 값으로 리스트에 저장\n",
    "print(res)"
   ]
  },
  {
   "cell_type": "code",
   "execution_count": 52,
   "metadata": {},
   "outputs": [
    {
     "name": "stdout",
     "output_type": "stream",
     "text": [
      "[2, 4, 6, 8, 10, 12, 14, 16, 18, 3, 6, 9, 12, 15, 18, 21, 24, 27, 4, 8, 12, 16, 20, 24, 28, 32, 36, 5, 10, 15, 20, 25, 30, 35, 40, 45, 6, 12, 18, 24, 30, 36, 42, 48, 54, 7, 14, 21, 28, 35, 42, 49, 56, 63, 8, 16, 24, 32, 40, 48, 56, 64, 72, 9, 18, 27, 36, 45, 54, 63, 72, 81]\n"
     ]
    }
   ],
   "source": [
    "res = [y*x for y in range(2,10) for x in range(1,10)]\n",
    "print(res)\n",
    "\n",
    "#for y in range(2,10)   밖 for\n",
    "#for x in range(1,10)  안쪽 for\n",
    "#y*x"
   ]
  }
 ],
 "metadata": {
  "kernelspec": {
   "display_name": "Python 3",
   "language": "python",
   "name": "python3"
  },
  "language_info": {
   "codemirror_mode": {
    "name": "ipython",
    "version": 3
   },
   "file_extension": ".py",
   "mimetype": "text/x-python",
   "name": "python",
   "nbconvert_exporter": "python",
   "pygments_lexer": "ipython3",
   "version": "3.7.4"
  }
 },
 "nbformat": 4,
 "nbformat_minor": 2
}
