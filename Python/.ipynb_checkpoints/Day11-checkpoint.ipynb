{
 "cells": [
  {
   "cell_type": "markdown",
   "metadata": {},
   "source": [
    "# 2020.01.03 11일차 "
   ]
  },
  {
   "cell_type": "code",
   "execution_count": null,
   "metadata": {},
   "outputs": [],
   "source": [
    "로그인이 필요한 사이트 자료가져오기 "
   ]
  },
  {
   "cell_type": "code",
   "execution_count": null,
   "metadata": {},
   "outputs": [],
   "source": [
    "클라우드 : www.hanbit.co.kr 입력\n",
    "서버 : http://www.hanbit.co.kr/index.html 클라우드에게 전달(정상신호 :200, 주소잘못 입력:40x 서버내부오류:50x)\n",
    "클라우드: 웹브라우저가 http://www.hanbit.co.kr/index.html 해석 => 결과화면 출력"
   ]
  },
  {
   "cell_type": "code",
   "execution_count": null,
   "metadata": {},
   "outputs": [],
   "source": [
    "초기화면 : http://www.hanbit.co.kr/index.html\n",
    "로그인 : http://www.hanbit.co.kr/member.login.html\n",
    "m_Id <- test, m_passwd <- 1234. 전달 후 로그인 처리(.....php)\n",
    "=> 처리 결과 (로그인 성공, 실패)\n",
    "사용자 페이지 : "
   ]
  },
  {
   "cell_type": "code",
   "execution_count": null,
   "metadata": {},
   "outputs": [],
   "source": [
    "F12->network->doc->preserve log체크 -> 로그인 하면 파일이 쌓이는 것을 볼 수 있음->login_proc_php클릭 -> Headers -> id와 password볼수 있음"
   ]
  },
  {
   "cell_type": "code",
   "execution_count": 1,
   "metadata": {},
   "outputs": [],
   "source": [
    "# 로그인 모듈\n",
    "import requests\n",
    "from bs4 import BeautifulSoup"
   ]
  },
  {
   "cell_type": "code",
   "execution_count": 6,
   "metadata": {},
   "outputs": [],
   "source": [
    "# id password\n",
    "USER = 'yhcha'\n",
    "PASS = 'dnsehdgkwk4*'"
   ]
  },
  {
   "cell_type": "code",
   "execution_count": 7,
   "metadata": {},
   "outputs": [],
   "source": [
    "# 세션 : 서버와 클라이언트간의 연결\n",
    "# 세션이 연결되었다 = 서버와 클라이언트와 연결 됨\n",
    "# 세션이 끊어졌다 = 서버와 클라이언트 연결이 끊어짐\n",
    "# 세션 타임아웃 = 지정한 시간이 지나면 연결이 끊김\n",
    "\n",
    "# 세션 시작하기\n",
    "session = requests.session()\n",
    "\n",
    "# 인증 authori : id 비번 정확한지 확인\n",
    "login_info = {\"m_id\":USER, \"m_passwd\" : PASS}\n",
    "\n",
    "# login_proc_php파일 -> headers -> General -> Request URL\n",
    "url_login = \"http://m.hanbit.co.kr//member/login_proc.php\"\n",
    "\n",
    "# session.post(url_login)"
   ]
  },
  {
   "cell_type": "code",
   "execution_count": 18,
   "metadata": {},
   "outputs": [],
   "source": [
    "# 로그인\n",
    "res = session.post(url_login, data = login_info)\n",
    "res.raise_for_status() #정상적으로 처리되면 아무것도 안나오지만 오류가 발생하면 예외사항 출력해줌"
   ]
  },
  {
   "cell_type": "code",
   "execution_count": 17,
   "metadata": {},
   "outputs": [
    {
     "data": {
      "text/plain": [
       "<Response [200]>"
      ]
     },
     "execution_count": 17,
     "metadata": {},
     "output_type": "execute_result"
    }
   ],
   "source": [
    "res"
   ]
  },
  {
   "cell_type": "code",
   "execution_count": 19,
   "metadata": {},
   "outputs": [],
   "source": [
    "# 사용자 페이지\n",
    "res = session.get(\"http://m.hanbit.co.kr/myhanbit/myhanbit.html\")\n",
    "res.raise_for_status()"
   ]
  },
  {
   "cell_type": "code",
   "execution_count": 20,
   "metadata": {},
   "outputs": [
    {
     "name": "stdout",
     "output_type": "stream",
     "text": [
      "마일리지 : 2,000\n",
      "코인 : 0\n"
     ]
    }
   ],
   "source": [
    "# 마일리지 정보\n",
    "soup = BeautifulSoup(res.text,'html.parser')\n",
    "mileage = soup.select_one(\"#container > div.myhanbit_wrap > div.sm_mileage_area > dl.mileage_section1 > dd > span\").get_text()\n",
    "ecoin = soup.select_one(\"#container > div.myhanbit_wrap > div.sm_mileage_area > dl.mileage_section2 > dd > span\").get_text()\n",
    "\n",
    "print(\"마일리지 : \"+mileage)\n",
    "print(\"코인 : \"+ecoin)\n",
    "\n",
    "# 마일리지 #container > div.myhanbit_wrap > div.sm_mileage_area > dl.mileage_section1 > dd > span\n",
    "# #container > div.myhanbit_wrap > div.sm_mileage_area > dl.mileage_section2 > dd > span\n"
   ]
  },
  {
   "cell_type": "code",
   "execution_count": null,
   "metadata": {},
   "outputs": [],
   "source": [
    "# 웹브라우저를 이용한 스크래핑\n",
    "# Selenium : 웹 브라우저를 조작(스크래핑) 도구 (Selenium 설치 해야함)\n",
    "# Phantomjs : 화면없는 웹브라우저, 화면없이 명령줄에서 이용할 수 있는 웹브라우저\n",
    "\n",
    "# phantomjs를 이용하여 사이트 탐색(이동), Selenium이용하여 해당 사이트에서 자동으로 url열기, 클릭, 스크롤, 문자 입력 가능, 화면캡쳐 등의 작업을 수행"
   ]
  },
  {
   "cell_type": "code",
   "execution_count": null,
   "metadata": {},
   "outputs": [],
   "source": [
    "# Selenium 설치\n",
    "# 아나콘다 프롬프트에서 pip install selenium\n",
    "# 자동으로 url열기, 클릭, 스크롤, 문자 입력 가능, 화면캡쳐"
   ]
  },
  {
   "cell_type": "code",
   "execution_count": null,
   "metadata": {},
   "outputs": [],
   "source": [
    "# Phantomjs 설치\n",
    "# https://phantomjs.org/download.html 들어가서 파일 다운 압축풀기\n",
    "# ->Phantomjs.exe 파일을 복사\n",
    "# ->내컴퓨터->속성->고급시스템설정->환경변수->시스템변수에서 path-> 나온 폴더 중에 파일 붙여 넣기(windows에 넣음)\n",
    "# path폴더에 있는 파일들은 어디에서나 실행이 가능해짐\n",
    "\n",
    "# path에 넣지 않고 시스템변수에서 세로 만들어도 됨"
   ]
  },
  {
   "cell_type": "code",
   "execution_count": null,
   "metadata": {},
   "outputs": [],
   "source": []
  },
  {
   "cell_type": "code",
   "execution_count": 22,
   "metadata": {},
   "outputs": [
    {
     "name": "stderr",
     "output_type": "stream",
     "text": [
      "C:\\Users\\student\\Anaconda3\\lib\\site-packages\\selenium\\webdriver\\phantomjs\\webdriver.py:49: UserWarning: Selenium support for PhantomJS has been deprecated, please use headless versions of Chrome or Firefox instead\n",
      "  warnings.warn('Selenium support for PhantomJS has been deprecated, please use headless '\n"
     ]
    }
   ],
   "source": [
    "from selenium import webdriver\n",
    "url = 'http://www.naver.com'\n",
    "\n",
    "#phantomjs 드라이버 추출\n",
    "browser = webdriver.PhantomJS()\n",
    "# 3초 대기\n",
    "browser.implicitly_wait(3)\n",
    "# url 읽기\n",
    "browser.get(url)\n",
    "#화면 캡쳐 및 저장\n",
    "browser.save_screenshot(\"myshot.png\")\n",
    "#브라우저 종료\n",
    "browser.quit()"
   ]
  },
  {
   "cell_type": "code",
   "execution_count": 40,
   "metadata": {},
   "outputs": [],
   "source": [
    "# https://rottentomatoes.com/\n",
    "\n",
    "import urllib.request as req\n",
    "page = req.urlopen(\"https://rottentomatoes.com/\")"
   ]
  },
  {
   "cell_type": "code",
   "execution_count": 41,
   "metadata": {},
   "outputs": [],
   "source": [
    "doc = page.read() \n",
    "page # #homepage-top-box-office 검색해보니 1개 밖에 없네\n",
    "soup = BeautifulSoup(doc,'html.parser')\n",
    "movies = soup.find(id=\"homepage-top-box-office\")\n"
   ]
  },
  {
   "cell_type": "code",
   "execution_count": 46,
   "metadata": {},
   "outputs": [
    {
     "name": "stdout",
     "output_type": "stream",
     "text": [
      "\n",
      "Star Wars: The Rise of Skywalker\n",
      "\n",
      "https://rottentomatoes.com//m/star_wars_the_rise_of_skywalker\n",
      "\n",
      "Jumanji: The Next Level\n",
      "\n",
      "https://rottentomatoes.com//m/jumanji_the_next_level\n",
      "\n",
      "Little Women\n",
      "\n",
      "https://rottentomatoes.com//m/little_women_2019\n",
      "\n",
      "Frozen II\n",
      "\n",
      "https://rottentomatoes.com//m/frozen_ii\n",
      "\n",
      "Spies in Disguise\n",
      "\n",
      "https://rottentomatoes.com//m/spies_in_disguise\n",
      "\n",
      "Knives Out\n",
      "\n",
      "https://rottentomatoes.com//m/knives_out\n",
      "\n",
      "Uncut Gems\n",
      "\n",
      "https://rottentomatoes.com//m/uncut_gems\n",
      "\n",
      "Cats\n",
      "\n",
      "https://rottentomatoes.com//m/cats_2019\n",
      "\n",
      "Bombshell\n",
      "\n",
      "https://rottentomatoes.com//m/bombshell_2019\n",
      "\n",
      "Richard Jewell\n",
      "\n",
      "https://rottentomatoes.com//m/richard_jewell\n"
     ]
    }
   ],
   "source": [
    "# middle_col에 제목\n",
    "\n",
    "movies_list = movies.find_all(\"td\",class_=\"middle_col\")\n",
    "# movies_list.get(\"a\")\n",
    "for movie in movies_list:\n",
    "    print(movie.get_text()) # 텍스트 추출\n",
    "    print(\"https://rottentomatoes.com/\" + movie.find('a').get(\"href\")) #링크 추출"
   ]
  },
  {
   "cell_type": "code",
   "execution_count": null,
   "metadata": {},
   "outputs": [],
   "source": []
  },
  {
   "cell_type": "code",
   "execution_count": null,
   "metadata": {},
   "outputs": [],
   "source": [
    "# 질문 뽑기\n",
    "#question-summary-59573353 > div.summary > h3 > a\n",
    "#question-summary-59573349 > div.summary > h3 > a\n",
    "\n",
    "# 주소 목사\n",
    "# stackoverflow.com/questions/tagged/python?tab=new\n"
   ]
  },
  {
   "cell_type": "code",
   "execution_count": 68,
   "metadata": {},
   "outputs": [
    {
     "data": {
      "text/plain": [
       "[]"
      ]
     },
     "execution_count": 68,
     "metadata": {},
     "output_type": "execute_result"
    }
   ],
   "source": [
    "import requests\n",
    "url = \"https://stackoverflow.com/questions/tagged/python\"\n",
    "response = requests.get(url)\n",
    "soup = BeautifulSoup(response.text,'html.parser')\n",
    "# soup # question-summary\n",
    "\n",
    "links =[]\n",
    "for link in soup.select('div.question-summary h3 a'):\n",
    "    link.append(link.attrs['href'])\n",
    "#     print('https://stackoverflow.com'+link.attrs['href'])\n",
    "links"
   ]
  },
  {
   "cell_type": "code",
   "execution_count": 66,
   "metadata": {},
   "outputs": [],
   "source": [
    "for link in links:\n",
    "    url =  \"https://stackoverflow.com\"+link\n",
    "    response = requests.get(url)\n",
    "    text = response.text\n",
    "    soup = BeautifulSoup(text,'html.parser')\n",
    "    print(soup)\n",
    "#     print(\"\\nQuestion\\n\")\n",
    "#     print(\"\\nAnswer\\n\")\n",
    "#     print(\"=\"*40)"
   ]
  },
  {
   "cell_type": "code",
   "execution_count": null,
   "metadata": {},
   "outputs": [],
   "source": [
    "print(\"\\nAnswer\\n\")"
   ]
  },
  {
   "cell_type": "code",
   "execution_count": null,
   "metadata": {},
   "outputs": [],
   "source": []
  },
  {
   "cell_type": "code",
   "execution_count": null,
   "metadata": {},
   "outputs": [],
   "source": []
  },
  {
   "cell_type": "code",
   "execution_count": null,
   "metadata": {},
   "outputs": [],
   "source": []
  }
 ],
 "metadata": {
  "kernelspec": {
   "display_name": "Python 3",
   "language": "python",
   "name": "python3"
  },
  "language_info": {
   "codemirror_mode": {
    "name": "ipython",
    "version": 3
   },
   "file_extension": ".py",
   "mimetype": "text/x-python",
   "name": "python",
   "nbconvert_exporter": "python",
   "pygments_lexer": "ipython3",
   "version": "3.7.4"
  }
 },
 "nbformat": 4,
 "nbformat_minor": 2
}
