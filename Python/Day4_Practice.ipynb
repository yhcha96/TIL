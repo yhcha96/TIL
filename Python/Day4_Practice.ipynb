{
 "cells": [
  {
   "cell_type": "code",
   "execution_count": 117,
   "metadata": {},
   "outputs": [
    {
     "name": "stdout",
     "output_type": "stream",
     "text": [
      "[36, 40, 41, 16, 29, 30]\n"
     ]
    }
   ],
   "source": [
    "# 동일한 수가 발생하지 않도록 로또생성기 코드 수정\n",
    "import random\n",
    "\n",
    "i = 0\n",
    "num = []\n",
    "\n",
    "while i != 6:\n",
    "    num += [random.randint(1,45)]\n",
    "    num = list(set(num))\n",
    "    if len(num) < 6:\n",
    "        continue\n",
    "    else:\n",
    "        print(num)\n",
    "        break\n",
    "    i +=1"
   ]
  },
  {
   "cell_type": "code",
   "execution_count": 118,
   "metadata": {},
   "outputs": [
    {
     "name": "stdout",
     "output_type": "stream",
     "text": [
      "커피가 나옵니다\n",
      "남은 커피는 9잔 입니다\n",
      "잔액은 900원 입니다\n",
      "커피가 나옵니다\n",
      "남은 커피는 8잔 입니다\n",
      "잔액은 700원 입니다\n",
      "커피가 나옵니다\n",
      "남은 커피는 7잔 입니다\n",
      "잔액은 500원 입니다\n",
      "커피가 나옵니다\n",
      "남은 커피는 6잔 입니다\n",
      "잔액은 300원 입니다\n",
      "커피가 나옵니다\n",
      "남은 커피는 5잔 입니다\n",
      "잔액은 100원 입니다\n",
      "잔액이 부족합니다\n"
     ]
    }
   ],
   "source": [
    "# 잔액이 200원 미만이면 판매가 안되도록\n",
    "\n",
    "coffee = 10 # 10잔 커피,1잔에 200원\n",
    "money = 1100\n",
    "\n",
    "while money:\n",
    "    print('커피가 나옵니다')\n",
    "    coffee = coffee-1\n",
    "    money = money -200\n",
    "    print('남은 커피는 %d잔 입니다' %coffee)\n",
    "    print('잔액은 %d원 입니다' %money)\n",
    "    if money < 200:\n",
    "        print('잔액이 부족합니다')\n",
    "        break\n",
    "    else:\n",
    "        if coffee == 0 :\n",
    "            print(\"커피가 떨어졌습니다. 판매 중지\")\n",
    "            break"
   ]
  },
  {
   "cell_type": "code",
   "execution_count": 132,
   "metadata": {},
   "outputs": [
    {
     "name": "stdout",
     "output_type": "stream",
     "text": [
      "   *   \n",
      "  ***  \n",
      " ***** \n"
     ]
    }
   ],
   "source": [
    "# 피라미드 만들기\n",
    "\n",
    "k = 1 # 1,3,5,7,9....개수로 나와야해서 여기서 계속 2 더해주는 방법으로\n",
    "\n",
    "n = 4 # 행\n",
    "m = 3 # 열\n",
    "\n",
    "for i in range(0,m):\n",
    "    print(' '*((n//2)-i),'*'*k,' '*((n//2)-i))\n",
    "    k = k+2"
   ]
  },
  {
   "cell_type": "code",
   "execution_count": 5,
   "metadata": {},
   "outputs": [
    {
     "name": "stdout",
     "output_type": "stream",
     "text": [
      "3\n",
      "  *\n",
      " ***\n",
      "*****\n"
     ]
    }
   ],
   "source": [
    "# 줄 수\n",
    "n = int(input())\n",
    "m = 2*n-1\n",
    "for i in range(0,n):\n",
    "    k = 2*i + 1\n",
    "    print(str(' '*((m//2)-i)) + str('*'*k))"
   ]
  },
  {
   "cell_type": "markdown",
   "metadata": {},
   "source": [
    "# Question 1"
   ]
  },
  {
   "cell_type": "markdown",
   "metadata": {},
   "source": [
    "1차원의 점들이 주어졌을 때, 그 중 가장 거리가 짧은 것의 쌍을 출력하는 함수를 작성하시오. (단 점들의 배열은 모두 정렬되어있다고 가정한다.)\n",
    "\n",
    "예를들어 S={1, 3, 4, 8, 13, 17, 20} 이 주어졌다면, 결과값은 (3, 4)가 될 것이다."
   ]
  },
  {
   "cell_type": "code",
   "execution_count": 28,
   "metadata": {},
   "outputs": [
    {
     "name": "stdout",
     "output_type": "stream",
     "text": [
      "(3, 4)\n"
     ]
    }
   ],
   "source": [
    "# sort 되었다고 보았을때\n",
    "# 가장 작은 것이랑 계속 비교 해서 가장 작은 값 찾고 그 값의 위치 저장\n",
    "\n",
    "S = {1, 3, 4, 8, 13, 17, 20}\n",
    "\n",
    "L = len(S)\n",
    "rS = list(S)\n",
    " \n",
    "dis = []\n",
    "i = 1\n",
    "small = rS[L-1] - rS[0]\n",
    "while i < 7:\n",
    "    a = rS[i] - rS[i-1]\n",
    "    if a < small:\n",
    "        small = a\n",
    "        count = i\n",
    "    i += 1\n",
    "print((rS[count-1],rS[count]))"
   ]
  },
  {
   "cell_type": "markdown",
   "metadata": {},
   "source": [
    "# Question 2"
   ]
  },
  {
   "cell_type": "markdown",
   "metadata": {},
   "source": [
    "주어진 문자열(공백 없이 쉼표로 구분되어 있음)을 가지고 아래 문제에 대한 프로그램을 작성하세요.\n",
    "\n",
    "data=\"이유덕,이재영,권종표,이재영,박민호,강상희,이재영,김지완,최승혁,이성연,박영서,박민호,전경헌,송정환,김재성,이유덕,전경헌\"\n",
    "\n",
    "- 김씨와 이씨는 각각 몇 명 인가요?\n",
    "- \"이재영\"이란 이름이 몇 번 반복되나요?\n",
    "- 중복을 제거한 이름을 출력하세요.\n",
    "- 중복을 제거한 이름을 오름차순으로 정렬하여 출력하세요.\n",
    "\n",
    "names = \"이유덕,이재영,권종표,이재영,박민호,강상희,이재영,김지완,최승혁,이성연,박영서,박민호,전경헌,송정환,김재성,이유덕,전경헌\".split(\",\")"
   ]
  },
  {
   "cell_type": "code",
   "execution_count": 9,
   "metadata": {},
   "outputs": [
    {
     "name": "stdout",
     "output_type": "stream",
     "text": [
      "2 6\n",
      "김씨 2명, 이씨 6명\n"
     ]
    }
   ],
   "source": [
    "names = \"이유덕,이재영,권종표,이재영,박민호,강상희,이재영,김지완,최승혁,이성연,박영서,박민호,전경헌,송정환,김재성,이유덕,전경헌\".split(\",\")\n",
    "L = len(names)\n",
    "Kim = 0\n",
    "Lee = 0\n",
    "\n",
    "for i in range(L):\n",
    "    if names[i][0] == '김':\n",
    "        Kim += 1    \n",
    "    elif names[i][0] == '이':\n",
    "        Lee += 1\n",
    "    \n",
    "print(Kim,Lee)\n",
    "print('김씨 %d명, 이씨 %d명'%(Kim,Lee))"
   ]
  },
  {
   "cell_type": "code",
   "execution_count": 13,
   "metadata": {},
   "outputs": [
    {
     "name": "stdout",
     "output_type": "stream",
     "text": [
      "이재영이란 이름은 3번 반복됩니다.\n",
      "['김재성', '박영서', '강상희', '권종표', '최승혁', '이성연', '전경헌', '박민호', '이유덕', '이재영', '송정환', '김지완']\n",
      "['강상희', '권종표', '김재성', '김지완', '박민호', '박영서', '송정환', '이성연', '이유덕', '이재영', '전경헌', '최승혁']\n"
     ]
    }
   ],
   "source": [
    "count = 0\n",
    "for i in range(L):\n",
    "    if names[i] == '이재영':\n",
    "        count += 1\n",
    "print('이재영이란 이름은 %d번 반복됩니다.' %count)\n",
    "# print(names.count('이재영'))\n",
    "\n",
    "# 중복 제거한 이름 \n",
    "Names = list(set(names))\n",
    "print(Names)\n",
    "\n",
    "#이름 오름차순\n",
    "Names.sort()\n",
    "print(Names)\n",
    "# print(list(set(names)).sort())"
   ]
  },
  {
   "cell_type": "markdown",
   "metadata": {},
   "source": [
    "# Question 3"
   ]
  },
  {
   "cell_type": "markdown",
   "metadata": {},
   "source": [
    "10미만의 자연수에서 3과 5의 배수를 구하면 3,5,6,9이다. 이들의 총합은 23이다.\n",
    "\n",
    "1000미만의 자연수에서 3,5의 배수의 총합을 구하라."
   ]
  },
  {
   "cell_type": "code",
   "execution_count": 18,
   "metadata": {},
   "outputs": [
    {
     "name": "stdout",
     "output_type": "stream",
     "text": [
      "233168\n"
     ]
    }
   ],
   "source": [
    "# 3으로 나누었을때, 5로 나누었을때 0이면 그 배수, 저장 후 공배수 제거를 위해 set하기\n",
    "total = 0\n",
    "for i in range(1,1000):\n",
    "    if i%3 == 0 or i%5 == 0:\n",
    "        total += i\n",
    "#     elif i%5 == 0:\n",
    "#         total += i\n",
    "\n",
    "print(total)"
   ]
  },
  {
   "cell_type": "markdown",
   "metadata": {},
   "source": [
    "# Question 4"
   ]
  },
  {
   "cell_type": "markdown",
   "metadata": {},
   "source": [
    "자기 자신을 제외한 모든 양의 약수들의 합이 자기 자신이 되는 자연수를 완전수라고 한다. \n",
    "\n",
    "예를 들면, 6과 28은 완전수이다. 6=1+2+3 // 1,2,3은 각각 6의 약수 28=1+2+4+7+14 // 1,2,4,7,14는 각각 28의 약수\n",
    "\n",
    "입력으로 자연수 N을 받고, 출력으로 N 이하의 모든 완전수를 출력하는 코드를 작성하라."
   ]
  },
  {
   "cell_type": "code",
   "execution_count": 113,
   "metadata": {},
   "outputs": [
    {
     "name": "stdout",
     "output_type": "stream",
     "text": [
      "28\n",
      "[1, 2, 4, 7, 14]\n"
     ]
    }
   ],
   "source": [
    "# 1부터 자기 자신보다 1작은 값으로 나누어 주었을때 0이면 그것이 그 수의 약수\n",
    "num = int(input())\n",
    "al = []\n",
    "\n",
    "for i in range(1,num):\n",
    "    if num%i == 0:\n",
    "        al += [i]\n",
    "print(al)"
   ]
  },
  {
   "cell_type": "markdown",
   "metadata": {},
   "source": [
    "# Question 5"
   ]
  },
  {
   "cell_type": "markdown",
   "metadata": {},
   "source": [
    "0 ~ 9까지의 문자로 된 숫자를 입력 받았을 때, 이 입력 값이 0~9까지의 숫자가 각각 한 번 씩만 사용된 것인지 확인하는 함수를 구하시오.\n",
    "\n",
    "sample inputs: 0123456789 01234 01234567890 6789012345 012322456789\n",
    "\n",
    "sample outputs: true false false true false"
   ]
  },
  {
   "cell_type": "code",
   "execution_count": 128,
   "metadata": {},
   "outputs": [
    {
     "name": "stdout",
     "output_type": "stream",
     "text": [
      "0123456789 01234 01234567890 6789012345 012322456789\n",
      "ture false false ture false "
     ]
    }
   ],
   "source": [
    "# 0부터 9까지 한번씩 써야하니깐 길이는 10이 되어야함\n",
    "# 길이가 10일때 중복확인을 set으로 set한것이랑 안한 것이랑 다르면 중복\n",
    "\n",
    "a = input().split(' ')\n",
    "for i in a:\n",
    "    if len(i) != 10:\n",
    "        print('false', end = \" \")\n",
    "    else:\n",
    "        if len(list(set(i))) != len(i):\n",
    "            print('false',end = \" \")\n",
    "        else:\n",
    "            print('ture',end = \" \")\n",
    "    "
   ]
  },
  {
   "cell_type": "markdown",
   "metadata": {},
   "source": [
    "# Question 6"
   ]
  },
  {
   "cell_type": "markdown",
   "metadata": {},
   "source": [
    "run length 압축알고리즘 문제( .bmp)\n",
    "\n",
    "문자열을 입력받아서, 같은 문자가 연속적으로 반복되는 경우에 그 반복 횟수를 표시하여 문자열을 압축하기.\n",
    "\n",
    "입력 예시: aaabbcccccca\n",
    "\n",
    "출력 예시: a3b2c6a1"
   ]
  },
  {
   "cell_type": "code",
   "execution_count": 4,
   "metadata": {},
   "outputs": [
    {
     "name": "stdout",
     "output_type": "stream",
     "text": [
      "aaabbcccccca\n",
      "a3b2c6a1"
     ]
    }
   ],
   "source": [
    "#비교로 같으면 숫자 증가\n",
    "# 다르면 문자 저장,숫자 저장\n",
    "# 다를때 i가 마지막이라면 마지막 문자임으로 처리 해준다 - 안해주면 마지막 문자 처리 안됨\n",
    "\n",
    "a = input()\n",
    "\n",
    "L = len(a)\n",
    "count = 1\n",
    "\n",
    "for i in range(1,L):\n",
    "    if a[i-1] == a[i]:\n",
    "        count += 1\n",
    "    else:\n",
    "#         print(a[i-1],end='')\n",
    "#         print(count,end='')\n",
    "        print(a[i-1],count,sep='',end='') # sep : ''에 있는것이 결과값 사이사이 들어가서 나옴,  end : ''사이에 있는 것이 print 사이에 넣어서 나옴\n",
    "        if i == L-1:\n",
    "#             print(a[i],end='')\n",
    "#             print(1)\n",
    "            print(a[i],1,sep='',end='')\n",
    "        count = 1"
   ]
  },
  {
   "cell_type": "code",
   "execution_count": 3,
   "metadata": {},
   "outputs": [
    {
     "name": "stdout",
     "output_type": "stream",
     "text": [
      "aaabbcccccca\n",
      "a3b2c6a1"
     ]
    }
   ],
   "source": [
    "a = input()\n",
    "\n",
    "L = len(a)\n",
    "c = []\n",
    "num = []\n",
    "count = 0\n",
    "\n",
    "for i in range(1,L):\n",
    "    if a[i-1] == a[i]:\n",
    "        count += 1\n",
    "    else:\n",
    "        c += a[i-1]\n",
    "        num += [count+1]\n",
    "        if i == L-1:\n",
    "            c += a[i]\n",
    "            num += [1]\n",
    "        count = 0\n",
    "\n",
    "        \n",
    "for i in range(len(c)):\n",
    "    print(c[i], end ='')\n",
    "    print(num[i],end ='')"
   ]
  },
  {
   "cell_type": "code",
   "execution_count": null,
   "metadata": {},
   "outputs": [],
   "source": []
  }
 ],
 "metadata": {
  "kernelspec": {
   "display_name": "Python 3",
   "language": "python",
   "name": "python3"
  },
  "language_info": {
   "codemirror_mode": {
    "name": "ipython",
    "version": 3
   },
   "file_extension": ".py",
   "mimetype": "text/x-python",
   "name": "python",
   "nbconvert_exporter": "python",
   "pygments_lexer": "ipython3",
   "version": "3.7.4"
  }
 },
 "nbformat": 4,
 "nbformat_minor": 2
}
