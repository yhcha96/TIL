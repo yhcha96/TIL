{
 "cells": [
  {
   "cell_type": "markdown",
   "metadata": {},
   "source": [
    "# 1224 5일차"
   ]
  },
  {
   "cell_type": "code",
   "execution_count": null,
   "metadata": {},
   "outputs": [],
   "source": [
    "# def 함수명(매개변수):\n",
    "#     code,,,\n",
    "#     ,\n",
    "#     ,\n",
    "#     ,\n",
    "#     return"
   ]
  },
  {
   "cell_type": "markdown",
   "metadata": {},
   "source": [
    "### 1. 리턴\n",
    "- 함수를 실행한 결과를 저장하고 싶을때 사용합니다.\n",
    "- return"
   ]
  },
  {
   "cell_type": "code",
   "execution_count": 7,
   "metadata": {},
   "outputs": [],
   "source": [
    "def add(a,b):\n",
    "    print('%d과 %d의 합은 %d입니다'%(a,b,a+b))"
   ]
  },
  {
   "cell_type": "code",
   "execution_count": 11,
   "metadata": {},
   "outputs": [
    {
     "name": "stdout",
     "output_type": "stream",
     "text": [
      "3과 4의 합은 7입니다\n",
      "None\n"
     ]
    }
   ],
   "source": [
    "print(add(3,4))"
   ]
  },
  {
   "cell_type": "code",
   "execution_count": 1,
   "metadata": {},
   "outputs": [],
   "source": [
    "def plus(a,b):\n",
    "    return a+b"
   ]
  },
  {
   "cell_type": "code",
   "execution_count": 15,
   "metadata": {},
   "outputs": [
    {
     "name": "stdout",
     "output_type": "stream",
     "text": [
      "7\n",
      "7\n"
     ]
    }
   ],
   "source": [
    "result = plus(3, 4)\n",
    "print(result)\n",
    "print(plus(3,4))"
   ]
  },
  {
   "cell_type": "code",
   "execution_count": 17,
   "metadata": {},
   "outputs": [
    {
     "name": "stdout",
     "output_type": "stream",
     "text": [
      "10\n"
     ]
    }
   ],
   "source": [
    "result = plus(b=7,a=3)\n",
    "print(result)"
   ]
  },
  {
   "cell_type": "markdown",
   "metadata": {},
   "source": [
    "### 2. `*args`, `**kwargs`\n",
    "- 함수를 호출할때 아규먼트와 키워드 아규먼트의 갯수를 특정지을수 없을때 사용"
   ]
  },
  {
   "cell_type": "code",
   "execution_count": 21,
   "metadata": {},
   "outputs": [
    {
     "name": "stdout",
     "output_type": "stream",
     "text": [
      "(<class 'tuple'>, 6)\n",
      "(<class 'tuple'>, 21)\n"
     ]
    }
   ],
   "source": [
    "# 여러 개의 입력값을 전달 받는 함수\n",
    "# def 함수 명(*매개변수):\n",
    "#     수행문장\n",
    "def add_many(*args):\n",
    "    return(type(args),sum(args))\n",
    "\n",
    "res = add_many(1,2,3)\n",
    "print(res)\n",
    "\n",
    "res = add_many(1,2,3,4,5,6)\n",
    "print(res)"
   ]
  },
  {
   "cell_type": "code",
   "execution_count": 25,
   "metadata": {},
   "outputs": [],
   "source": [
    "def add_mul(ch, *args):\n",
    "    if ch == 'add':\n",
    "        return sum(args)\n",
    "    elif ch =='mul':\n",
    "        result = 1\n",
    "        for i in args:\n",
    "            result  *= i\n",
    "        return result"
   ]
  },
  {
   "cell_type": "code",
   "execution_count": 32,
   "metadata": {},
   "outputs": [
    {
     "data": {
      "text/plain": [
       "9"
      ]
     },
     "execution_count": 32,
     "metadata": {},
     "output_type": "execute_result"
    }
   ],
   "source": [
    "add_mul('add', 2,3,4)"
   ]
  },
  {
   "cell_type": "code",
   "execution_count": 33,
   "metadata": {},
   "outputs": [
    {
     "data": {
      "text/plain": [
       "24"
      ]
     },
     "execution_count": 33,
     "metadata": {},
     "output_type": "execute_result"
    }
   ],
   "source": [
    "add_mul('mul',2,3,4)"
   ]
  },
  {
   "cell_type": "code",
   "execution_count": 36,
   "metadata": {},
   "outputs": [
    {
     "name": "stdout",
     "output_type": "stream",
     "text": [
      "{'height': 180, 'weight': 70}\n"
     ]
    }
   ],
   "source": [
    "def dict_args(**args):\n",
    "    print(args)\n",
    "\n",
    "    \n",
    "dict_args(height = 180, weight = 70)"
   ]
  },
  {
   "cell_type": "code",
   "execution_count": 37,
   "metadata": {},
   "outputs": [],
   "source": [
    "def a_and_m(a,b):\n",
    "    return a+b, a*b"
   ]
  },
  {
   "cell_type": "code",
   "execution_count": 38,
   "metadata": {},
   "outputs": [
    {
     "name": "stdout",
     "output_type": "stream",
     "text": [
      "(5, 6)\n"
     ]
    }
   ],
   "source": [
    "res = a_and_m(2,3)\n",
    "print(res)  # tuple로 리턴"
   ]
  },
  {
   "cell_type": "code",
   "execution_count": 40,
   "metadata": {},
   "outputs": [
    {
     "name": "stdout",
     "output_type": "stream",
     "text": [
      "5\n",
      "6\n"
     ]
    }
   ],
   "source": [
    "res_add, res_mul = a_and_m(2,3)\n",
    "print(res_add)\n",
    "print(res_mul)"
   ]
  },
  {
   "cell_type": "code",
   "execution_count": 44,
   "metadata": {},
   "outputs": [],
   "source": [
    "def sn(nick):\n",
    "    if nick == 'stupid':\n",
    "        return # 함수를 호출한 위치로 되돌아 가라\n",
    "    print('nickname is %s' %nick)"
   ]
  },
  {
   "cell_type": "code",
   "execution_count": 45,
   "metadata": {},
   "outputs": [
    {
     "name": "stdout",
     "output_type": "stream",
     "text": [
      "nickname is gineus\n"
     ]
    }
   ],
   "source": [
    "sn('gineus')"
   ]
  },
  {
   "cell_type": "code",
   "execution_count": 46,
   "metadata": {},
   "outputs": [],
   "source": [
    "sn('stupid')"
   ]
  },
  {
   "cell_type": "code",
   "execution_count": 47,
   "metadata": {},
   "outputs": [],
   "source": [
    "def test(name, old, man = True):\n",
    "    print(name,old,man)"
   ]
  },
  {
   "cell_type": "code",
   "execution_count": 49,
   "metadata": {},
   "outputs": [
    {
     "name": "stdout",
     "output_type": "stream",
     "text": [
      "홍길동 20 hi\n"
     ]
    }
   ],
   "source": [
    "test('홍길동',20, 'hi')"
   ]
  },
  {
   "cell_type": "code",
   "execution_count": 1,
   "metadata": {},
   "outputs": [],
   "source": [
    "import turtle as t\n",
    "t.shape('turtle')"
   ]
  },
  {
   "cell_type": "code",
   "execution_count": 4,
   "metadata": {},
   "outputs": [],
   "source": [
    "t.forward(100) # 픽셀"
   ]
  },
  {
   "cell_type": "code",
   "execution_count": 3,
   "metadata": {},
   "outputs": [],
   "source": [
    "t.right(100) # 각도"
   ]
  },
  {
   "cell_type": "code",
   "execution_count": 2,
   "metadata": {},
   "outputs": [],
   "source": [
    "import turtle as t\n",
    "t.shape('turtle')\n",
    "n = int(input())\n",
    "for i in range(n):\n",
    "    t.forward(100)\n",
    "    t.right(360/n)"
   ]
  },
  {
   "cell_type": "code",
   "execution_count": 3,
   "metadata": {},
   "outputs": [],
   "source": [
    "t.clear()"
   ]
  },
  {
   "cell_type": "markdown",
   "metadata": {},
   "source": [
    "### 3. lambda\n",
    "- 익명함수\n",
    "- lambda 매개변수들: 식\n",
    "- lambda식 내부에는 변수를 선언할 수 없음"
   ]
  },
  {
   "cell_type": "code",
   "execution_count": 15,
   "metadata": {},
   "outputs": [],
   "source": [
    "def p_ten(x):\n",
    "    return x+10"
   ]
  },
  {
   "cell_type": "code",
   "execution_count": 16,
   "metadata": {},
   "outputs": [
    {
     "data": {
      "text/plain": [
       "15"
      ]
     },
     "execution_count": 16,
     "metadata": {},
     "output_type": "execute_result"
    }
   ],
   "source": [
    "p_ten(5)"
   ]
  },
  {
   "cell_type": "code",
   "execution_count": 17,
   "metadata": {},
   "outputs": [],
   "source": [
    "p_ten2 = lambda x: x+10"
   ]
  },
  {
   "cell_type": "code",
   "execution_count": 18,
   "metadata": {},
   "outputs": [
    {
     "data": {
      "text/plain": [
       "15"
      ]
     },
     "execution_count": 18,
     "metadata": {},
     "output_type": "execute_result"
    }
   ],
   "source": [
    "p_ten2(5)"
   ]
  },
  {
   "cell_type": "code",
   "execution_count": 19,
   "metadata": {},
   "outputs": [
    {
     "name": "stdout",
     "output_type": "stream",
     "text": [
      "15\n"
     ]
    }
   ],
   "source": [
    "# (매개변수들:식)()\n",
    "print((lambda x:x+10)(5))"
   ]
  },
  {
   "cell_type": "code",
   "execution_count": 23,
   "metadata": {},
   "outputs": [
    {
     "name": "stdout",
     "output_type": "stream",
     "text": [
      "7\n",
      "8\n"
     ]
    }
   ],
   "source": [
    "# lambda식 내부에는 변수를 선언할 수 없음\n",
    "# print((lambda x: y=2: x+y)(5)) : 에러 발생\n",
    "y = 2\n",
    "print((lambda x:x+y)(5))\n",
    "print((lambda x,y:x+y)(5,3))"
   ]
  },
  {
   "cell_type": "markdown",
   "metadata": {},
   "source": [
    "### 4. map함수\n",
    "- map(함수,자료) : 자료에 대해 함수를 수행한 결과가 출력"
   ]
  },
  {
   "cell_type": "code",
   "execution_count": 25,
   "metadata": {},
   "outputs": [
    {
     "name": "stdout",
     "output_type": "stream",
     "text": [
      "[3]\n"
     ]
    }
   ],
   "source": [
    "print(list(map(int,[3.14])))"
   ]
  },
  {
   "cell_type": "code",
   "execution_count": 28,
   "metadata": {},
   "outputs": [
    {
     "name": "stdout",
     "output_type": "stream",
     "text": [
      "[11, 12, 13]\n"
     ]
    }
   ],
   "source": [
    "def pten(x):\n",
    "    return x +10\n",
    "\n",
    "\n",
    "res = list(map(pten, [1,2,3]))\n",
    "print(res)"
   ]
  },
  {
   "cell_type": "code",
   "execution_count": 30,
   "metadata": {},
   "outputs": [
    {
     "data": {
      "text/plain": [
       "[11, 12, 13]"
      ]
     },
     "execution_count": 30,
     "metadata": {},
     "output_type": "execute_result"
    }
   ],
   "source": [
    "list(map(lambda x: x+10 ,[1,2,3]))"
   ]
  },
  {
   "cell_type": "code",
   "execution_count": 32,
   "metadata": {},
   "outputs": [
    {
     "data": {
      "text/plain": [
       "1"
      ]
     },
     "execution_count": 32,
     "metadata": {},
     "output_type": "execute_result"
    }
   ],
   "source": [
    "int((lambda : 1)()) # 전달 인수는 없으며 1 출력해라"
   ]
  },
  {
   "cell_type": "code",
   "execution_count": 33,
   "metadata": {},
   "outputs": [
    {
     "data": {
      "text/plain": [
       "5"
      ]
     },
     "execution_count": 33,
     "metadata": {},
     "output_type": "execute_result"
    }
   ],
   "source": [
    "x = 5\n",
    "(lambda : x)()"
   ]
  },
  {
   "cell_type": "code",
   "execution_count": 37,
   "metadata": {},
   "outputs": [
    {
     "name": "stdout",
     "output_type": "stream",
     "text": [
      "5\n",
      "5\n"
     ]
    }
   ],
   "source": [
    "def add(x,y):\n",
    "    return x+y\n",
    "res = add(2,3)\n",
    "print(res)\n",
    "# 위 함수를 람다표현식으로 바꾸시오\n",
    "add2 = lambda x,y:x+y\n",
    "res2 = add2(2,3)\n",
    "print(res2)"
   ]
  },
  {
   "cell_type": "code",
   "execution_count": 2,
   "metadata": {},
   "outputs": [
    {
     "name": "stdout",
     "output_type": "stream",
     "text": [
      "[1, 2, 103, 4, 5, 106, 7, 8, 109, 10]\n",
      "[1, 2, '3', 4, 5, '6', 7, 8, '9', 10]\n",
      "<function <lambda> at 0x000002059BF7DD38> [1, 2, 3, 4, 5, 6, 7, 8, 9, 10]\n"
     ]
    }
   ],
   "source": [
    "# lambda식에 조건부 표현식 적용\n",
    "a = list(range(1,11))\n",
    "\n",
    "# a에 저장된 요소값들 중에서 3의 배수는 100을 더해서 출력\n",
    "index = 0\n",
    "for i in a:\n",
    "    if i%3 == 0:\n",
    "        a[index] = i + 100\n",
    "    index += 1\n",
    "    \n",
    "print(a)\n",
    "\n",
    "\n",
    "# for i in range(0,10):\n",
    "#     if a[i]%3 == 0:\n",
    "#         a[i] += 100\n",
    "# print(a)\n",
    "\n",
    "a = list(range(1,11))\n",
    "# map(lambda표현식, a)\n",
    "print(list(map(lambda x: str(x) if x%3==0 else x , a)))"
   ]
  },
  {
   "cell_type": "code",
   "execution_count": 14,
   "metadata": {},
   "outputs": [
    {
     "name": "stdout",
     "output_type": "stream",
     "text": [
      "['1', 2.0, 13, 14, 15, 16, 17, 18, 19, 20]\n"
     ]
    }
   ],
   "source": [
    "# # lambda식에는 elif를 사용 못합\n",
    "# # 식1 if 조건식1 else 식2 if 조건식2 else 식3\n",
    "\n",
    "# if 조건식1:\n",
    "#     식1\n",
    "# elif 조건식2:\n",
    "#     식2\n",
    "# else:\n",
    "#     식3\n",
    "\n",
    "\n",
    "# a에 저장되어 있는 데이터에 대해, 1은 문자열로 변환 2는 실수로 변환 나머지 3 이상은 모두 10을 더해서 출력\n",
    "a = list(range(1,11))\n",
    "for i in range(len(a)):\n",
    "    if a[i] == 1:\n",
    "        a[i] = '1'\n",
    "    elif a[i] == 2:\n",
    "        a[i] = float(2)\n",
    "    else:\n",
    "        a[i] += 10\n",
    "print(a)"
   ]
  },
  {
   "cell_type": "code",
   "execution_count": 12,
   "metadata": {},
   "outputs": [
    {
     "name": "stdout",
     "output_type": "stream",
     "text": [
      "['1', 2.0, 13, 14, 15, 16, 17, 18, 19, 20]\n"
     ]
    }
   ],
   "source": [
    "a = list(range(1,11))\n",
    "def fun(x):\n",
    "    if x == 1:\n",
    "        return '1'\n",
    "    elif x == 2:\n",
    "        return float(2)\n",
    "    else:\n",
    "        return x +10\n",
    "    \n",
    "print(list(map(fun,a)))"
   ]
  },
  {
   "cell_type": "code",
   "execution_count": 13,
   "metadata": {},
   "outputs": [
    {
     "name": "stdout",
     "output_type": "stream",
     "text": [
      "['1', 2.0, 13, 14, 15, 16, 17, 18, 19, 20]\n"
     ]
    }
   ],
   "source": [
    "a = list(range(1,11))\n",
    "print(list(map(lambda x: '1' if x == 1 else float(2) if x == 2 else x+10, a)))"
   ]
  },
  {
   "cell_type": "code",
   "execution_count": 18,
   "metadata": {},
   "outputs": [
    {
     "data": {
      "text/plain": [
       "[6, 14, 24, 36, 50]"
      ]
     },
     "execution_count": 18,
     "metadata": {},
     "output_type": "execute_result"
    }
   ],
   "source": [
    "# lambda하무의 매개변수가 여러개인 경우\n",
    "a = [1,2,3,4,5]\n",
    "b = [6,7,8,9,10]\n",
    "#a*b\n",
    "\n",
    "list(map(lambda x,y: x*y, a,b))"
   ]
  },
  {
   "cell_type": "code",
   "execution_count": 19,
   "metadata": {},
   "outputs": [
    {
     "data": {
      "text/plain": [
       "[True, False, False, True, True, True, False]"
      ]
     },
     "execution_count": 19,
     "metadata": {},
     "output_type": "execute_result"
    }
   ],
   "source": [
    "a = [7,3,1,4,9,6,2]\n",
    "def func2(x):\n",
    "    return x > 3 and x<10\n",
    "\n",
    "list(map(func2,a))\n",
    "# 출력 결과가 불린형"
   ]
  },
  {
   "cell_type": "code",
   "execution_count": 20,
   "metadata": {},
   "outputs": [
    {
     "data": {
      "text/plain": [
       "[7, 4, 9, 6]"
      ]
     },
     "execution_count": 20,
     "metadata": {},
     "output_type": "execute_result"
    }
   ],
   "source": [
    "list(filter(func2,a))\n",
    "# filter는 조건에 만족하는 데이터만 추출\n",
    "# 즉, filter로 지정한 함수의 값이 True일때만 해당요소 추출"
   ]
  },
  {
   "cell_type": "markdown",
   "metadata": {},
   "source": [
    "### 5. reduce\n",
    "- 차원축소"
   ]
  },
  {
   "cell_type": "code",
   "execution_count": 22,
   "metadata": {},
   "outputs": [],
   "source": [
    "# reduce\n",
    "from functools import reduce"
   ]
  },
  {
   "cell_type": "code",
   "execution_count": 33,
   "metadata": {},
   "outputs": [
    {
     "name": "stdout",
     "output_type": "stream",
     "text": [
      "15\n"
     ]
    }
   ],
   "source": [
    "def func3(x,y): # 1,2,3,4\n",
    "    return x+y #\n",
    "\n",
    "a = [1,2,3,4,5]\n",
    "print(reduce(func3,a))\n",
    "#reduce는 각 요소를 함수로 처리- > 이전 결과와 누적해서 반환하는 함수"
   ]
  },
  {
   "cell_type": "code",
   "execution_count": 34,
   "metadata": {},
   "outputs": [
    {
     "name": "stdout",
     "output_type": "stream",
     "text": [
      "15\n"
     ]
    }
   ],
   "source": [
    "# lambda식으로 변환하면\n",
    "reduce(lambda x,y: x+y, a)"
   ]
  },
  {
   "cell_type": "code",
   "execution_count": 35,
   "metadata": {},
   "outputs": [
    {
     "name": "stdout",
     "output_type": "stream",
     "text": [
      "15\n"
     ]
    }
   ],
   "source": [
    "a = [1,2,3,4,5]\n",
    "x = a[0]\n",
    "for i in range(len(a)-1):\n",
    "    x = x + a[i+1]\n",
    "print(x)"
   ]
  },
  {
   "cell_type": "markdown",
   "metadata": {},
   "source": [
    "### 6. Scope 범위\n",
    "- 함수 안에서 선언되는 변수와 함수 밖에서 선언되는 변수의 범위가 다릅니다.\n",
    "- global(전역), local(지역)"
   ]
  },
  {
   "cell_type": "code",
   "execution_count": 37,
   "metadata": {},
   "outputs": [
    {
     "name": "stdout",
     "output_type": "stream",
     "text": [
      "1\n",
      "1\n"
     ]
    }
   ],
   "source": [
    "# 전역 변수 : 함수 바깥에 선언된 변수, 내/외부에서 모두 접근 가능 변수, global\n",
    "x = 1\n",
    "def f():\n",
    "    print(x)\n",
    "\n",
    "f()\n",
    "print(x)"
   ]
  },
  {
   "cell_type": "code",
   "execution_count": 92,
   "metadata": {},
   "outputs": [
    {
     "name": "stdout",
     "output_type": "stream",
     "text": [
      "2\n"
     ]
    },
    {
     "ename": "NameError",
     "evalue": "name 'x2' is not defined",
     "output_type": "error",
     "traceback": [
      "\u001b[1;31m---------------------------------------------------------------------------\u001b[0m",
      "\u001b[1;31mNameError\u001b[0m                                 Traceback (most recent call last)",
      "\u001b[1;32m<ipython-input-92-f7bf10ec99e6>\u001b[0m in \u001b[0;36m<module>\u001b[1;34m\u001b[0m\n\u001b[0;32m      4\u001b[0m     \u001b[0mprint\u001b[0m\u001b[1;33m(\u001b[0m\u001b[0mx2\u001b[0m\u001b[1;33m)\u001b[0m\u001b[1;33m\u001b[0m\u001b[1;33m\u001b[0m\u001b[0m\n\u001b[0;32m      5\u001b[0m \u001b[0mf2\u001b[0m\u001b[1;33m(\u001b[0m\u001b[1;33m)\u001b[0m\u001b[1;33m\u001b[0m\u001b[1;33m\u001b[0m\u001b[0m\n\u001b[1;32m----> 6\u001b[1;33m \u001b[0mprint\u001b[0m\u001b[1;33m(\u001b[0m\u001b[0mx2\u001b[0m\u001b[1;33m)\u001b[0m\u001b[1;33m\u001b[0m\u001b[1;33m\u001b[0m\u001b[0m\n\u001b[0m",
      "\u001b[1;31mNameError\u001b[0m: name 'x2' is not defined"
     ]
    }
   ],
   "source": [
    "# 지역변수 : 함수 내부에서 변수 선언, 함수 내부에서만 접근 가능, 함수 외부에서 접근 못함, local\n",
    "def f2():\n",
    "    x2 = 2\n",
    "    print(x2)\n",
    "f2()\n",
    "print(x2)"
   ]
  },
  {
   "cell_type": "code",
   "execution_count": 94,
   "metadata": {},
   "outputs": [
    {
     "name": "stdout",
     "output_type": "stream",
     "text": [
      "20\n",
      "10\n"
     ]
    }
   ],
   "source": [
    "x3 = 10\n",
    "def f3():\n",
    "    x3 = 20\n",
    "    print(x3)\n",
    "f3()\n",
    "print(x3)"
   ]
  },
  {
   "cell_type": "code",
   "execution_count": 95,
   "metadata": {},
   "outputs": [
    {
     "name": "stdout",
     "output_type": "stream",
     "text": [
      "20\n",
      "20\n"
     ]
    }
   ],
   "source": [
    "# 함수 내부에서 전역변수 값을 변경하고자 하는 경우\n",
    "# global 뒤에 전역 변수 이름을 지정\n",
    "x3 = 10\n",
    "def f3():\n",
    "    global x3\n",
    "    x3 = 20\n",
    "    print(x3)\n",
    "f3()\n",
    "print(x3)"
   ]
  },
  {
   "cell_type": "code",
   "execution_count": 96,
   "metadata": {},
   "outputs": [
    {
     "name": "stdout",
     "output_type": "stream",
     "text": [
      "20\n",
      "20\n"
     ]
    }
   ],
   "source": [
    "global x4\n",
    "def f4():\n",
    "    x4 = 20\n",
    "    print(x4)\n",
    "f4()\n",
    "print(x4)"
   ]
  },
  {
   "cell_type": "markdown",
   "metadata": {},
   "source": [
    "### 이중 function"
   ]
  },
  {
   "cell_type": "code",
   "execution_count": 56,
   "metadata": {},
   "outputs": [
    {
     "name": "stdout",
     "output_type": "stream",
     "text": [
      "hello\n"
     ]
    }
   ],
   "source": [
    "# 함수 내부에 함수 정의\n",
    "'''\n",
    "def 함수1():\n",
    "    문장\n",
    "    def 함수2():\n",
    "    문장\n",
    "'''\n",
    "\n",
    "def outer():\n",
    "    msg = 'hello'\n",
    "    def inner():\n",
    "        print(msg)\n",
    "    inner()\n",
    "\n",
    "\n",
    "outer()        "
   ]
  },
  {
   "cell_type": "code",
   "execution_count": 97,
   "metadata": {},
   "outputs": [
    {
     "name": "stdout",
     "output_type": "stream",
     "text": [
      "10\n"
     ]
    }
   ],
   "source": [
    "def f5():\n",
    "    x5 = 10\n",
    "    def f6():\n",
    "        x5 = 20\n",
    "    f6()\n",
    "    print(x5)\n",
    "\n",
    "\n",
    "f5()"
   ]
  },
  {
   "cell_type": "markdown",
   "metadata": {},
   "source": [
    "### 파일 생성"
   ]
  },
  {
   "cell_type": "code",
   "execution_count": 73,
   "metadata": {},
   "outputs": [],
   "source": [
    "# file 생성 (쓰기(w)/읽기(r))\n",
    "f = open('c:/my_Share/newFile.txt','w')\n",
    "\n",
    "# 파일 내용 작성\n",
    "for i in range(1,11):\n",
    "    data = \"%d번 줄입니다.\\n\"%i\n",
    "    f.write(data)\n",
    "\n",
    "\n",
    "# file 닫기\n",
    "f.close()\n",
    "\n",
    "\n",
    "# 파일을 쓰기 모드로 열게 되면 , 이미 파일이 존재한 경우 기존 내용이 사라짐."
   ]
  },
  {
   "cell_type": "code",
   "execution_count": 75,
   "metadata": {},
   "outputs": [
    {
     "name": "stdout",
     "output_type": "stream",
     "text": [
      "1번 줄입니다.\n",
      "\n"
     ]
    }
   ],
   "source": [
    "# file 읽기\n",
    "# readline함수\n",
    "\n",
    "f = open('c:/my_Share/newFile.txt','r')\n",
    "line = f.readline()\n",
    "print(line)\n",
    "f.close()"
   ]
  },
  {
   "cell_type": "code",
   "execution_count": 77,
   "metadata": {},
   "outputs": [
    {
     "name": "stdout",
     "output_type": "stream",
     "text": [
      "1번 줄입니다.\n",
      "\n",
      "2번 줄입니다.\n",
      "\n",
      "3번 줄입니다.\n",
      "\n",
      "4번 줄입니다.\n",
      "\n",
      "5번 줄입니다.\n",
      "\n",
      "6번 줄입니다.\n",
      "\n",
      "7번 줄입니다.\n",
      "\n",
      "8번 줄입니다.\n",
      "\n",
      "9번 줄입니다.\n",
      "\n",
      "10번 줄입니다.\n",
      "\n"
     ]
    }
   ],
   "source": [
    "# 전체 줄을 읽어서 출력\n",
    "f = open('c:/my_Share/newFile.txt','r')\n",
    "while True:\n",
    "    line = f.readline() # 더이상 읽을 줄이 없으면 None을 \n",
    "    if not line:\n",
    "        break\n",
    "    print(line)\n",
    "f.close()"
   ]
  },
  {
   "cell_type": "code",
   "execution_count": 80,
   "metadata": {},
   "outputs": [
    {
     "name": "stdout",
     "output_type": "stream",
     "text": [
      "['1번 줄입니다.\\n', '2번 줄입니다.\\n', '3번 줄입니다.\\n', '4번 줄입니다.\\n', '5번 줄입니다.\\n', '6번 줄입니다.\\n', '7번 줄입니다.\\n', '8번 줄입니다.\\n', '9번 줄입니다.\\n', '10번 줄입니다.\\n']\n"
     ]
    }
   ],
   "source": [
    "f= open('c:/my_Share/newFile.txt','r')\n",
    "lines = f.readlines() # line이 아니고 lines\n",
    "print(lines)"
   ]
  },
  {
   "cell_type": "code",
   "execution_count": 81,
   "metadata": {},
   "outputs": [
    {
     "name": "stdout",
     "output_type": "stream",
     "text": [
      "\n"
     ]
    }
   ],
   "source": [
    "data = f.read()\n",
    "print(data)\n",
    "f.close()"
   ]
  },
  {
   "cell_type": "code",
   "execution_count": 85,
   "metadata": {},
   "outputs": [],
   "source": [
    "# 파일에 새로운 내용 추가 - 추가모드(append)\n",
    "f= open('c:/my_Share/newFile.txt','a')  # w를 했으면 기존에 있는 내용 삭제되고 새롭게 입력되는 것이 저장됨, 추가를 하려면 a\n",
    "for i in range(11,20):\n",
    "    data = '%d번째 줄입니다\\n'%i\n",
    "    f.write(data)\n",
    "f.close()"
   ]
  },
  {
   "cell_type": "code",
   "execution_count": 90,
   "metadata": {},
   "outputs": [],
   "source": [
    "# 파일을 닫기 위한 구문 없이 생성\n",
    "# 즉, close를 안해주어도 되어서 파일 관리 용이\n",
    "with open('c:/my_Share/newFile.txt','w') as f:\n",
    "    f.write('Life is too long')\n",
    "\n",
    "# with구문은 함수를 벗어났을때 자동으로 close를 해줌"
   ]
  }
 ],
 "metadata": {
  "kernelspec": {
   "display_name": "Python 3",
   "language": "python",
   "name": "python3"
  },
  "language_info": {
   "codemirror_mode": {
    "name": "ipython",
    "version": 3
   },
   "file_extension": ".py",
   "mimetype": "text/x-python",
   "name": "python",
   "nbconvert_exporter": "python",
   "pygments_lexer": "ipython3",
   "version": "3.7.4"
  }
 },
 "nbformat": 4,
 "nbformat_minor": 2
}
