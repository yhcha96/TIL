{
 "cells": [
  {
   "cell_type": "code",
   "execution_count": null,
   "metadata": {},
   "outputs": [],
   "source": [
    "'''\n",
    "파이썬 웹 데이터 추출\n",
    "urlib 라이브러리(모듈집합)\n",
    "request 모듈(urllilb.request)로 웹에 있는 데이터에 접근할 수 있음\n",
    "urlretrieve함수를 이용하여 웹 파일을 다운로드\n",
    "\n",
    "\n",
    "\n",
    "\n",
    "'''"
   ]
  },
  {
   "cell_type": "code",
   "execution_count": 1,
   "metadata": {},
   "outputs": [
    {
     "name": "stdout",
     "output_type": "stream",
     "text": [
      "저장되었습니다\n"
     ]
    }
   ],
   "source": [
    "# url과 저장경로 지정\n",
    "url = \"https://www.multicampus.com/img/saas/main/logo/CUS0001/pc_main.png\"\n",
    "savename = \"test.png\"\n",
    "\n",
    "# 다운로드\n",
    "import urllib.request\n",
    "\n",
    "# url로 가서 savename으로 저장을 파일로 해라\n",
    "urllib.request.urlretrieve(url, savename)\n",
    "print(\"저장되었습니다\")"
   ]
  },
  {
   "cell_type": "code",
   "execution_count": 5,
   "metadata": {},
   "outputs": [
    {
     "name": "stdout",
     "output_type": "stream",
     "text": [
      "저장되었습니다\n"
     ]
    }
   ],
   "source": [
    "# urlopen을 이용한 다운로드시 \n",
    "# 바로 파일로 저장되는 것이 아나라 데이터가 메모리(ram)에 적재\n",
    "\n",
    "# urlretrieve 대신 urlopen\n",
    "mem = urllib.request.urlopen(url).read()\n",
    "\n",
    "savename = \"test2.png\" # .png없으면 저장은 되지만 들어가면 파일에 이미지가 안보임\n",
    "# 메모리에 있는 것을 파일로 저장\n",
    "with open(savename, mode = 'wb') as f:\n",
    "    f.write(mem)\n",
    "    print(\"저장되었습니다\")"
   ]
  },
  {
   "cell_type": "code",
   "execution_count": null,
   "metadata": {},
   "outputs": [],
   "source": [
    "# http://www.weather.go.kr/weather/forecast/mid-term-rss3.jsp\n",
    "# xml파일\n",
    "# 웹에서 보통 html파일 사용 but 가독성이 떨어짐 형식이 정해져 있지 않음 -> 컴퓨터가 이해하기 어려움\n",
    "\n",
    "# xml 사용자가 태그를 직접 만듬\n",
    "\n",
    "# 지금은 json 파일 형식이 많이 쓰임, xml보다 가벼움\n",
    "\n",
    "# http://www.weather.go.kr/weather/forecast/mid-term-rss3.jsp?stnId=184\n",
    "# 제주도\n",
    "# http://www.weather.go.kr/weather/forecast/mid-term-rss3.jsp 기본주소\n",
    "#     ?stnId=184 파라미터(상세주소)"
   ]
  },
  {
   "cell_type": "code",
   "execution_count": 7,
   "metadata": {},
   "outputs": [],
   "source": [
    "import urllib.parse"
   ]
  },
  {
   "cell_type": "code",
   "execution_count": 9,
   "metadata": {},
   "outputs": [],
   "source": [
    "addr = \"http://www.weather.go.kr/weather/forecast/mid-term-rss3.jsp\"\n",
    "\n",
    "values = {'stnId' : \"156\"}\n",
    "# 참조하려고 하는 것이 많을 경우 딕셔너리가 편함\n",
    "param = urllib.parse.urlencode(values)"
   ]
  },
  {
   "cell_type": "code",
   "execution_count": 10,
   "metadata": {},
   "outputs": [
    {
     "data": {
      "text/plain": [
       "'http://www.weather.go.kr/weather/forecast/mid-term-rss3.jsp'"
      ]
     },
     "execution_count": 10,
     "metadata": {},
     "output_type": "execute_result"
    }
   ],
   "source": [
    "addr"
   ]
  },
  {
   "cell_type": "code",
   "execution_count": 11,
   "metadata": {},
   "outputs": [
    {
     "data": {
      "text/plain": [
       "{'stnId': '156'}"
      ]
     },
     "execution_count": 11,
     "metadata": {},
     "output_type": "execute_result"
    }
   ],
   "source": [
    "values"
   ]
  },
  {
   "cell_type": "code",
   "execution_count": 13,
   "metadata": {},
   "outputs": [
    {
     "data": {
      "text/plain": [
       "'stnId=156'"
      ]
     },
     "execution_count": 13,
     "metadata": {},
     "output_type": "execute_result"
    }
   ],
   "source": [
    "param"
   ]
  },
  {
   "cell_type": "code",
   "execution_count": 15,
   "metadata": {},
   "outputs": [],
   "source": [
    "url = addr +\"?\"+param"
   ]
  },
  {
   "cell_type": "code",
   "execution_count": 17,
   "metadata": {},
   "outputs": [],
   "source": [
    "data = urllib.request.urlopen(url).read()\n",
    "text = data.decode(\"utf-8\")"
   ]
  },
  {
   "cell_type": "code",
   "execution_count": null,
   "metadata": {},
   "outputs": [],
   "source": [
    "# encoding & decoding\n",
    "\n",
    "파이썬에서 문자열 인코딩\n",
    "인코딩(encoding) : 유니코드 -> 바이트 열\n",
    "디코딩(decoding) : 바이트 열 -> 유니코드\n",
    "    \n",
    "인코딩 : 문자표현 -> 2진수 열(바이트)   여러가지 방법으로 바꿀 수 있음\n",
    "인코딩 방식 - ASCII, EUC-KR, CP949....\n",
    "인코딩 방식 통일안되어있음 => 통일 하고자 유니코드 탄생\n",
    "\n",
    "유니코딩(UTF-8,UTF-16,UTF-32,...)\n",
    "UTF-8이 가장 일반적으로 사용됨\n",
    "파이썬 문자열 자료형은 UTF-8\n",
    "\n",
    "  \n",
    "바이트 :  "
   ]
  },
  {
   "cell_type": "code",
   "execution_count": 24,
   "metadata": {},
   "outputs": [
    {
     "data": {
      "text/plain": [
       "4"
      ]
     },
     "execution_count": 24,
     "metadata": {},
     "output_type": "execute_result"
    }
   ],
   "source": [
    "# 유니코드\n",
    "text =\"안녕\"\n",
    "len(text)\n",
    "\n",
    "#유니코드 ->바이트\n",
    "l = bytearray(text,\"cp949\") # 4바이트 한글 한글자 2바이트\n",
    "len(l)\n",
    "\n",
    "ㅣ = bytearray(text,\"UTF-8\") # 6바이트 한글 한글자 3바이트\n",
    "len(l)"
   ]
  },
  {
   "cell_type": "code",
   "execution_count": 25,
   "metadata": {},
   "outputs": [
    {
     "data": {
      "text/plain": [
       "str"
      ]
     },
     "execution_count": 25,
     "metadata": {},
     "output_type": "execute_result"
    }
   ],
   "source": [
    "test = \"안녕하세요\"\n",
    "type(test)"
   ]
  },
  {
   "cell_type": "code",
   "execution_count": 27,
   "metadata": {},
   "outputs": [
    {
     "name": "stdout",
     "output_type": "stream",
     "text": [
      "<class 'bytes'>\n",
      "10\n"
     ]
    }
   ],
   "source": [
    "s1 = test.encode(\"cp949\")\n",
    "print(type(s1))\n",
    "print(len(s1))"
   ]
  },
  {
   "cell_type": "code",
   "execution_count": 30,
   "metadata": {},
   "outputs": [
    {
     "name": "stdout",
     "output_type": "stream",
     "text": [
      "<class 'bytes'>\n",
      "10\n"
     ]
    }
   ],
   "source": [
    "s2 = test.encode(\"euc-kr\")\n",
    "print(type(s2))\n",
    "print(len(s2))"
   ]
  },
  {
   "cell_type": "code",
   "execution_count": 29,
   "metadata": {},
   "outputs": [
    {
     "name": "stdout",
     "output_type": "stream",
     "text": [
      "<class 'bytes'>\n",
      "10\n"
     ]
    }
   ],
   "source": [
    "s3 = test.encode(\"UTF-8\")\n",
    "print(type(s3))\n",
    "print(len(s1))"
   ]
  },
  {
   "cell_type": "code",
   "execution_count": 31,
   "metadata": {},
   "outputs": [
    {
     "data": {
      "text/plain": [
       "'안녕하세요'"
      ]
     },
     "execution_count": 31,
     "metadata": {},
     "output_type": "execute_result"
    }
   ],
   "source": [
    "s1.decode('cp949')"
   ]
  },
  {
   "cell_type": "code",
   "execution_count": 32,
   "metadata": {},
   "outputs": [
    {
     "data": {
      "text/plain": [
       "'안녕하세요'"
      ]
     },
     "execution_count": 32,
     "metadata": {},
     "output_type": "execute_result"
    }
   ],
   "source": [
    "s1.decode('euc-kr')"
   ]
  },
  {
   "cell_type": "code",
   "execution_count": 33,
   "metadata": {
    "scrolled": true
   },
   "outputs": [
    {
     "ename": "UnicodeDecodeError",
     "evalue": "'utf-8' codec can't decode byte 0xbe in position 0: invalid start byte",
     "output_type": "error",
     "traceback": [
      "\u001b[1;31m---------------------------------------------------------------------------\u001b[0m",
      "\u001b[1;31mUnicodeDecodeError\u001b[0m                        Traceback (most recent call last)",
      "\u001b[1;32m<ipython-input-33-be18848c0d1e>\u001b[0m in \u001b[0;36m<module>\u001b[1;34m\u001b[0m\n\u001b[1;32m----> 1\u001b[1;33m \u001b[0ms1\u001b[0m\u001b[1;33m.\u001b[0m\u001b[0mdecode\u001b[0m\u001b[1;33m(\u001b[0m\u001b[1;34m'utf-8'\u001b[0m\u001b[1;33m)\u001b[0m\u001b[1;33m\u001b[0m\u001b[1;33m\u001b[0m\u001b[0m\n\u001b[0m",
      "\u001b[1;31mUnicodeDecodeError\u001b[0m: 'utf-8' codec can't decode byte 0xbe in position 0: invalid start byte"
     ]
    }
   ],
   "source": [
    "s1.decode('utf-8')"
   ]
  },
  {
   "cell_type": "code",
   "execution_count": null,
   "metadata": {},
   "outputs": [],
   "source": []
  },
  {
   "cell_type": "code",
   "execution_count": null,
   "metadata": {},
   "outputs": [],
   "source": [
    "스크래핑\n",
    "\n",
    "원하는 데이터를 추출\n",
    "로그를 써야하는 경우"
   ]
  },
  {
   "cell_type": "code",
   "execution_count": null,
   "metadata": {},
   "outputs": [],
   "source": [
    "1페이지\n",
    "2페이지\n",
    "3페이지"
   ]
  },
  {
   "cell_type": "code",
   "execution_count": null,
   "metadata": {},
   "outputs": [],
   "source": []
  },
  {
   "cell_type": "code",
   "execution_count": null,
   "metadata": {},
   "outputs": [],
   "source": []
  },
  {
   "cell_type": "code",
   "execution_count": null,
   "metadata": {},
   "outputs": [],
   "source": []
  }
 ],
 "metadata": {
  "kernelspec": {
   "display_name": "Python 3",
   "language": "python",
   "name": "python3"
  },
  "language_info": {
   "codemirror_mode": {
    "name": "ipython",
    "version": 3
   },
   "file_extension": ".py",
   "mimetype": "text/x-python",
   "name": "python",
   "nbconvert_exporter": "python",
   "pygments_lexer": "ipython3",
   "version": "3.7.4"
  }
 },
 "nbformat": 4,
 "nbformat_minor": 2
}
