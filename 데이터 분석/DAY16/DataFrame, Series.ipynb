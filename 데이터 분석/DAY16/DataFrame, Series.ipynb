{
 "cells": [
  {
   "cell_type": "code",
   "execution_count": 1,
   "metadata": {},
   "outputs": [],
   "source": [
    "import pandas as pd"
   ]
  },
  {
   "cell_type": "code",
   "execution_count": 2,
   "metadata": {},
   "outputs": [],
   "source": [
    "import warnings\n",
    "warnings.filterwarnings(action='ignore')"
   ]
  },
  {
   "cell_type": "code",
   "execution_count": null,
   "metadata": {},
   "outputs": [],
   "source": [
    "# Series\n"
   ]
  },
  {
   "cell_type": "code",
   "execution_count": null,
   "metadata": {},
   "outputs": [],
   "source": [
    "# concat Series + DataFrame\n",
    "# column 이름이 같더라도 새로운 행에 저장이 됨."
   ]
  },
  {
   "cell_type": "code",
   "execution_count": null,
   "metadata": {},
   "outputs": [],
   "source": [
    "# DataFrame"
   ]
  },
  {
   "cell_type": "code",
   "execution_count": null,
   "metadata": {},
   "outputs": [],
   "source": [
    "# concat DataFrame + DataFrame\n",
    "# column이름이 같은 떄"
   ]
  },
  {
   "cell_type": "code",
   "execution_count": 7,
   "metadata": {},
   "outputs": [
    {
     "name": "stdout",
     "output_type": "stream",
     "text": [
      "   A   B\n",
      "0  1  aa\n",
      "1  2  bb\n",
      "0  3  cc\n",
      "1  4  dd\n",
      "   A   B  A   B\n",
      "0  1  aa  3  cc\n",
      "1  2  bb  4  dd\n"
     ]
    }
   ],
   "source": [
    "df1 = pd.DataFrame([[1,'aa'],[2,'bb']],columns=list('AB'))\n",
    "df2 = pd.DataFrame([[3,'cc'],[4,'dd']],columns=list('AB'))\n",
    "print(pd.concat([df1,df2]))\n",
    "print(pd.concat([df1,df2],axis=1))"
   ]
  },
  {
   "cell_type": "code",
   "execution_count": 9,
   "metadata": {},
   "outputs": [],
   "source": [
    "# concat DataFrame + DataFrame\n",
    "# column이름이 다를 떄"
   ]
  },
  {
   "cell_type": "code",
   "execution_count": 10,
   "metadata": {},
   "outputs": [
    {
     "name": "stdout",
     "output_type": "stream",
     "text": [
      "   A    B    D\n",
      "0  1   aa  NaN\n",
      "1  2   bb  NaN\n",
      "0  3  NaN   cc\n",
      "1  4  NaN   dd\n",
      "   A   B  A   D\n",
      "0  1  aa  3  cc\n",
      "1  2  bb  4  dd\n"
     ]
    },
    {
     "name": "stderr",
     "output_type": "stream",
     "text": [
      "C:\\Users\\student\\Anaconda3\\lib\\site-packages\\ipykernel_launcher.py:3: FutureWarning: Sorting because non-concatenation axis is not aligned. A future version\n",
      "of pandas will change to not sort by default.\n",
      "\n",
      "To accept the future behavior, pass 'sort=False'.\n",
      "\n",
      "To retain the current behavior and silence the warning, pass 'sort=True'.\n",
      "\n",
      "  This is separate from the ipykernel package so we can avoid doing imports until\n"
     ]
    }
   ],
   "source": [
    "df1 = pd.DataFrame([[1,'aa'],[2,'bb']],columns=list('AB'))\n",
    "df2 = pd.DataFrame([[3,'cc'],[4,'dd']],columns=list('AD'))\n",
    "print(pd.concat([df1,df2]))\n",
    "print(pd.concat([df1,df2],axis=1))"
   ]
  },
  {
   "cell_type": "code",
   "execution_count": 8,
   "metadata": {},
   "outputs": [
    {
     "name": "stdout",
     "output_type": "stream",
     "text": [
      "     A    B    C    D\n",
      "0  1.0   aa  NaN  NaN\n",
      "1  2.0   bb  NaN  NaN\n",
      "0  NaN  NaN  3.0   cc\n",
      "1  NaN  NaN  4.0   dd\n",
      "   A   B  C   D\n",
      "0  1  aa  3  cc\n",
      "1  2  bb  4  dd\n"
     ]
    },
    {
     "name": "stderr",
     "output_type": "stream",
     "text": [
      "C:\\Users\\student\\Anaconda3\\lib\\site-packages\\ipykernel_launcher.py:3: FutureWarning: Sorting because non-concatenation axis is not aligned. A future version\n",
      "of pandas will change to not sort by default.\n",
      "\n",
      "To accept the future behavior, pass 'sort=False'.\n",
      "\n",
      "To retain the current behavior and silence the warning, pass 'sort=True'.\n",
      "\n",
      "  This is separate from the ipykernel package so we can avoid doing imports until\n"
     ]
    }
   ],
   "source": [
    "df1 = pd.DataFrame([[1,'aa'],[2,'bb']],columns=list('AB'))\n",
    "df2 = pd.DataFrame([[3,'cc'],[4,'dd']],columns=list('CD'))\n",
    "print(pd.concat([df1,df2]))\n",
    "print(pd.concat([df1,df2],axis=1))"
   ]
  },
  {
   "cell_type": "code",
   "execution_count": null,
   "metadata": {},
   "outputs": [],
   "source": []
  }
 ],
 "metadata": {
  "kernelspec": {
   "display_name": "Python 3",
   "language": "python",
   "name": "python3"
  },
  "language_info": {
   "codemirror_mode": {
    "name": "ipython",
    "version": 3
   },
   "file_extension": ".py",
   "mimetype": "text/x-python",
   "name": "python",
   "nbconvert_exporter": "python",
   "pygments_lexer": "ipython3",
   "version": "3.7.4"
  }
 },
 "nbformat": 4,
 "nbformat_minor": 2
}
