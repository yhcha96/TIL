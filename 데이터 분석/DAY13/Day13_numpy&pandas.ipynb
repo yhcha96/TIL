{
 "cells": [
  {
   "cell_type": "markdown",
   "metadata": {},
   "source": [
    "2020.01.06\n",
    "### numpy, pandas"
   ]
  },
  {
   "cell_type": "code",
   "execution_count": null,
   "metadata": {},
   "outputs": [],
   "source": [
    "# numpy(전처리). pandas(분석)\n",
    "# matplotlib, seaborn 시각화\n",
    "\n",
    "'''\n",
    "전처리 : 결측치, 표준화, 정규화\n",
    "\n",
    "정규화 : (각 속성값-최소값) / (각 속성의 최대값 - 최소값) => 0~1사이의 값으로\n",
    "표준화 : 평균을 0으로 표준편차를 1로 (각 속성값-평균) / 표준편차\n",
    "one-hot encoding : 메모리 낭비 심함 => 사이즈가 작은 것은 괜찮지만 큰건 비효율 => 밀집벡터\n",
    "밀집벡터(워드2벡터)\n",
    "'''"
   ]
  },
  {
   "cell_type": "code",
   "execution_count": null,
   "metadata": {},
   "outputs": [],
   "source": [
    "'''\n",
    "리스트 : 속도 느림, 메모리 많이 차지\n",
    "배열(array) : 속도 빠름, 메모리 적게 차지\n",
    "\n",
    "넘파이 배열과 리스트의 차이점\n",
    "- 리스트: 모든 데이터저장 가능\n",
    "- 배열: 모두 같은 자료형으로 통일해 주어야함, 원소개수 변경 못함\n",
    "- 배열은 파이썬에서 제공하지 않음\n",
    "- 파이썬 환경에서 넘파이 패키지를 활용하여 배열을 사용할 수 있음\n",
    "\n",
    "\n",
    "넘파이 : 수치해서 패키지, 다차원 배열 구조 \n",
    "        벡터, 행렬을 사용하는 선행대수 계산시 사용\n",
    "        넘파이 배열 연산 빠름(벡터화 연산)'''"
   ]
  },
  {
   "cell_type": "markdown",
   "metadata": {},
   "source": [
    "### Numpy\n",
    "### array"
   ]
  },
  {
   "cell_type": "code",
   "execution_count": 1,
   "metadata": {},
   "outputs": [],
   "source": [
    "# numpy 가져오기\n",
    "import numpy"
   ]
  },
  {
   "cell_type": "code",
   "execution_count": 124,
   "metadata": {},
   "outputs": [
    {
     "name": "stdout",
     "output_type": "stream",
     "text": [
      "[0 1 2 3 4]\n",
      "<class 'numpy.ndarray'>\n"
     ]
    }
   ],
   "source": [
    "ar = numpy.array([0,1,2,3,4]) # 2차원:[[0,1,2,3,4]],  3차원:[[[0,1,2,3,4]]]\n",
    "print(ar)\n",
    "print(type(ar))"
   ]
  },
  {
   "cell_type": "code",
   "execution_count": null,
   "metadata": {},
   "outputs": [],
   "source": [
    "# 100*100 크기의 이미지(픽셀 : 1000개)\n",
    "# 0~255사이의 gray scale\n",
    "# => 몇 차원? 10000차원"
   ]
  },
  {
   "cell_type": "code",
   "execution_count": 126,
   "metadata": {},
   "outputs": [
    {
     "name": "stdout",
     "output_type": "stream",
     "text": [
      "[0, 2, 4, 6, 8, 10, 12, 14, 16, 18]\n"
     ]
    }
   ],
   "source": [
    "# data에 저장된 모든 값들에 대해 2배\n",
    "data = list(range(0,10))\n",
    "new = []\n",
    "for i in data:\n",
    "    new.append(i*2)\n",
    "print(new)"
   ]
  },
  {
   "cell_type": "code",
   "execution_count": 125,
   "metadata": {},
   "outputs": [],
   "source": [
    "# 시간 복잡도(CPU) : 연산결과가 나오기가지 수행되는 라인의 수\n",
    "# 연산 횟수가 고정되어 잇을때 :O(1)\n",
    "# 연산 횟숫가 100일때 : O(100)\n",
    "    \n",
    "# 공간 복잡도(MEM)"
   ]
  },
  {
   "cell_type": "code",
   "execution_count": 127,
   "metadata": {},
   "outputs": [
    {
     "name": "stdout",
     "output_type": "stream",
     "text": [
      "[ 0  2  4  6  8 10 12 14 16 18]\n",
      "[0, 1, 2, 3, 4, 5, 6, 7, 8, 9, 0, 1, 2, 3, 4, 5, 6, 7, 8, 9]\n"
     ]
    }
   ],
   "source": [
    "import numpy as np\n",
    "\n",
    "data = list(range(0,10))\n",
    "x = np.array(data)\n",
    "print(x*2) # 벡터화 연산: for 문 사용 x\n",
    "print(data*2) # list는 곱하면 리스트 안의 원소가 두배가 되는 것이 아니고 리스트 전체가 두번 반복"
   ]
  },
  {
   "cell_type": "code",
   "execution_count": 130,
   "metadata": {},
   "outputs": [
    {
     "name": "stdout",
     "output_type": "stream",
     "text": [
      "[1, 2, 3, 1, 2, 3, 4, 5, 6]\n",
      "[ 6  9 12]\n"
     ]
    }
   ],
   "source": [
    "import numpy as np\n",
    "\n",
    "a = np.array([1,2,3])\n",
    "b = np.array([4,5,6])\n",
    "a2 = [1,2,3]\n",
    "b2 = [4,5,6]\n",
    "\n",
    "print(2*a2+b2) # list\n",
    "print(2*a+b) # array -> 요소간 연산 element wise~: 벡터화 연산"
   ]
  },
  {
   "cell_type": "code",
   "execution_count": 133,
   "metadata": {},
   "outputs": [
    {
     "name": "stdout",
     "output_type": "stream",
     "text": [
      "False\n",
      "[False  True False]\n"
     ]
    }
   ],
   "source": [
    "print(a2 ==2)\n",
    "# 논리연산에서도 각 요소마다\n",
    "print(a ==2)"
   ]
  },
  {
   "cell_type": "code",
   "execution_count": 134,
   "metadata": {},
   "outputs": [
    {
     "name": "stdout",
     "output_type": "stream",
     "text": [
      "[False False  True]\n"
     ]
    }
   ],
   "source": [
    "print(a > 2)"
   ]
  },
  {
   "cell_type": "markdown",
   "metadata": {},
   "source": [
    "### 2차원 배열 (행렬, matrix)\n",
    "\n",
    "가로줄 : 행\n",
    "\n",
    "세로줄 : 열"
   ]
  },
  {
   "cell_type": "code",
   "execution_count": 135,
   "metadata": {},
   "outputs": [],
   "source": [
    "# 2차원 배열 : 리스트의 리스트\n",
    "m = np.array([[0,1,2,],[3,4,5]]) \n",
    "# 열 : 안쪽 리스트 길이 => 열 3개\n",
    "# 행 : 바깥쪽 리스트 길이 => 행 2개\n",
    "# 0 1 2\n",
    "# 3 4 5"
   ]
  },
  {
   "cell_type": "code",
   "execution_count": 136,
   "metadata": {},
   "outputs": [
    {
     "name": "stdout",
     "output_type": "stream",
     "text": [
      "2\n",
      "3\n"
     ]
    }
   ],
   "source": [
    "# 행의 개수\n",
    "print(len(m))\n",
    "# 열의 개수\n",
    "print(len(m[0]))"
   ]
  },
  {
   "cell_type": "markdown",
   "metadata": {},
   "source": [
    "### 3차원 배열"
   ]
  },
  {
   "cell_type": "code",
   "execution_count": 38,
   "metadata": {},
   "outputs": [
    {
     "name": "stdout",
     "output_type": "stream",
     "text": [
      "3\n",
      "(2, 3, 4)\n"
     ]
    }
   ],
   "source": [
    "m = np.array([[[1,2,3,4],\n",
    "          [5,6,7,8],\n",
    "          [9,10,11,12]],\n",
    "         [[1,2,3,4],\n",
    "          [5,6,7,8],\n",
    "          [9,10,11,12]]])\n",
    "\n",
    "# 2행 3열 4깊이\n",
    "len(m)\n",
    "len(m[0])\n",
    "len(m[0][0])\n",
    "\n",
    "print(m.ndim)\n",
    "print(m.shape)"
   ]
  },
  {
   "cell_type": "markdown",
   "metadata": {},
   "source": [
    "### ndim, shape"
   ]
  },
  {
   "cell_type": "code",
   "execution_count": 40,
   "metadata": {},
   "outputs": [
    {
     "name": "stdout",
     "output_type": "stream",
     "text": [
      "1\n",
      "(3,)\n"
     ]
    }
   ],
   "source": [
    "# 차원이 높아지면 저렇게 적기 힘듬 =>\n",
    "a = np.array([4,5,6])\n",
    "print(a.ndim) # 배열의 차원\n",
    "print(a.shape) # 배열의 크기"
   ]
  },
  {
   "cell_type": "code",
   "execution_count": 39,
   "metadata": {},
   "outputs": [
    {
     "name": "stdout",
     "output_type": "stream",
     "text": [
      "2\n",
      "(2, 3)\n"
     ]
    }
   ],
   "source": [
    "a = np.array([[0,1,2],[4,5,6]])\n",
    "print(a.ndim)\n",
    "print(a.shape)"
   ]
  },
  {
   "cell_type": "code",
   "execution_count": 59,
   "metadata": {},
   "outputs": [
    {
     "name": "stdout",
     "output_type": "stream",
     "text": [
      "4\n",
      "-7 -9 8\n"
     ]
    }
   ],
   "source": [
    "# 문제1\n",
    "# 연속으로 숫자 3개를 곱했을때 얻어진 결과값이 가장 큰 구간이 어디인지\n",
    "a = [3,2,1,-4,-7,-9,8,-5,3,-1]\n",
    "\n",
    "res = 0\n",
    "c = a[0]*a[1]*a[2]\n",
    "for i in range(len(a)-2):\n",
    "    if a[i]*a[i+1]*a[i+2] > c:\n",
    "        c = a[i]*a[i+1]*a[i+2]\n",
    "        res = i\n",
    "print(res)\n",
    "print(a[res],a[res+1],a[res+2])"
   ]
  },
  {
   "cell_type": "code",
   "execution_count": 76,
   "metadata": {},
   "outputs": [
    {
     "name": "stdout",
     "output_type": "stream",
     "text": [
      "3 1\n",
      "2 1\n"
     ]
    }
   ],
   "source": [
    "# 문제2\n",
    "# 숫자 2*2의 영역을 구성하는 수를 곱했을때 얻어진 결과값이 가장 큰구간이 어디인지 출력\n",
    "a = np.array([[3,1,-2],[2,1,-3],[-2,0,-7]])\n",
    "\n",
    "# 처음 4개의 곱의 값을 주고 이 값보다 큰 값이 나오면 그 값을 저장\n",
    "c = a[0][0]*a[0][1]*a[1][0]*a[1][1]\n",
    "res_i=0\n",
    "res_j=0\n",
    "for i in range(a.shape[0]-1):\n",
    "    for j in range(a.shape[1]-1):        \n",
    "        if a[i][j]*a[i][j+1]*a[i+1][j]*a[i+1][j+1] > c:\n",
    "            c = a[i][j]*a[i][j+1]*a[i+1][j]*a[i+1][j+1]\n",
    "            res_i = i\n",
    "            res_j = j\n",
    "            \n",
    "print(a[res_i][res_j],a[res_i][res_j+1])\n",
    "print(a[res_i+1][res_j],a[res_i+1][res_j+1])"
   ]
  },
  {
   "cell_type": "markdown",
   "metadata": {},
   "source": [
    "#### slicing"
   ]
  },
  {
   "cell_type": "code",
   "execution_count": 137,
   "metadata": {},
   "outputs": [
    {
     "data": {
      "text/plain": [
       "array([[1, 2],\n",
       "       [5, 6]])"
      ]
     },
     "execution_count": 137,
     "metadata": {},
     "output_type": "execute_result"
    }
   ],
   "source": [
    "# array slicing\n",
    "ar = np.array([[1,2,3,4],[5,6,7,8,]])\n",
    "# ar[행,열]\n",
    "ar[0,:] # 첫번째 행 전체\n",
    "ar[:,1] # 전체 행에서 2번째 열\n",
    "ar[:,:2] # [1, 2],[5, 6]]"
   ]
  },
  {
   "cell_type": "markdown",
   "metadata": {},
   "source": [
    "#### indexing"
   ]
  },
  {
   "cell_type": "code",
   "execution_count": 138,
   "metadata": {},
   "outputs": [
    {
     "data": {
      "text/plain": [
       "6"
      ]
     },
     "execution_count": 138,
     "metadata": {},
     "output_type": "execute_result"
    }
   ],
   "source": [
    "# indexing : 데이터 1개를 참조\n",
    "ar = np.array([0,1,2])\n",
    "ar[-1] # 2\n",
    "\n",
    "ar = np.array([[1,2,3,4],[5,6,7,8,]])\n",
    "ar[-1][-1] # 8\n",
    "ar[0][0] # 1\n",
    "ar[0,0] # 1, 다차원 배열에서는 컴마로 접근\n",
    "ar[1,1] # 6"
   ]
  },
  {
   "cell_type": "markdown",
   "metadata": {},
   "source": [
    "#### 불린 참조"
   ]
  },
  {
   "cell_type": "code",
   "execution_count": 91,
   "metadata": {},
   "outputs": [
    {
     "data": {
      "text/plain": [
       "array([2, 3, 5])"
      ]
     },
     "execution_count": 91,
     "metadata": {},
     "output_type": "execute_result"
    }
   ],
   "source": [
    "# 불린 참조 : 조건에 대해 만족하는 값을 추출\n",
    "ar = np.array([2,3,4,5])\n",
    "bidx = np.array([True,True,False,True])\n",
    "ar[bidx]"
   ]
  },
  {
   "cell_type": "code",
   "execution_count": 92,
   "metadata": {},
   "outputs": [
    {
     "data": {
      "text/plain": [
       "array([ True,  True, False,  True])"
      ]
     },
     "execution_count": 92,
     "metadata": {},
     "output_type": "execute_result"
    }
   ],
   "source": [
    "ar != 4"
   ]
  },
  {
   "cell_type": "code",
   "execution_count": 93,
   "metadata": {},
   "outputs": [
    {
     "data": {
      "text/plain": [
       "array([2, 3, 5])"
      ]
     },
     "execution_count": 93,
     "metadata": {},
     "output_type": "execute_result"
    }
   ],
   "source": [
    "ar[ar != 4]"
   ]
  },
  {
   "cell_type": "code",
   "execution_count": 94,
   "metadata": {},
   "outputs": [
    {
     "data": {
      "text/plain": [
       "array([2, 4])"
      ]
     },
     "execution_count": 94,
     "metadata": {},
     "output_type": "execute_result"
    }
   ],
   "source": [
    "ar[ar%2==0]"
   ]
  },
  {
   "cell_type": "code",
   "execution_count": 95,
   "metadata": {},
   "outputs": [
    {
     "data": {
      "text/plain": [
       "array([4, 5])"
      ]
     },
     "execution_count": 95,
     "metadata": {},
     "output_type": "execute_result"
    }
   ],
   "source": [
    "ar[ar >3]"
   ]
  },
  {
   "cell_type": "code",
   "execution_count": 139,
   "metadata": {},
   "outputs": [
    {
     "name": "stdout",
     "output_type": "stream",
     "text": [
      "[2 5]\n",
      "[2 2 3 3]\n"
     ]
    }
   ],
   "source": [
    "ar = np.array([2,3,4,5])\n",
    "idx = np.array([0,3])\n",
    "print(ar[idx])\n",
    "\n",
    "idx = np.array([0,0,1,1])\n",
    "print(ar[idx])"
   ]
  },
  {
   "cell_type": "code",
   "execution_count": 106,
   "metadata": {},
   "outputs": [
    {
     "name": "stdout",
     "output_type": "stream",
     "text": [
      "[[1 4]\n",
      " [5 8]]\n"
     ]
    }
   ],
   "source": [
    "ar = np.array([[1,2,3,4],[5,6,7,8]])\n",
    "print(ar[:,(0,3)])\n",
    "\n",
    "# 다른 방법\n",
    "# ar[:,[0,3]]\n",
    "\n",
    "# ar[:,[True,False,False,True]]\n",
    "\n",
    "# dix = np.array([0,3])\n",
    "# ar[:,dix]"
   ]
  },
  {
   "cell_type": "code",
   "execution_count": 112,
   "metadata": {},
   "outputs": [
    {
     "data": {
      "text/plain": [
       "array([[ 9,  0, 11, 12],\n",
       "       [ 1,  2,  3,  4],\n",
       "       [13, 14, 15, 16]])"
      ]
     },
     "execution_count": 112,
     "metadata": {},
     "output_type": "execute_result"
    }
   ],
   "source": [
    "ar = np.array([[1,2,3,4],[5,6,7,8],[9,0,11,12],[13,14,15,16]])\n",
    "\n",
    "ar[[2,0,-1],:] # 원소 순 2- > 0 -> -1\n",
    "# ar[:]  ar전체 행\n",
    "# ar  ar 배열 전체\n",
    "# ar[:,:]  전체 행 전체 열"
   ]
  },
  {
   "cell_type": "markdown",
   "metadata": {},
   "source": [
    "### Pandas"
   ]
  },
  {
   "cell_type": "code",
   "execution_count": null,
   "metadata": {},
   "outputs": [],
   "source": [
    "# 원데이터 : csv, tsv, txt, xls, xlsx, json,........ \n",
    "# Pandas :  원데이터를 데이터프레임으로 읽어서 분석(엑셀 시트)\n",
    "# Numpy : 웬데이터를 다차원배열으로 읽어서 처리"
   ]
  },
  {
   "cell_type": "code",
   "execution_count": null,
   "metadata": {},
   "outputs": [],
   "source": [
    "# 판다스 자료\n",
    "# https://pandas.pydata.org/ 우측 Release 박스에 pdf누르면 다운로드"
   ]
  },
  {
   "cell_type": "code",
   "execution_count": 140,
   "metadata": {},
   "outputs": [
    {
     "data": {
      "text/plain": [
       "pandas.core.frame.DataFrame"
      ]
     },
     "execution_count": 140,
     "metadata": {},
     "output_type": "execute_result"
    }
   ],
   "source": [
    "import pandas as pd\n",
    "\n",
    "csvTest = pd.read_csv(\"test_csv.csv\")\n",
    "type(csvTest)"
   ]
  },
  {
   "cell_type": "code",
   "execution_count": 141,
   "metadata": {},
   "outputs": [
    {
     "data": {
      "text/html": [
       "<div>\n",
       "<style scoped>\n",
       "    .dataframe tbody tr th:only-of-type {\n",
       "        vertical-align: middle;\n",
       "    }\n",
       "\n",
       "    .dataframe tbody tr th {\n",
       "        vertical-align: top;\n",
       "    }\n",
       "\n",
       "    .dataframe thead th {\n",
       "        text-align: right;\n",
       "    }\n",
       "</style>\n",
       "<table border=\"1\" class=\"dataframe\">\n",
       "  <thead>\n",
       "    <tr style=\"text-align: right;\">\n",
       "      <th></th>\n",
       "      <th>ID</th>\n",
       "      <th>LAST_NAME</th>\n",
       "      <th>AGE</th>\n",
       "    </tr>\n",
       "  </thead>\n",
       "  <tbody>\n",
       "    <tr>\n",
       "      <td>0</td>\n",
       "      <td>1</td>\n",
       "      <td>KIM</td>\n",
       "      <td>25</td>\n",
       "    </tr>\n",
       "    <tr>\n",
       "      <td>1</td>\n",
       "      <td>2</td>\n",
       "      <td>LEE</td>\n",
       "      <td>22</td>\n",
       "    </tr>\n",
       "    <tr>\n",
       "      <td>2</td>\n",
       "      <td>3</td>\n",
       "      <td>PARK</td>\n",
       "      <td>33</td>\n",
       "    </tr>\n",
       "    <tr>\n",
       "      <td>3</td>\n",
       "      <td>4</td>\n",
       "      <td>CHOI</td>\n",
       "      <td>24</td>\n",
       "    </tr>\n",
       "    <tr>\n",
       "      <td>4</td>\n",
       "      <td>5</td>\n",
       "      <td>CHO</td>\n",
       "      <td>30</td>\n",
       "    </tr>\n",
       "  </tbody>\n",
       "</table>\n",
       "</div>"
      ],
      "text/plain": [
       "   ID LAST_NAME  AGE\n",
       "0   1       KIM   25\n",
       "1   2       LEE   22\n",
       "2   3      PARK   33\n",
       "3   4      CHOI   24\n",
       "4   5       CHO   30"
      ]
     },
     "execution_count": 141,
     "metadata": {},
     "output_type": "execute_result"
    }
   ],
   "source": [
    "csvTest"
   ]
  },
  {
   "cell_type": "code",
   "execution_count": 142,
   "metadata": {},
   "outputs": [
    {
     "data": {
      "text/plain": [
       "(5, 3)"
      ]
     },
     "execution_count": 142,
     "metadata": {},
     "output_type": "execute_result"
    }
   ],
   "source": [
    "csvTest.shape"
   ]
  },
  {
   "cell_type": "code",
   "execution_count": 143,
   "metadata": {},
   "outputs": [
    {
     "data": {
      "text/html": [
       "<div>\n",
       "<style scoped>\n",
       "    .dataframe tbody tr th:only-of-type {\n",
       "        vertical-align: middle;\n",
       "    }\n",
       "\n",
       "    .dataframe tbody tr th {\n",
       "        vertical-align: top;\n",
       "    }\n",
       "\n",
       "    .dataframe thead th {\n",
       "        text-align: right;\n",
       "    }\n",
       "</style>\n",
       "<table border=\"1\" class=\"dataframe\">\n",
       "  <thead>\n",
       "    <tr style=\"text-align: right;\">\n",
       "      <th></th>\n",
       "      <th>ID|LAST_NAME|AGE</th>\n",
       "    </tr>\n",
       "  </thead>\n",
       "  <tbody>\n",
       "    <tr>\n",
       "      <td>0</td>\n",
       "      <td>1|KIM|25</td>\n",
       "    </tr>\n",
       "    <tr>\n",
       "      <td>1</td>\n",
       "      <td>2|LEE|22</td>\n",
       "    </tr>\n",
       "    <tr>\n",
       "      <td>2</td>\n",
       "      <td>3|PARK|33</td>\n",
       "    </tr>\n",
       "    <tr>\n",
       "      <td>3</td>\n",
       "      <td>4|CHOI|24</td>\n",
       "    </tr>\n",
       "    <tr>\n",
       "      <td>4</td>\n",
       "      <td>5|CHO|30</td>\n",
       "    </tr>\n",
       "  </tbody>\n",
       "</table>\n",
       "</div>"
      ],
      "text/plain": [
       "  ID|LAST_NAME|AGE\n",
       "0         1|KIM|25\n",
       "1         2|LEE|22\n",
       "2        3|PARK|33\n",
       "3        4|CHOI|24\n",
       "4         5|CHO|30"
      ]
     },
     "execution_count": 143,
     "metadata": {},
     "output_type": "execute_result"
    }
   ],
   "source": [
    "pd.read_csv(\"test_text.txt\") # csv파일뿐만 아니라 다른 파일도 읽을 수 있담\n",
    "# csv는 자동으로 ,기준으로 구분"
   ]
  },
  {
   "cell_type": "code",
   "execution_count": 144,
   "metadata": {},
   "outputs": [
    {
     "data": {
      "text/html": [
       "<div>\n",
       "<style scoped>\n",
       "    .dataframe tbody tr th:only-of-type {\n",
       "        vertical-align: middle;\n",
       "    }\n",
       "\n",
       "    .dataframe tbody tr th {\n",
       "        vertical-align: top;\n",
       "    }\n",
       "\n",
       "    .dataframe thead th {\n",
       "        text-align: right;\n",
       "    }\n",
       "</style>\n",
       "<table border=\"1\" class=\"dataframe\">\n",
       "  <thead>\n",
       "    <tr style=\"text-align: right;\">\n",
       "      <th></th>\n",
       "      <th>ID</th>\n",
       "      <th>LAST_NAME</th>\n",
       "      <th>AGE</th>\n",
       "    </tr>\n",
       "  </thead>\n",
       "  <tbody>\n",
       "    <tr>\n",
       "      <td>0</td>\n",
       "      <td>1</td>\n",
       "      <td>KIM</td>\n",
       "      <td>25</td>\n",
       "    </tr>\n",
       "    <tr>\n",
       "      <td>1</td>\n",
       "      <td>2</td>\n",
       "      <td>LEE</td>\n",
       "      <td>22</td>\n",
       "    </tr>\n",
       "    <tr>\n",
       "      <td>2</td>\n",
       "      <td>3</td>\n",
       "      <td>PARK</td>\n",
       "      <td>33</td>\n",
       "    </tr>\n",
       "    <tr>\n",
       "      <td>3</td>\n",
       "      <td>4</td>\n",
       "      <td>CHOI</td>\n",
       "      <td>24</td>\n",
       "    </tr>\n",
       "    <tr>\n",
       "      <td>4</td>\n",
       "      <td>5</td>\n",
       "      <td>CHO</td>\n",
       "      <td>30</td>\n",
       "    </tr>\n",
       "  </tbody>\n",
       "</table>\n",
       "</div>"
      ],
      "text/plain": [
       "   ID LAST_NAME  AGE\n",
       "0   1       KIM   25\n",
       "1   2       LEE   22\n",
       "2   3      PARK   33\n",
       "3   4      CHOI   24\n",
       "4   5       CHO   30"
      ]
     },
     "execution_count": 144,
     "metadata": {},
     "output_type": "execute_result"
    }
   ],
   "source": [
    "pd.read_csv(\"test_text.txt\",sep='|')"
   ]
  },
  {
   "cell_type": "code",
   "execution_count": null,
   "metadata": {},
   "outputs": [],
   "source": []
  }
 ],
 "metadata": {
  "kernelspec": {
   "display_name": "Python 3",
   "language": "python",
   "name": "python3"
  },
  "language_info": {
   "codemirror_mode": {
    "name": "ipython",
    "version": 3
   },
   "file_extension": ".py",
   "mimetype": "text/x-python",
   "name": "python",
   "nbconvert_exporter": "python",
   "pygments_lexer": "ipython3",
   "version": "3.7.4"
  }
 },
 "nbformat": 4,
 "nbformat_minor": 2
}
