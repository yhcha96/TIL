{
 "cells": [
  {
   "cell_type": "markdown",
   "metadata": {},
   "source": [
    "2020.01.06 연습문제"
   ]
  },
  {
   "cell_type": "code",
   "execution_count": null,
   "metadata": {},
   "outputs": [],
   "source": [
    "# 문제1\n",
    "# 연속으로 숫자 3개를 곱했을때 얻어진 결과값이 가장 큰 구간이 어디인지\n",
    "a = [3,2,1,-4,-7,-9,8,-5,3,-1]\n",
    "\n",
    "res = 0\n",
    "c = a[0]*a[1]*a[2]\n",
    "for i in range(len(a)-2):\n",
    "    if a[i]*a[i+1]*a[i+2] > c:\n",
    "        c = a[i]*a[i+1]*a[i+2]\n",
    "        res = i\n",
    "print(res)\n",
    "print(a[res],a[res+1],a[res+2])"
   ]
  },
  {
   "cell_type": "code",
   "execution_count": null,
   "metadata": {},
   "outputs": [],
   "source": [
    "# 문제2\n",
    "# 숫자 2*2의 영역을 구성하는 수를 곱했을때 얻어진 결과값이 가장 큰구간이 어디인지 출력\n",
    "a = np.array([[3,1,-2],[2,1,-3],[-2,0,-7]])\n",
    "\n",
    "# 처음 4개의 곱의 값을 주고 이 값보다 큰 값이 나오면 그 값을 저장\n",
    "c = a[0][0]*a[0][1]*a[1][0]*a[1][1]\n",
    "res_i=0\n",
    "res_j=0\n",
    "for i in range(a.shape[0]-1):\n",
    "    for j in range(a.shape[1]-1):        \n",
    "        if a[i][j]*a[i][j+1]*a[i+1][j]*a[i+1][j+1] > c:\n",
    "            c = a[i][j]*a[i][j+1]*a[i+1][j]*a[i+1][j+1]\n",
    "            res_i = i\n",
    "            res_j = j\n",
    "            \n",
    "print(a[res_i][res_j],a[res_i][res_j+1])\n",
    "print(a[res_i+1][res_j],a[res_i+1][res_j+1])"
   ]
  },
  {
   "cell_type": "markdown",
   "metadata": {},
   "source": [
    "### 문제3"
   ]
  },
  {
   "cell_type": "markdown",
   "metadata": {},
   "source": [
    "m = np.array([[ 0,  1,  2,  3,  4],\n",
    "              [ 5,  6,  7,  8,  9],\n",
    "              [10, 11, 12, 13, 14]])\n",
    "이 행렬에서 값 7 을 인덱싱한다.\n",
    "이 행렬에서 값 14 을 인덱싱한다.\n",
    "이 행렬에서 배열 [6, 7] 을 슬라이싱한다.\n",
    "이 행렬에서 배열 [7, 12] 을 슬라이싱한다.\n",
    "이 행렬에서 배열 [[3, 4], [8, 9]] 을 슬라이싱한다."
   ]
  },
  {
   "cell_type": "code",
   "execution_count": 16,
   "metadata": {},
   "outputs": [
    {
     "name": "stdout",
     "output_type": "stream",
     "text": [
      "7\n",
      "14\n",
      "[6 7]\n",
      "[ 7 12]\n",
      "[[3 4]\n",
      " [8 9]]\n"
     ]
    }
   ],
   "source": [
    "import numpy as np\n",
    "\n",
    "m = np.array([[ 0,  1,  2,  3,  4],\n",
    "              [ 5,  6,  7,  8,  9],\n",
    "              [10, 11, 12, 13, 14]])\n",
    "#1\n",
    "print(m[1, 2])\n",
    "#2\n",
    "print(m[-1, -1])\n",
    "#3\n",
    "print(m[1, 1:3])\n",
    "#4\n",
    "print(m[1:, 2])\n",
    "#5\n",
    "print(m[:2, 3:])"
   ]
  },
  {
   "cell_type": "markdown",
   "metadata": {},
   "source": [
    "### 문제 4"
   ]
  },
  {
   "cell_type": "markdown",
   "metadata": {},
   "source": [
    "x = np.array([1, 2, 3, 4, 5, 6, 7, 8, 9, 10,\n",
    "              11, 12, 13, 14, 15, 16, 17, 18, 19, 20])\n",
    "이 배열에서 3의 배수를 찾아라.\n",
    "이 배열에서 4로 나누면 1이 남는 수를 찾아라.\n",
    "이 배열에서 3으로 나누면 나누어지고 4로 나누면 1이 남는 수를 찾아라."
   ]
  },
  {
   "cell_type": "code",
   "execution_count": 100,
   "metadata": {},
   "outputs": [
    {
     "name": "stdout",
     "output_type": "stream",
     "text": [
      "[ 3  6  9 12 15 18]\n",
      "[ 1  5  9 13 17]\n"
     ]
    },
    {
     "data": {
      "text/plain": [
       "array([9])"
      ]
     },
     "execution_count": 100,
     "metadata": {},
     "output_type": "execute_result"
    }
   ],
   "source": [
    "x = np.array([1, 2, 3, 4, 5, 6, 7, 8, 9, 10,\n",
    "              11, 12, 13, 14, 15, 16, 17, 18, 19, 20])\n",
    "#1\n",
    "print(x[x%3 == 0])\n",
    "#2\n",
    "print(x[x%4 ==1])\n",
    "#3\n",
    "a = x[x%3==0]\n",
    "b = a[a%4 ==1]\n",
    "print(b)"
   ]
  },
  {
   "cell_type": "markdown",
   "metadata": {},
   "source": [
    "### 문제3"
   ]
  },
  {
   "cell_type": "code",
   "execution_count": null,
   "metadata": {},
   "outputs": [],
   "source": [
    "상자들이 쌓여있는 방이 있다\n",
    "방이 오른쪽으로 90도 회전하여 상자들이 중력의 영향을 받아 낙하한다고 할 때, 낙차가 가장 큰 상자를 구하여 그 낙차를 리턴하는 프로그램을 작성하시오.\n",
    "중력은 회전이 완료된 후 적용된다\n",
    "상자들은 모두 한쪽 벽면에 붙여진 상태로 쌓여 2차원의 형태를 이루며 벽에서 떨어져서 쌓인 상자는 없다\n",
    "가로길이는 항상 100이며 세로길이도 항상100이다\n",
    "즉 상자는 최소 0 최대 100높이로 쌓을 수 있다"
   ]
  },
  {
   "cell_type": "code",
   "execution_count": null,
   "metadata": {},
   "outputs": [],
   "source": [
    "# 각 열의 상자개수  입력받기\n",
    "a = input()\n",
    "\n",
    "# 100x100 matrix 생성\n",
    "h = 100\n",
    "v = 100\n",
    "room = np.array([[0]*h]*v)\n",
    "\n",
    "# 입력 받은 상자 개수대로 상자 위치 표시(상자가 있으면 1, 없으면 0)\n",
    "for i in range(h):\n",
    "    j = 0\n",
    "    for k in range(int(a[i])):\n",
    "        room[-(j+1),i] = 1\n",
    "        j += 1\n",
    "# 룸\n",
    "print(room)\n",
    "print('-'*20)\n",
    "\n",
    "# 회전\n",
    "new_room=[]\n",
    "for i in range(room.shape[1]):\n",
    "    new = []\n",
    "    for j in range(room.shape[0]):\n",
    "        new.append(room[-(j+1)][i])\n",
    "    new_room.append(new)\n",
    "new_room = np.array(new_room)\n",
    "\n",
    "# 회전된 룸\n",
    "print(new_room)    \n",
    "\n",
    "# 최대 낙차 구하기\n",
    "c = 0\n",
    "for i in range(new_room.shape[1]):\n",
    "    for j in range(new_room.shape[0]):\n",
    "        # new_room[j,i] 밑에 있는 0의 개수가 상자가 낙차할 거리 => new_room[j,i]이 1일때 그 위치 이하의 0의 개수 체크\n",
    "        if new_room[j,i] ==1 and list(new_room[j:,i]).count(0) > c:\n",
    "            c = list(new_room[j:,i]).count(0)\n",
    "            location=[j,i]\n",
    "            \n",
    "print(c)\n",
    "print(location)"
   ]
  },
  {
   "cell_type": "code",
   "execution_count": 105,
   "metadata": {},
   "outputs": [
    {
     "name": "stdout",
     "output_type": "stream",
     "text": [
      "74200607\n",
      "[[0 0 0 0 0 0 0 0]\n",
      " [0 0 0 0 0 0 0 0]\n",
      " [1 0 0 0 0 0 0 1]\n",
      " [1 0 0 0 0 1 0 1]\n",
      " [1 0 0 0 0 1 0 1]\n",
      " [1 1 0 0 0 1 0 1]\n",
      " [1 1 0 0 0 1 0 1]\n",
      " [1 1 1 0 0 1 0 1]\n",
      " [1 1 1 0 0 1 0 1]]\n",
      "--------------------\n",
      "6\n",
      "[0, 6]\n"
     ]
    }
   ],
   "source": [
    "############################### 회전 해주지 않고 구하기 ##############################\n",
    "# 각 열의 상자개수  입력받기\n",
    "a = input() #74200607\n",
    "\n",
    "# 100x100 matrix 생성 대신 8x9\n",
    "h = 8\n",
    "v = 9\n",
    "room = np.array([[0]*h]*v)\n",
    "\n",
    "# 입력 받은 상자 개수대로 상자 위치 표시(상자가 있으면 1, 없으면 0)\n",
    "for i in range(h):\n",
    "    j = 0\n",
    "    for k in range(int(a[i])):\n",
    "        room[-(j+1),i] = 1\n",
    "        j += 1\n",
    "# 룸\n",
    "print(room)\n",
    "print('-'*20)\n",
    "\n",
    "#낙차 값구하기\n",
    "c = 0\n",
    "for i in range(v):\n",
    "    for j in range(h):\n",
    "        # 0의 개수가 상자가 낙차할 거리 => room[j,i]이 1일때 그 위치 오른쪽의 0의 개수 체크\n",
    "        # 0의 개수가 저장되어 있는 0의 개수보다 크면 그값과 그 위치 저장\n",
    "        # 위치는 회전된 위치로 저장\n",
    "        if room[i,j] == 1 and list(room[i,j:]).count(0) > c:\n",
    "            c = list(room[i,j:]).count(0)\n",
    "            location = [j,room.shape[0]-(i+1)]\n",
    "print(c)\n",
    "print(location)"
   ]
  },
  {
   "cell_type": "code",
   "execution_count": null,
   "metadata": {},
   "outputs": [],
   "source": []
  }
 ],
 "metadata": {
  "kernelspec": {
   "display_name": "Python 3",
   "language": "python",
   "name": "python3"
  },
  "language_info": {
   "codemirror_mode": {
    "name": "ipython",
    "version": 3
   },
   "file_extension": ".py",
   "mimetype": "text/x-python",
   "name": "python",
   "nbconvert_exporter": "python",
   "pygments_lexer": "ipython3",
   "version": "3.7.4"
  }
 },
 "nbformat": 4,
 "nbformat_minor": 2
}
