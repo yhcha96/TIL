{
 "cells": [
  {
   "cell_type": "markdown",
   "metadata": {},
   "source": [
    "제한된 횟수만큼 평탄화(덤프) 작업을 한 이후, 최고점과 최저점의 차이를 리턴하는 함수를 구현하시오\n",
    "가장 높은 곳에 있는 상자를 가장 낮은 곳으로 옯기는 작업을 덤프라고 정의한다\n",
    "아래의 예에서 1회 덤프 후, A 사장가 B로 이동하였다. (A대신 C를 이동해도 무방함)\n",
    "\n",
    "int data[100]: // 상자가 쌓여있는 상태를 수치로 표현 100개가 입력됨\n",
    "                / 예시 {5,8,3,1,5,6,9,9,2,2,4}\n",
    "                / 이때 최고점은 9(두개의 9중 어느 것을 선택해도 무방)\n",
    "                / 이때 최하는 1(만일 최하점이 두개 이상일 경우 임의 선택)\n",
    "                / 상자 높이 1~100\n",
    "                / 평탄화(덤프) 작업 회수, 덤프 회수는 1~1000\n",
    "                \n",
    "                \n",
    "출력 값 \n",
    "- 제한된 덤프 횟수만큼 덤프 수행 후 최고점과 최저점의 높이 차이\n",
    "\n",
    "\n",
    "어려우니깐 \n",
    "{5,8,3,1,5,6,9,9,2,2,4}로 쌓여있는 곳에서 덤프 10번 후 최고-최하?"
   ]
  },
  {
   "cell_type": "code",
   "execution_count": 2,
   "metadata": {},
   "outputs": [],
   "source": [
    "import numpy as np\n",
    "import pandas as pd"
   ]
  },
  {
   "cell_type": "code",
   "execution_count": 42,
   "metadata": {},
   "outputs": [
    {
     "name": "stdout",
     "output_type": "stream",
     "text": [
      "최고점과 최저점의 높이 차이 =  2\n"
     ]
    }
   ],
   "source": [
    "# 11*10 matrix 생성\n",
    "box = np.array([[0]*11]*10) \n",
    "\n",
    " # 상자 개수대로 쌓기\n",
    "a = [5,8,3,1,5,6,9,9,2,2,4]\n",
    "for i in range(11):\n",
    "    j = 0\n",
    "    for k in range(int(a[i])): # 열 순서대로 가서  상자 수만큼 밑에서부터 쌓기\n",
    "        box[-(j+1),i] = 1\n",
    "        j += 1\n",
    "\n",
    "# 최고점 상자를 최저점 상자로 옮기기\n",
    "def change(i,j):\n",
    "    global box\n",
    "    # 최저점 찾기\n",
    "    for i in range(11):\n",
    "        for j in range(10):\n",
    "            if box[-(i+1),-(j+1)] == 0: # 밑에서부터 한행 한행 올라오면서 0 찾기, 찾으면 1로 바꿔주기\n",
    "                box[-(i+1),-(j+1)] = 1\n",
    "                return\n",
    "\n",
    "# 덤프           \n",
    "def dump():\n",
    "    global box\n",
    "    global c\n",
    "    # 최고점 찾기\n",
    "    for i in range(11):\n",
    "        for j in range(10):\n",
    "            if box[i,j] == 1: # 위에서부터 한행 한행 내려오면서 1 찾기 1 있으면 chage 실행\n",
    "                change(i,j)\n",
    "                box[i,j] = 0 # 최고점 0으로 바꿔주기\n",
    "                c += 1 # 10번만 해야하니깐 c로 체크\n",
    "                return\n",
    "\n",
    "# 10번 dump실행\n",
    "c = 0\n",
    "while c<10:\n",
    "    dump()\n",
    "\n",
    "# 최고점 최저점 차이 구하기\n",
    "differ =[]\n",
    "for i in range(11):\n",
    "    differ.append(list(box[:,i]).count(1))\n",
    "\n",
    "print(\"최고점과 최저점의 높이 차이 = \",max(differ)-min(differ))"
   ]
  },
  {
   "cell_type": "code",
   "execution_count": 1,
   "metadata": {},
   "outputs": [],
   "source": [
    "# sort, count 사용해서 효율적으로 만들어보기\n",
    "\n",
    "a = [5,8,3,1,5,6,9,9,2,2,4]\n",
    "a.sort(reverse = True)"
   ]
  },
  {
   "cell_type": "code",
   "execution_count": 2,
   "metadata": {},
   "outputs": [
    {
     "data": {
      "text/plain": [
       "[9, 9, 8, 6, 5, 5, 4, 3, 2, 2, 1]"
      ]
     },
     "execution_count": 2,
     "metadata": {},
     "output_type": "execute_result"
    }
   ],
   "source": [
    "# 해싱 알고리즘\n",
    "# 검색에서 가장 빠름"
   ]
  },
  {
   "cell_type": "code",
   "execution_count": null,
   "metadata": {},
   "outputs": [],
   "source": []
  }
 ],
 "metadata": {
  "kernelspec": {
   "display_name": "Python 3",
   "language": "python",
   "name": "python3"
  },
  "language_info": {
   "codemirror_mode": {
    "name": "ipython",
    "version": 3
   },
   "file_extension": ".py",
   "mimetype": "text/x-python",
   "name": "python",
   "nbconvert_exporter": "python",
   "pygments_lexer": "ipython3",
   "version": "3.7.4"
  }
 },
 "nbformat": 4,
 "nbformat_minor": 2
}
