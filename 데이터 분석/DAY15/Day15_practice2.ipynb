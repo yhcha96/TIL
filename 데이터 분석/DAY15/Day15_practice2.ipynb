{
 "cells": [
  {
   "cell_type": "markdown",
   "metadata": {},
   "source": [
    "강변에 있는 빌딩 밀집 지역에서 왼쪽 또는 오른쪽 창문을 열었을때,\n",
    "양쪽 모두 2이상의 공간이 확보되는 세대의 수를 반환한다.\n",
    "\n",
    "아래의 예시와 같이 강변에 8채의 빌딩이 있을 때, 연두색으로 색칠된 여섯 세대에는 좌우로 2칸 이상의 공백이 존재하므로 조망권이 확보된다.\n",
    "int data[1000]; // 빌딩의 층수를 수치로 표현, 1000개가 입력됨\n",
    "                // 예시 {0,0,3,5,2,4,8,0,6,4,0,6,0,0}\n",
    "                // 빌딩 높이는 0~225\n",
    "                // 맨 왼쪽 두 칸과 오른쪽 두칸에는 빌딩이 지어지지 않음"
   ]
  },
  {
   "cell_type": "code",
   "execution_count": 13,
   "metadata": {},
   "outputs": [],
   "source": [
    "# 예시 {0,0,3,5,2,4,8,0,6,4,0,6,0,0} 상황일때 조망권이 확보된 세대는 6\n",
    "res=[]\n",
    "num=[]\n",
    "sample = [0,0,3,5,2,4,9,0,6,4,0,6,0,0]\n",
    "for i in range(2,len(sample)-2):\n",
    "    if sample[i]>sample[i-2] and sample[i]>sample[i-1] and sample[i]>sample[i+1] and sample[i]>sample[i+2]:\n",
    "        res.append(i)\n",
    "        num.append(sample[i]-max([sample[i-2],sample[i-1],sample[i+1],sample[i+2]]))"
   ]
  },
  {
   "cell_type": "code",
   "execution_count": 16,
   "metadata": {},
   "outputs": [
    {
     "name": "stdout",
     "output_type": "stream",
     "text": [
      "3번째 빌딩에 1세대\n",
      "6번째 빌딩에 3세대\n",
      "11번째 빌딩에 2세대\n",
      "조망권이 보장된 세대는 총 6세대입니다\n"
     ]
    }
   ],
   "source": [
    "for i in range(len(res)):\n",
    "    print(\"{}번째 빌딩에 {}세대\".format(res[i],num[i]))\n",
    "print(\"조망권이 보장된 세대는 총 %d세대입니다\"%sum(num))"
   ]
  },
  {
   "cell_type": "code",
   "execution_count": null,
   "metadata": {},
   "outputs": [],
   "source": []
  }
 ],
 "metadata": {
  "kernelspec": {
   "display_name": "Python 3",
   "language": "python",
   "name": "python3"
  },
  "language_info": {
   "codemirror_mode": {
    "name": "ipython",
    "version": 3
   },
   "file_extension": ".py",
   "mimetype": "text/x-python",
   "name": "python",
   "nbconvert_exporter": "python",
   "pygments_lexer": "ipython3",
   "version": "3.7.4"
  }
 },
 "nbformat": 4,
 "nbformat_minor": 2
}
