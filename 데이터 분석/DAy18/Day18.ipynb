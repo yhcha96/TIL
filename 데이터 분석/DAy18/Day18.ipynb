{
 "cells": [
  {
   "cell_type": "markdown",
   "metadata": {},
   "source": [
    "2020.01.13"
   ]
  },
  {
   "cell_type": "code",
   "execution_count": 1,
   "metadata": {},
   "outputs": [],
   "source": [
    "import pandas as pd\n",
    "import numpy as np\n",
    "\n",
    "import warnings\n",
    "warnings.filterwarnings(action = 'ignore')"
   ]
  },
  {
   "cell_type": "code",
   "execution_count": 2,
   "metadata": {},
   "outputs": [
    {
     "data": {
      "text/html": [
       "<div>\n",
       "<style scoped>\n",
       "    .dataframe tbody tr th:only-of-type {\n",
       "        vertical-align: middle;\n",
       "    }\n",
       "\n",
       "    .dataframe tbody tr th {\n",
       "        vertical-align: top;\n",
       "    }\n",
       "\n",
       "    .dataframe thead th {\n",
       "        text-align: right;\n",
       "    }\n",
       "</style>\n",
       "<table border=\"1\" class=\"dataframe\">\n",
       "  <thead>\n",
       "    <tr style=\"text-align: right;\">\n",
       "      <th></th>\n",
       "      <th>c1</th>\n",
       "      <th>c2</th>\n",
       "      <th>c3</th>\n",
       "    </tr>\n",
       "  </thead>\n",
       "  <tbody>\n",
       "    <tr>\n",
       "      <td>0</td>\n",
       "      <td>1.644949</td>\n",
       "      <td>-0.167028</td>\n",
       "      <td>-0.160568</td>\n",
       "    </tr>\n",
       "    <tr>\n",
       "      <td>1</td>\n",
       "      <td>-0.927519</td>\n",
       "      <td>0.181201</td>\n",
       "      <td>-0.362740</td>\n",
       "    </tr>\n",
       "    <tr>\n",
       "      <td>2</td>\n",
       "      <td>1.628185</td>\n",
       "      <td>-0.710031</td>\n",
       "      <td>-0.521265</td>\n",
       "    </tr>\n",
       "    <tr>\n",
       "      <td>3</td>\n",
       "      <td>-0.910087</td>\n",
       "      <td>-1.451984</td>\n",
       "      <td>-0.229769</td>\n",
       "    </tr>\n",
       "    <tr>\n",
       "      <td>4</td>\n",
       "      <td>-0.223497</td>\n",
       "      <td>-0.253275</td>\n",
       "      <td>-0.115628</td>\n",
       "    </tr>\n",
       "  </tbody>\n",
       "</table>\n",
       "</div>"
      ],
      "text/plain": [
       "         c1        c2        c3\n",
       "0  1.644949 -0.167028 -0.160568\n",
       "1 -0.927519  0.181201 -0.362740\n",
       "2  1.628185 -0.710031 -0.521265\n",
       "3 -0.910087 -1.451984 -0.229769\n",
       "4 -0.223497 -0.253275 -0.115628"
      ]
     },
     "execution_count": 2,
     "metadata": {},
     "output_type": "execute_result"
    }
   ],
   "source": [
    "df = pd.DataFrame(np.random.randn(5,3),\n",
    "                 columns=['c1','c2','c3'])\n",
    "df"
   ]
  },
  {
   "cell_type": "code",
   "execution_count": 3,
   "metadata": {},
   "outputs": [
    {
     "data": {
      "text/html": [
       "<div>\n",
       "<style scoped>\n",
       "    .dataframe tbody tr th:only-of-type {\n",
       "        vertical-align: middle;\n",
       "    }\n",
       "\n",
       "    .dataframe tbody tr th {\n",
       "        vertical-align: top;\n",
       "    }\n",
       "\n",
       "    .dataframe thead th {\n",
       "        text-align: right;\n",
       "    }\n",
       "</style>\n",
       "<table border=\"1\" class=\"dataframe\">\n",
       "  <thead>\n",
       "    <tr style=\"text-align: right;\">\n",
       "      <th></th>\n",
       "      <th>c1</th>\n",
       "      <th>c2</th>\n",
       "      <th>c3</th>\n",
       "    </tr>\n",
       "  </thead>\n",
       "  <tbody>\n",
       "    <tr>\n",
       "      <td>0</td>\n",
       "      <td>NaN</td>\n",
       "      <td>-0.167028</td>\n",
       "      <td>-0.160568</td>\n",
       "    </tr>\n",
       "    <tr>\n",
       "      <td>1</td>\n",
       "      <td>-0.927519</td>\n",
       "      <td>0.181201</td>\n",
       "      <td>-0.362740</td>\n",
       "    </tr>\n",
       "    <tr>\n",
       "      <td>2</td>\n",
       "      <td>1.628185</td>\n",
       "      <td>-0.710031</td>\n",
       "      <td>-0.521265</td>\n",
       "    </tr>\n",
       "    <tr>\n",
       "      <td>3</td>\n",
       "      <td>-0.910087</td>\n",
       "      <td>-1.451984</td>\n",
       "      <td>-0.229769</td>\n",
       "    </tr>\n",
       "    <tr>\n",
       "      <td>4</td>\n",
       "      <td>-0.223497</td>\n",
       "      <td>-0.253275</td>\n",
       "      <td>-0.115628</td>\n",
       "    </tr>\n",
       "  </tbody>\n",
       "</table>\n",
       "</div>"
      ],
      "text/plain": [
       "         c1        c2        c3\n",
       "0       NaN -0.167028 -0.160568\n",
       "1 -0.927519  0.181201 -0.362740\n",
       "2  1.628185 -0.710031 -0.521265\n",
       "3 -0.910087 -1.451984 -0.229769\n",
       "4 -0.223497 -0.253275 -0.115628"
      ]
     },
     "execution_count": 3,
     "metadata": {},
     "output_type": "execute_result"
    }
   ],
   "source": [
    "df.iloc[0,0] = None\n",
    "df"
   ]
  },
  {
   "cell_type": "code",
   "execution_count": 4,
   "metadata": {},
   "outputs": [
    {
     "data": {
      "text/html": [
       "<div>\n",
       "<style scoped>\n",
       "    .dataframe tbody tr th:only-of-type {\n",
       "        vertical-align: middle;\n",
       "    }\n",
       "\n",
       "    .dataframe tbody tr th {\n",
       "        vertical-align: top;\n",
       "    }\n",
       "\n",
       "    .dataframe thead th {\n",
       "        text-align: right;\n",
       "    }\n",
       "</style>\n",
       "<table border=\"1\" class=\"dataframe\">\n",
       "  <thead>\n",
       "    <tr style=\"text-align: right;\">\n",
       "      <th></th>\n",
       "      <th>c1</th>\n",
       "      <th>c2</th>\n",
       "      <th>c3</th>\n",
       "    </tr>\n",
       "  </thead>\n",
       "  <tbody>\n",
       "    <tr>\n",
       "      <td>0</td>\n",
       "      <td>NaN</td>\n",
       "      <td>-0.167028</td>\n",
       "      <td>-0.160568</td>\n",
       "    </tr>\n",
       "    <tr>\n",
       "      <td>1</td>\n",
       "      <td>NaN</td>\n",
       "      <td>0.181201</td>\n",
       "      <td>NaN</td>\n",
       "    </tr>\n",
       "    <tr>\n",
       "      <td>2</td>\n",
       "      <td>1.628185</td>\n",
       "      <td>NaN</td>\n",
       "      <td>-0.521265</td>\n",
       "    </tr>\n",
       "    <tr>\n",
       "      <td>3</td>\n",
       "      <td>-0.910087</td>\n",
       "      <td>NaN</td>\n",
       "      <td>-0.229769</td>\n",
       "    </tr>\n",
       "    <tr>\n",
       "      <td>4</td>\n",
       "      <td>-0.223497</td>\n",
       "      <td>-0.253275</td>\n",
       "      <td>NaN</td>\n",
       "    </tr>\n",
       "  </tbody>\n",
       "</table>\n",
       "</div>"
      ],
      "text/plain": [
       "         c1        c2        c3\n",
       "0       NaN -0.167028 -0.160568\n",
       "1       NaN  0.181201       NaN\n",
       "2  1.628185       NaN -0.521265\n",
       "3 -0.910087       NaN -0.229769\n",
       "4 -0.223497 -0.253275       NaN"
      ]
     },
     "execution_count": 4,
     "metadata": {},
     "output_type": "execute_result"
    }
   ],
   "source": [
    "df.ix[1,['c1','c3']] = np.nan\n",
    "df.ix[2,['c2']] = np.nan\n",
    "df.ix[3,['c2']] = np.nan\n",
    "df.ix[4,['c3']] = np.nan\n",
    "df"
   ]
  },
  {
   "cell_type": "markdown",
   "metadata": {},
   "source": [
    "### NaN 대체\n",
    "- fillna : na만 다른 값으로 대체\n",
    "- replace : na뿐만 아니라 다른 모든 값에 대해서 대체 가능"
   ]
  },
  {
   "cell_type": "markdown",
   "metadata": {},
   "source": [
    "### fillna()"
   ]
  },
  {
   "cell_type": "code",
   "execution_count": 5,
   "metadata": {},
   "outputs": [
    {
     "data": {
      "text/html": [
       "<div>\n",
       "<style scoped>\n",
       "    .dataframe tbody tr th:only-of-type {\n",
       "        vertical-align: middle;\n",
       "    }\n",
       "\n",
       "    .dataframe tbody tr th {\n",
       "        vertical-align: top;\n",
       "    }\n",
       "\n",
       "    .dataframe thead th {\n",
       "        text-align: right;\n",
       "    }\n",
       "</style>\n",
       "<table border=\"1\" class=\"dataframe\">\n",
       "  <thead>\n",
       "    <tr style=\"text-align: right;\">\n",
       "      <th></th>\n",
       "      <th>c1</th>\n",
       "      <th>c2</th>\n",
       "      <th>c3</th>\n",
       "    </tr>\n",
       "  </thead>\n",
       "  <tbody>\n",
       "    <tr>\n",
       "      <td>0</td>\n",
       "      <td>0.000000</td>\n",
       "      <td>-0.167028</td>\n",
       "      <td>-0.160568</td>\n",
       "    </tr>\n",
       "    <tr>\n",
       "      <td>1</td>\n",
       "      <td>0.000000</td>\n",
       "      <td>0.181201</td>\n",
       "      <td>0.000000</td>\n",
       "    </tr>\n",
       "    <tr>\n",
       "      <td>2</td>\n",
       "      <td>1.628185</td>\n",
       "      <td>0.000000</td>\n",
       "      <td>-0.521265</td>\n",
       "    </tr>\n",
       "    <tr>\n",
       "      <td>3</td>\n",
       "      <td>-0.910087</td>\n",
       "      <td>0.000000</td>\n",
       "      <td>-0.229769</td>\n",
       "    </tr>\n",
       "    <tr>\n",
       "      <td>4</td>\n",
       "      <td>-0.223497</td>\n",
       "      <td>-0.253275</td>\n",
       "      <td>0.000000</td>\n",
       "    </tr>\n",
       "  </tbody>\n",
       "</table>\n",
       "</div>"
      ],
      "text/plain": [
       "         c1        c2        c3\n",
       "0  0.000000 -0.167028 -0.160568\n",
       "1  0.000000  0.181201  0.000000\n",
       "2  1.628185  0.000000 -0.521265\n",
       "3 -0.910087  0.000000 -0.229769\n",
       "4 -0.223497 -0.253275  0.000000"
      ]
     },
     "execution_count": 5,
     "metadata": {},
     "output_type": "execute_result"
    }
   ],
   "source": [
    "# fillna()\n",
    "# null에 0넣기\n",
    "df.fillna(0)"
   ]
  },
  {
   "cell_type": "code",
   "execution_count": 6,
   "metadata": {},
   "outputs": [
    {
     "data": {
      "text/html": [
       "<div>\n",
       "<style scoped>\n",
       "    .dataframe tbody tr th:only-of-type {\n",
       "        vertical-align: middle;\n",
       "    }\n",
       "\n",
       "    .dataframe tbody tr th {\n",
       "        vertical-align: top;\n",
       "    }\n",
       "\n",
       "    .dataframe thead th {\n",
       "        text-align: right;\n",
       "    }\n",
       "</style>\n",
       "<table border=\"1\" class=\"dataframe\">\n",
       "  <thead>\n",
       "    <tr style=\"text-align: right;\">\n",
       "      <th></th>\n",
       "      <th>c1</th>\n",
       "      <th>c2</th>\n",
       "      <th>c3</th>\n",
       "    </tr>\n",
       "  </thead>\n",
       "  <tbody>\n",
       "    <tr>\n",
       "      <td>0</td>\n",
       "      <td>NaN</td>\n",
       "      <td>-0.167028</td>\n",
       "      <td>-0.160568</td>\n",
       "    </tr>\n",
       "    <tr>\n",
       "      <td>1</td>\n",
       "      <td>NaN</td>\n",
       "      <td>0.181201</td>\n",
       "      <td>-0.160568</td>\n",
       "    </tr>\n",
       "    <tr>\n",
       "      <td>2</td>\n",
       "      <td>1.628185</td>\n",
       "      <td>0.181201</td>\n",
       "      <td>-0.521265</td>\n",
       "    </tr>\n",
       "    <tr>\n",
       "      <td>3</td>\n",
       "      <td>-0.910087</td>\n",
       "      <td>0.181201</td>\n",
       "      <td>-0.229769</td>\n",
       "    </tr>\n",
       "    <tr>\n",
       "      <td>4</td>\n",
       "      <td>-0.223497</td>\n",
       "      <td>-0.253275</td>\n",
       "      <td>-0.229769</td>\n",
       "    </tr>\n",
       "  </tbody>\n",
       "</table>\n",
       "</div>"
      ],
      "text/plain": [
       "         c1        c2        c3\n",
       "0       NaN -0.167028 -0.160568\n",
       "1       NaN  0.181201 -0.160568\n",
       "2  1.628185  0.181201 -0.521265\n",
       "3 -0.910087  0.181201 -0.229769\n",
       "4 -0.223497 -0.253275 -0.229769"
      ]
     },
     "execution_count": 6,
     "metadata": {},
     "output_type": "execute_result"
    }
   ],
   "source": [
    "# ffill : 위에 값 가져오기\n",
    "df.fillna(method ='ffill')"
   ]
  },
  {
   "cell_type": "code",
   "execution_count": 7,
   "metadata": {},
   "outputs": [
    {
     "data": {
      "text/html": [
       "<div>\n",
       "<style scoped>\n",
       "    .dataframe tbody tr th:only-of-type {\n",
       "        vertical-align: middle;\n",
       "    }\n",
       "\n",
       "    .dataframe tbody tr th {\n",
       "        vertical-align: top;\n",
       "    }\n",
       "\n",
       "    .dataframe thead th {\n",
       "        text-align: right;\n",
       "    }\n",
       "</style>\n",
       "<table border=\"1\" class=\"dataframe\">\n",
       "  <thead>\n",
       "    <tr style=\"text-align: right;\">\n",
       "      <th></th>\n",
       "      <th>c1</th>\n",
       "      <th>c2</th>\n",
       "      <th>c3</th>\n",
       "    </tr>\n",
       "  </thead>\n",
       "  <tbody>\n",
       "    <tr>\n",
       "      <td>0</td>\n",
       "      <td>1.628185</td>\n",
       "      <td>-0.167028</td>\n",
       "      <td>-0.160568</td>\n",
       "    </tr>\n",
       "    <tr>\n",
       "      <td>1</td>\n",
       "      <td>1.628185</td>\n",
       "      <td>0.181201</td>\n",
       "      <td>-0.521265</td>\n",
       "    </tr>\n",
       "    <tr>\n",
       "      <td>2</td>\n",
       "      <td>1.628185</td>\n",
       "      <td>-0.253275</td>\n",
       "      <td>-0.521265</td>\n",
       "    </tr>\n",
       "    <tr>\n",
       "      <td>3</td>\n",
       "      <td>-0.910087</td>\n",
       "      <td>-0.253275</td>\n",
       "      <td>-0.229769</td>\n",
       "    </tr>\n",
       "    <tr>\n",
       "      <td>4</td>\n",
       "      <td>-0.223497</td>\n",
       "      <td>-0.253275</td>\n",
       "      <td>NaN</td>\n",
       "    </tr>\n",
       "  </tbody>\n",
       "</table>\n",
       "</div>"
      ],
      "text/plain": [
       "         c1        c2        c3\n",
       "0  1.628185 -0.167028 -0.160568\n",
       "1  1.628185  0.181201 -0.521265\n",
       "2  1.628185 -0.253275 -0.521265\n",
       "3 -0.910087 -0.253275 -0.229769\n",
       "4 -0.223497 -0.253275       NaN"
      ]
     },
     "execution_count": 7,
     "metadata": {},
     "output_type": "execute_result"
    }
   ],
   "source": [
    "# bfill : 아래 값 가져오기\n",
    "df.fillna(method='bfill')"
   ]
  },
  {
   "cell_type": "code",
   "execution_count": 8,
   "metadata": {},
   "outputs": [
    {
     "data": {
      "text/html": [
       "<div>\n",
       "<style scoped>\n",
       "    .dataframe tbody tr th:only-of-type {\n",
       "        vertical-align: middle;\n",
       "    }\n",
       "\n",
       "    .dataframe tbody tr th {\n",
       "        vertical-align: top;\n",
       "    }\n",
       "\n",
       "    .dataframe thead th {\n",
       "        text-align: right;\n",
       "    }\n",
       "</style>\n",
       "<table border=\"1\" class=\"dataframe\">\n",
       "  <thead>\n",
       "    <tr style=\"text-align: right;\">\n",
       "      <th></th>\n",
       "      <th>c1</th>\n",
       "      <th>c2</th>\n",
       "      <th>c3</th>\n",
       "    </tr>\n",
       "  </thead>\n",
       "  <tbody>\n",
       "    <tr>\n",
       "      <td>0</td>\n",
       "      <td>0.164867</td>\n",
       "      <td>-0.167028</td>\n",
       "      <td>-0.160568</td>\n",
       "    </tr>\n",
       "    <tr>\n",
       "      <td>1</td>\n",
       "      <td>0.164867</td>\n",
       "      <td>0.181201</td>\n",
       "      <td>-0.303867</td>\n",
       "    </tr>\n",
       "    <tr>\n",
       "      <td>2</td>\n",
       "      <td>1.628185</td>\n",
       "      <td>-0.079701</td>\n",
       "      <td>-0.521265</td>\n",
       "    </tr>\n",
       "    <tr>\n",
       "      <td>3</td>\n",
       "      <td>-0.910087</td>\n",
       "      <td>-0.079701</td>\n",
       "      <td>-0.229769</td>\n",
       "    </tr>\n",
       "    <tr>\n",
       "      <td>4</td>\n",
       "      <td>-0.223497</td>\n",
       "      <td>-0.253275</td>\n",
       "      <td>-0.303867</td>\n",
       "    </tr>\n",
       "  </tbody>\n",
       "</table>\n",
       "</div>"
      ],
      "text/plain": [
       "         c1        c2        c3\n",
       "0  0.164867 -0.167028 -0.160568\n",
       "1  0.164867  0.181201 -0.303867\n",
       "2  1.628185 -0.079701 -0.521265\n",
       "3 -0.910087 -0.079701 -0.229769\n",
       "4 -0.223497 -0.253275 -0.303867"
      ]
     },
     "execution_count": 8,
     "metadata": {},
     "output_type": "execute_result"
    }
   ],
   "source": [
    "# 평균으로 대체\n",
    "df.fillna(df.mean()) # 전체 평균이 NaN값에 들어간다"
   ]
  },
  {
   "cell_type": "code",
   "execution_count": 30,
   "metadata": {},
   "outputs": [
    {
     "name": "stdout",
     "output_type": "stream",
     "text": [
      "         c1        c2        c3\n",
      "0       NaN -0.167028 -0.160568\n",
      "1       NaN  0.181201       NaN\n",
      "2  1.628185       NaN -0.521265\n",
      "3 -0.910087       NaN -0.229769\n",
      "4 -0.223497 -0.253275       NaN\n"
     ]
    },
    {
     "data": {
      "text/html": [
       "<div>\n",
       "<style scoped>\n",
       "    .dataframe tbody tr th:only-of-type {\n",
       "        vertical-align: middle;\n",
       "    }\n",
       "\n",
       "    .dataframe tbody tr th {\n",
       "        vertical-align: top;\n",
       "    }\n",
       "\n",
       "    .dataframe thead th {\n",
       "        text-align: right;\n",
       "    }\n",
       "</style>\n",
       "<table border=\"1\" class=\"dataframe\">\n",
       "  <thead>\n",
       "    <tr style=\"text-align: right;\">\n",
       "      <th></th>\n",
       "      <th>c1</th>\n",
       "      <th>c2</th>\n",
       "      <th>c3</th>\n",
       "    </tr>\n",
       "  </thead>\n",
       "  <tbody>\n",
       "    <tr>\n",
       "      <td>0</td>\n",
       "      <td>0.164867</td>\n",
       "      <td>-0.167028</td>\n",
       "      <td>-0.160568</td>\n",
       "    </tr>\n",
       "    <tr>\n",
       "      <td>1</td>\n",
       "      <td>0.164867</td>\n",
       "      <td>0.181201</td>\n",
       "      <td>NaN</td>\n",
       "    </tr>\n",
       "    <tr>\n",
       "      <td>2</td>\n",
       "      <td>1.628185</td>\n",
       "      <td>-0.079701</td>\n",
       "      <td>-0.521265</td>\n",
       "    </tr>\n",
       "    <tr>\n",
       "      <td>3</td>\n",
       "      <td>-0.910087</td>\n",
       "      <td>-0.079701</td>\n",
       "      <td>-0.229769</td>\n",
       "    </tr>\n",
       "    <tr>\n",
       "      <td>4</td>\n",
       "      <td>-0.223497</td>\n",
       "      <td>-0.253275</td>\n",
       "      <td>NaN</td>\n",
       "    </tr>\n",
       "  </tbody>\n",
       "</table>\n",
       "</div>"
      ],
      "text/plain": [
       "         c1        c2        c3\n",
       "0  0.164867 -0.167028 -0.160568\n",
       "1  0.164867  0.181201       NaN\n",
       "2  1.628185 -0.079701 -0.521265\n",
       "3 -0.910087 -0.079701 -0.229769\n",
       "4 -0.223497 -0.253275       NaN"
      ]
     },
     "execution_count": 30,
     "metadata": {},
     "output_type": "execute_result"
    }
   ],
   "source": [
    "print(df)\n",
    "df.fillna(df.mean()['c1':'c2']) # 각 열의 평균이 NaN값에 들어간다"
   ]
  },
  {
   "cell_type": "markdown",
   "metadata": {},
   "source": [
    "### replace"
   ]
  },
  {
   "cell_type": "code",
   "execution_count": 53,
   "metadata": {},
   "outputs": [
    {
     "data": {
      "text/plain": [
       "0    1.0\n",
       "1    2.0\n",
       "2    3.0\n",
       "3    4.0\n",
       "4    NaN\n",
       "dtype: float64"
      ]
     },
     "execution_count": 53,
     "metadata": {},
     "output_type": "execute_result"
    }
   ],
   "source": [
    "s = pd.Series([1,2,3,4,np.nan])\n",
    "s"
   ]
  },
  {
   "cell_type": "code",
   "execution_count": 54,
   "metadata": {},
   "outputs": [
    {
     "data": {
      "text/plain": [
       "0    1.0\n",
       "1    2.0\n",
       "2    9.0\n",
       "3    4.0\n",
       "4    NaN\n",
       "dtype: float64"
      ]
     },
     "execution_count": 54,
     "metadata": {},
     "output_type": "execute_result"
    }
   ],
   "source": [
    "s.replace(3,9) # s에 있는 모든 3을 9로 "
   ]
  },
  {
   "cell_type": "code",
   "execution_count": 55,
   "metadata": {},
   "outputs": [
    {
     "data": {
      "text/plain": [
       "0    1.0\n",
       "1    2.0\n",
       "2    3.0\n",
       "3    4.0\n",
       "4    5.0\n",
       "dtype: float64"
      ]
     },
     "execution_count": 55,
     "metadata": {},
     "output_type": "execute_result"
    }
   ],
   "source": [
    "s.replace(np.nan, 5) # s에 있는 모든 NaN을 5로 "
   ]
  },
  {
   "cell_type": "code",
   "execution_count": 56,
   "metadata": {},
   "outputs": [
    {
     "data": {
      "text/plain": [
       "0    6.0\n",
       "1    7.0\n",
       "2    8.0\n",
       "3    4.0\n",
       "4    NaN\n",
       "dtype: float64"
      ]
     },
     "execution_count": 56,
     "metadata": {},
     "output_type": "execute_result"
    }
   ],
   "source": [
    "s.replace([1,2,3],[6,7,8]) # 1,2,3을 6,7,8로"
   ]
  },
  {
   "cell_type": "code",
   "execution_count": 57,
   "metadata": {},
   "outputs": [
    {
     "data": {
      "text/plain": [
       "0    10.0\n",
       "1    20.0\n",
       "2    30.0\n",
       "3     4.0\n",
       "4    99.0\n",
       "dtype: float64"
      ]
     },
     "execution_count": 57,
     "metadata": {},
     "output_type": "execute_result"
    }
   ],
   "source": [
    "s.replace([1,2,3,np.nan],[10,20,30,99]) # 1,2,3,NaN를 10,20,30,99로"
   ]
  },
  {
   "cell_type": "code",
   "execution_count": 58,
   "metadata": {},
   "outputs": [
    {
     "data": {
      "text/plain": [
       "0     5.0\n",
       "1     2.0\n",
       "2    30.0\n",
       "3     4.0\n",
       "4    99.0\n",
       "dtype: float64"
      ]
     },
     "execution_count": 58,
     "metadata": {},
     "output_type": "execute_result"
    }
   ],
   "source": [
    "s.replace({1:5,3:30, np.nan:99}) # 1은 5로, 3은 30으로, NaN은 99로"
   ]
  },
  {
   "cell_type": "code",
   "execution_count": 59,
   "metadata": {},
   "outputs": [
    {
     "data": {
      "text/html": [
       "<div>\n",
       "<style scoped>\n",
       "    .dataframe tbody tr th:only-of-type {\n",
       "        vertical-align: middle;\n",
       "    }\n",
       "\n",
       "    .dataframe tbody tr th {\n",
       "        vertical-align: top;\n",
       "    }\n",
       "\n",
       "    .dataframe thead th {\n",
       "        text-align: right;\n",
       "    }\n",
       "</style>\n",
       "<table border=\"1\" class=\"dataframe\">\n",
       "  <thead>\n",
       "    <tr style=\"text-align: right;\">\n",
       "      <th></th>\n",
       "      <th>c1</th>\n",
       "      <th>c2</th>\n",
       "      <th>c3</th>\n",
       "    </tr>\n",
       "  </thead>\n",
       "  <tbody>\n",
       "    <tr>\n",
       "      <td>0</td>\n",
       "      <td>bbb</td>\n",
       "      <td>1</td>\n",
       "      <td>5.0</td>\n",
       "    </tr>\n",
       "    <tr>\n",
       "      <td>1</td>\n",
       "      <td>b</td>\n",
       "      <td>2</td>\n",
       "      <td>6.0</td>\n",
       "    </tr>\n",
       "    <tr>\n",
       "      <td>2</td>\n",
       "      <td>c</td>\n",
       "      <td>3</td>\n",
       "      <td>7.0</td>\n",
       "    </tr>\n",
       "    <tr>\n",
       "      <td>3</td>\n",
       "      <td>d</td>\n",
       "      <td>4</td>\n",
       "      <td>NaN</td>\n",
       "    </tr>\n",
       "  </tbody>\n",
       "</table>\n",
       "</div>"
      ],
      "text/plain": [
       "    c1  c2   c3\n",
       "0  bbb   1  5.0\n",
       "1    b   2  6.0\n",
       "2    c   3  7.0\n",
       "3    d   4  NaN"
      ]
     },
     "execution_count": 59,
     "metadata": {},
     "output_type": "execute_result"
    }
   ],
   "source": [
    "# 데이터 프레임에서 replace\n",
    "df = pd.DataFrame({'c1':['aaa','b','c','d'],\n",
    "                  'c2' : [1,2,3,4],\n",
    "                  'c3':[5,6,7,np.nan]})\n",
    "\n",
    "df.replace({'c1':'aaa'},{'c1':'bbb'}) # c1에 있는 모든 aaa가 bbb로\n",
    "df.replace()"
   ]
  },
  {
   "cell_type": "code",
   "execution_count": 60,
   "metadata": {
    "scrolled": true
   },
   "outputs": [
    {
     "data": {
      "text/html": [
       "<div>\n",
       "<style scoped>\n",
       "    .dataframe tbody tr th:only-of-type {\n",
       "        vertical-align: middle;\n",
       "    }\n",
       "\n",
       "    .dataframe tbody tr th {\n",
       "        vertical-align: top;\n",
       "    }\n",
       "\n",
       "    .dataframe thead th {\n",
       "        text-align: right;\n",
       "    }\n",
       "</style>\n",
       "<table border=\"1\" class=\"dataframe\">\n",
       "  <thead>\n",
       "    <tr style=\"text-align: right;\">\n",
       "      <th></th>\n",
       "      <th>c1</th>\n",
       "      <th>c2</th>\n",
       "      <th>c3</th>\n",
       "    </tr>\n",
       "  </thead>\n",
       "  <tbody>\n",
       "    <tr>\n",
       "      <td>0</td>\n",
       "      <td>aaa</td>\n",
       "      <td>1</td>\n",
       "      <td>5.0</td>\n",
       "    </tr>\n",
       "    <tr>\n",
       "      <td>1</td>\n",
       "      <td>b</td>\n",
       "      <td>2</td>\n",
       "      <td>6.0</td>\n",
       "    </tr>\n",
       "    <tr>\n",
       "      <td>2</td>\n",
       "      <td>c</td>\n",
       "      <td>3</td>\n",
       "      <td>7.0</td>\n",
       "    </tr>\n",
       "    <tr>\n",
       "      <td>3</td>\n",
       "      <td>d</td>\n",
       "      <td>4</td>\n",
       "      <td>99.0</td>\n",
       "    </tr>\n",
       "  </tbody>\n",
       "</table>\n",
       "</div>"
      ],
      "text/plain": [
       "    c1  c2    c3\n",
       "0  aaa   1   5.0\n",
       "1    b   2   6.0\n",
       "2    c   3   7.0\n",
       "3    d   4  99.0"
      ]
     },
     "execution_count": 60,
     "metadata": {},
     "output_type": "execute_result"
    }
   ],
   "source": [
    "df.replace({'c3':np.nan},{'c3':99}) # c3에 있는 모든 NaN가 99로"
   ]
  },
  {
   "cell_type": "markdown",
   "metadata": {},
   "source": [
    "### where()\n",
    "- pandas\n",
    "    - pd.where(조건,참이 아닐때 들어갈 값)\n",
    "- numpy\n",
    "    - np.where(조건, 참일때 들어갈 값, 아닐때 들어갈 값)"
   ]
  },
  {
   "cell_type": "code",
   "execution_count": 120,
   "metadata": {},
   "outputs": [
    {
     "data": {
      "text/html": [
       "<div>\n",
       "<style scoped>\n",
       "    .dataframe tbody tr th:only-of-type {\n",
       "        vertical-align: middle;\n",
       "    }\n",
       "\n",
       "    .dataframe tbody tr th {\n",
       "        vertical-align: top;\n",
       "    }\n",
       "\n",
       "    .dataframe thead th {\n",
       "        text-align: right;\n",
       "    }\n",
       "</style>\n",
       "<table border=\"1\" class=\"dataframe\">\n",
       "  <thead>\n",
       "    <tr style=\"text-align: right;\">\n",
       "      <th></th>\n",
       "      <th>c1</th>\n",
       "      <th>c2</th>\n",
       "      <th>c3</th>\n",
       "    </tr>\n",
       "  </thead>\n",
       "  <tbody>\n",
       "    <tr>\n",
       "      <td>0</td>\n",
       "      <td>NaN</td>\n",
       "      <td>-0.160959</td>\n",
       "      <td>-0.681619</td>\n",
       "    </tr>\n",
       "    <tr>\n",
       "      <td>1</td>\n",
       "      <td>NaN</td>\n",
       "      <td>-0.429161</td>\n",
       "      <td>NaN</td>\n",
       "    </tr>\n",
       "    <tr>\n",
       "      <td>2</td>\n",
       "      <td>0.015008</td>\n",
       "      <td>NaN</td>\n",
       "      <td>0.329720</td>\n",
       "    </tr>\n",
       "    <tr>\n",
       "      <td>3</td>\n",
       "      <td>-0.628596</td>\n",
       "      <td>NaN</td>\n",
       "      <td>0.134152</td>\n",
       "    </tr>\n",
       "    <tr>\n",
       "      <td>4</td>\n",
       "      <td>-0.361279</td>\n",
       "      <td>-1.158286</td>\n",
       "      <td>NaN</td>\n",
       "    </tr>\n",
       "  </tbody>\n",
       "</table>\n",
       "</div>"
      ],
      "text/plain": [
       "         c1        c2        c3\n",
       "0       NaN -0.160959 -0.681619\n",
       "1       NaN -0.429161       NaN\n",
       "2  0.015008       NaN  0.329720\n",
       "3 -0.628596       NaN  0.134152\n",
       "4 -0.361279 -1.158286       NaN"
      ]
     },
     "execution_count": 120,
     "metadata": {},
     "output_type": "execute_result"
    }
   ],
   "source": [
    "df = pd.DataFrame(np.random.randn(5,3),\n",
    "                 columns=['c1','c2','c3'])\n",
    "df.iloc[0,0] = None\n",
    "df.ix[1,['c1','c3']] = np.nan\n",
    "df.ix[2,['c2']] = np.nan\n",
    "df.ix[3,['c2']] = np.nan\n",
    "df.ix[4,['c3']] = np.nan\n",
    "df"
   ]
  },
  {
   "cell_type": "code",
   "execution_count": 122,
   "metadata": {},
   "outputs": [
    {
     "data": {
      "text/html": [
       "<div>\n",
       "<style scoped>\n",
       "    .dataframe tbody tr th:only-of-type {\n",
       "        vertical-align: middle;\n",
       "    }\n",
       "\n",
       "    .dataframe tbody tr th {\n",
       "        vertical-align: top;\n",
       "    }\n",
       "\n",
       "    .dataframe thead th {\n",
       "        text-align: right;\n",
       "    }\n",
       "</style>\n",
       "<table border=\"1\" class=\"dataframe\">\n",
       "  <thead>\n",
       "    <tr style=\"text-align: right;\">\n",
       "      <th></th>\n",
       "      <th>c1</th>\n",
       "      <th>c2</th>\n",
       "      <th>c3</th>\n",
       "    </tr>\n",
       "  </thead>\n",
       "  <tbody>\n",
       "    <tr>\n",
       "      <td>0</td>\n",
       "      <td>-0.324956</td>\n",
       "      <td>-0.160959</td>\n",
       "      <td>-0.681619</td>\n",
       "    </tr>\n",
       "    <tr>\n",
       "      <td>1</td>\n",
       "      <td>-0.324956</td>\n",
       "      <td>-0.429161</td>\n",
       "      <td>-0.072582</td>\n",
       "    </tr>\n",
       "    <tr>\n",
       "      <td>2</td>\n",
       "      <td>0.015008</td>\n",
       "      <td>-0.582802</td>\n",
       "      <td>0.329720</td>\n",
       "    </tr>\n",
       "    <tr>\n",
       "      <td>3</td>\n",
       "      <td>-0.628596</td>\n",
       "      <td>-0.582802</td>\n",
       "      <td>0.134152</td>\n",
       "    </tr>\n",
       "    <tr>\n",
       "      <td>4</td>\n",
       "      <td>-0.361279</td>\n",
       "      <td>-1.158286</td>\n",
       "      <td>-0.072582</td>\n",
       "    </tr>\n",
       "  </tbody>\n",
       "</table>\n",
       "</div>"
      ],
      "text/plain": [
       "         c1        c2        c3\n",
       "0 -0.324956 -0.160959 -0.681619\n",
       "1 -0.324956 -0.429161 -0.072582\n",
       "2  0.015008 -0.582802  0.329720\n",
       "3 -0.628596 -0.582802  0.134152\n",
       "4 -0.361279 -1.158286 -0.072582"
      ]
     },
     "execution_count": 122,
     "metadata": {},
     "output_type": "execute_result"
    }
   ],
   "source": [
    "df.where(pd.notnull(df),df.mean(),axis = 'columns') # 각 열의 평균값이 NaN에 들어간다"
   ]
  },
  {
   "cell_type": "code",
   "execution_count": 16,
   "metadata": {},
   "outputs": [
    {
     "data": {
      "text/html": [
       "<div>\n",
       "<style scoped>\n",
       "    .dataframe tbody tr th:only-of-type {\n",
       "        vertical-align: middle;\n",
       "    }\n",
       "\n",
       "    .dataframe tbody tr th {\n",
       "        vertical-align: top;\n",
       "    }\n",
       "\n",
       "    .dataframe thead th {\n",
       "        text-align: right;\n",
       "    }\n",
       "</style>\n",
       "<table border=\"1\" class=\"dataframe\">\n",
       "  <thead>\n",
       "    <tr style=\"text-align: right;\">\n",
       "      <th></th>\n",
       "      <th>c1</th>\n",
       "      <th>c2</th>\n",
       "      <th>c3</th>\n",
       "    </tr>\n",
       "  </thead>\n",
       "  <tbody>\n",
       "    <tr>\n",
       "      <td>0</td>\n",
       "      <td>-0.163798</td>\n",
       "      <td>-0.167028</td>\n",
       "      <td>-0.160568</td>\n",
       "    </tr>\n",
       "    <tr>\n",
       "      <td>1</td>\n",
       "      <td>0.181201</td>\n",
       "      <td>0.181201</td>\n",
       "      <td>0.181201</td>\n",
       "    </tr>\n",
       "    <tr>\n",
       "      <td>2</td>\n",
       "      <td>1.628185</td>\n",
       "      <td>0.553460</td>\n",
       "      <td>-0.521265</td>\n",
       "    </tr>\n",
       "    <tr>\n",
       "      <td>3</td>\n",
       "      <td>-0.910087</td>\n",
       "      <td>-0.569928</td>\n",
       "      <td>-0.229769</td>\n",
       "    </tr>\n",
       "    <tr>\n",
       "      <td>4</td>\n",
       "      <td>-0.223497</td>\n",
       "      <td>-0.253275</td>\n",
       "      <td>-0.238386</td>\n",
       "    </tr>\n",
       "  </tbody>\n",
       "</table>\n",
       "</div>"
      ],
      "text/plain": [
       "         c1        c2        c3\n",
       "0 -0.163798 -0.167028 -0.160568\n",
       "1  0.181201  0.181201  0.181201\n",
       "2  1.628185  0.553460 -0.521265\n",
       "3 -0.910087 -0.569928 -0.229769\n",
       "4 -0.223497 -0.253275 -0.238386"
      ]
     },
     "execution_count": 16,
     "metadata": {},
     "output_type": "execute_result"
    }
   ],
   "source": [
    "df.where(pd.notnull(df),df.mean(axis=1),axis = 'index') # 각 행의 평균값이 NaN에 들어간다"
   ]
  },
  {
   "cell_type": "markdown",
   "metadata": {},
   "source": [
    "```\n",
    "np.argmax() : 최대값의 index\n",
    "np.argmin() : 최소값의 index\n",
    "```"
   ]
  },
  {
   "cell_type": "code",
   "execution_count": 21,
   "metadata": {},
   "outputs": [
    {
     "name": "stdout",
     "output_type": "stream",
     "text": [
      "0.1\n",
      "6\n"
     ]
    }
   ],
   "source": [
    "arr = np.array([1,2,3,10,20,30,0.1,0.2])\n",
    "print(np.min(arr)) # min(arr)\n",
    "print(np.argmin(arr)) # 최소값의 index"
   ]
  },
  {
   "cell_type": "code",
   "execution_count": 22,
   "metadata": {},
   "outputs": [
    {
     "name": "stdout",
     "output_type": "stream",
     "text": [
      "30.0\n",
      "5\n"
     ]
    }
   ],
   "source": [
    "print(np.max(arr))\n",
    "print(np.argmax(arr)) # 최대값의 index"
   ]
  },
  {
   "cell_type": "code",
   "execution_count": 29,
   "metadata": {},
   "outputs": [
    {
     "name": "stdout",
     "output_type": "stream",
     "text": [
      "[False False False False False False  True  True]\n"
     ]
    },
    {
     "data": {
      "text/plain": [
       "(array([6, 7], dtype=int64),)"
      ]
     },
     "execution_count": 29,
     "metadata": {},
     "output_type": "execute_result"
    }
   ],
   "source": [
    "print(arr<1)\n",
    "np.where(arr<1) # where 함수는 조건문 사용 -> 출력값 : 인덱스"
   ]
  },
  {
   "cell_type": "code",
   "execution_count": 27,
   "metadata": {},
   "outputs": [
    {
     "data": {
      "text/plain": [
       "array([1. , 2. , 3. , 0. , 0. , 0. , 0.1, 0.2])"
      ]
     },
     "execution_count": 27,
     "metadata": {},
     "output_type": "execute_result"
    }
   ],
   "source": [
    "np.where(arr>=10,0,arr) # 조건을 만족하는 것은 0 아닌것은 arr(그대로)"
   ]
  },
  {
   "cell_type": "code",
   "execution_count": 28,
   "metadata": {},
   "outputs": [
    {
     "data": {
      "text/plain": [
       "array([1. , 2. , 3. , 1. , 2. , 3. , 0.1, 0.2])"
      ]
     },
     "execution_count": 28,
     "metadata": {},
     "output_type": "execute_result"
    }
   ],
   "source": [
    "np.where(arr>=10 ,0.1*arr,arr)"
   ]
  },
  {
   "cell_type": "code",
   "execution_count": 34,
   "metadata": {},
   "outputs": [
    {
     "data": {
      "text/html": [
       "<div>\n",
       "<style scoped>\n",
       "    .dataframe tbody tr th:only-of-type {\n",
       "        vertical-align: middle;\n",
       "    }\n",
       "\n",
       "    .dataframe tbody tr th {\n",
       "        vertical-align: top;\n",
       "    }\n",
       "\n",
       "    .dataframe thead th {\n",
       "        text-align: right;\n",
       "    }\n",
       "</style>\n",
       "<table border=\"1\" class=\"dataframe\">\n",
       "  <thead>\n",
       "    <tr style=\"text-align: right;\">\n",
       "      <th></th>\n",
       "      <th>c1</th>\n",
       "      <th>c2</th>\n",
       "    </tr>\n",
       "  </thead>\n",
       "  <tbody>\n",
       "    <tr>\n",
       "      <td>0</td>\n",
       "      <td>1</td>\n",
       "      <td>6.0</td>\n",
       "    </tr>\n",
       "    <tr>\n",
       "      <td>1</td>\n",
       "      <td>2</td>\n",
       "      <td>NaN</td>\n",
       "    </tr>\n",
       "    <tr>\n",
       "      <td>2</td>\n",
       "      <td>3</td>\n",
       "      <td>8.0</td>\n",
       "    </tr>\n",
       "    <tr>\n",
       "      <td>3</td>\n",
       "      <td>4</td>\n",
       "      <td>NaN</td>\n",
       "    </tr>\n",
       "    <tr>\n",
       "      <td>4</td>\n",
       "      <td>5</td>\n",
       "      <td>10.0</td>\n",
       "    </tr>\n",
       "  </tbody>\n",
       "</table>\n",
       "</div>"
      ],
      "text/plain": [
       "   c1    c2\n",
       "0   1   6.0\n",
       "1   2   NaN\n",
       "2   3   8.0\n",
       "3   4   NaN\n",
       "4   5  10.0"
      ]
     },
     "execution_count": 34,
     "metadata": {},
     "output_type": "execute_result"
    }
   ],
   "source": [
    "df2 = pd.DataFrame({'c1':[1,2,3,4,5],\n",
    "                   'c2':[6,7,8,9,10]})\n",
    "df2.ix[[1,3],'c2'] = np.nan\n",
    "df2"
   ]
  },
  {
   "cell_type": "code",
   "execution_count": 35,
   "metadata": {},
   "outputs": [
    {
     "data": {
      "text/html": [
       "<div>\n",
       "<style scoped>\n",
       "    .dataframe tbody tr th:only-of-type {\n",
       "        vertical-align: middle;\n",
       "    }\n",
       "\n",
       "    .dataframe tbody tr th {\n",
       "        vertical-align: top;\n",
       "    }\n",
       "\n",
       "    .dataframe thead th {\n",
       "        text-align: right;\n",
       "    }\n",
       "</style>\n",
       "<table border=\"1\" class=\"dataframe\">\n",
       "  <thead>\n",
       "    <tr style=\"text-align: right;\">\n",
       "      <th></th>\n",
       "      <th>c1</th>\n",
       "      <th>c2</th>\n",
       "      <th>c2p</th>\n",
       "    </tr>\n",
       "  </thead>\n",
       "  <tbody>\n",
       "    <tr>\n",
       "      <td>0</td>\n",
       "      <td>1</td>\n",
       "      <td>6.0</td>\n",
       "      <td>6.0</td>\n",
       "    </tr>\n",
       "    <tr>\n",
       "      <td>1</td>\n",
       "      <td>2</td>\n",
       "      <td>NaN</td>\n",
       "      <td>2.0</td>\n",
       "    </tr>\n",
       "    <tr>\n",
       "      <td>2</td>\n",
       "      <td>3</td>\n",
       "      <td>8.0</td>\n",
       "      <td>8.0</td>\n",
       "    </tr>\n",
       "    <tr>\n",
       "      <td>3</td>\n",
       "      <td>4</td>\n",
       "      <td>NaN</td>\n",
       "      <td>4.0</td>\n",
       "    </tr>\n",
       "    <tr>\n",
       "      <td>4</td>\n",
       "      <td>5</td>\n",
       "      <td>10.0</td>\n",
       "      <td>10.0</td>\n",
       "    </tr>\n",
       "  </tbody>\n",
       "</table>\n",
       "</div>"
      ],
      "text/plain": [
       "   c1    c2   c2p\n",
       "0   1   6.0   6.0\n",
       "1   2   NaN   2.0\n",
       "2   3   8.0   8.0\n",
       "3   4   NaN   4.0\n",
       "4   5  10.0  10.0"
      ]
     },
     "execution_count": 35,
     "metadata": {},
     "output_type": "execute_result"
    }
   ],
   "source": [
    "df2['c2p'] = np.where(pd.notnull(df2['c2'])==True,df2['c2'], df2['c1'])\n",
    "df2"
   ]
  },
  {
   "cell_type": "code",
   "execution_count": 38,
   "metadata": {},
   "outputs": [
    {
     "data": {
      "text/html": [
       "<div>\n",
       "<style scoped>\n",
       "    .dataframe tbody tr th:only-of-type {\n",
       "        vertical-align: middle;\n",
       "    }\n",
       "\n",
       "    .dataframe tbody tr th {\n",
       "        vertical-align: top;\n",
       "    }\n",
       "\n",
       "    .dataframe thead th {\n",
       "        text-align: right;\n",
       "    }\n",
       "</style>\n",
       "<table border=\"1\" class=\"dataframe\">\n",
       "  <thead>\n",
       "    <tr style=\"text-align: right;\">\n",
       "      <th></th>\n",
       "      <th>c1</th>\n",
       "      <th>c2</th>\n",
       "      <th>c2p</th>\n",
       "      <th>cp2</th>\n",
       "    </tr>\n",
       "  </thead>\n",
       "  <tbody>\n",
       "    <tr>\n",
       "      <td>0</td>\n",
       "      <td>1</td>\n",
       "      <td>6.0</td>\n",
       "      <td>6.0</td>\n",
       "      <td>6.0</td>\n",
       "    </tr>\n",
       "    <tr>\n",
       "      <td>1</td>\n",
       "      <td>2</td>\n",
       "      <td>NaN</td>\n",
       "      <td>2.0</td>\n",
       "      <td>2.0</td>\n",
       "    </tr>\n",
       "    <tr>\n",
       "      <td>2</td>\n",
       "      <td>3</td>\n",
       "      <td>8.0</td>\n",
       "      <td>8.0</td>\n",
       "      <td>8.0</td>\n",
       "    </tr>\n",
       "    <tr>\n",
       "      <td>3</td>\n",
       "      <td>4</td>\n",
       "      <td>NaN</td>\n",
       "      <td>4.0</td>\n",
       "      <td>4.0</td>\n",
       "    </tr>\n",
       "    <tr>\n",
       "      <td>4</td>\n",
       "      <td>5</td>\n",
       "      <td>10.0</td>\n",
       "      <td>10.0</td>\n",
       "      <td>10.0</td>\n",
       "    </tr>\n",
       "  </tbody>\n",
       "</table>\n",
       "</div>"
      ],
      "text/plain": [
       "   c1    c2   c2p   cp2\n",
       "0   1   6.0   6.0   6.0\n",
       "1   2   NaN   2.0   2.0\n",
       "2   3   8.0   8.0   8.0\n",
       "3   4   NaN   4.0   4.0\n",
       "4   5  10.0  10.0  10.0"
      ]
     },
     "execution_count": 38,
     "metadata": {},
     "output_type": "execute_result"
    }
   ],
   "source": [
    "# where대신 for문으로\n",
    "for i in df2.index:\n",
    "    if pd.notnull(df2.ix[i,'c2']) == True:\n",
    "        df2.ix[i,'cp2'] = df2.ix[i,'c2']\n",
    "    else:\n",
    "        df2.ix[i,'cp2'] = df2.ix[i,'c1']\n",
    "df2"
   ]
  },
  {
   "cell_type": "markdown",
   "metadata": {},
   "source": [
    "### drop"
   ]
  },
  {
   "cell_type": "code",
   "execution_count": 123,
   "metadata": {},
   "outputs": [
    {
     "name": "stdout",
     "output_type": "stream",
     "text": [
      "   c1    c2\n",
      "0   1   6.0\n",
      "1   2   NaN\n",
      "2   3   8.0\n",
      "3   4   NaN\n",
      "4   5  10.0\n",
      "------------------------------\n",
      "   c1    c2\n",
      "0   1   6.0\n",
      "2   3   8.0\n",
      "4   5  10.0\n",
      "------------------------------\n",
      "   c1\n",
      "0   1\n",
      "1   2\n",
      "2   3\n",
      "3   4\n",
      "4   5\n",
      "------------------------------\n",
      "   c1    c2\n",
      "0   1   6.0\n",
      "2   3   8.0\n",
      "4   5  10.0\n"
     ]
    }
   ],
   "source": [
    "df3 = pd.DataFrame({'c1':[1,2,3,4,5],\n",
    "                   'c2':[6,7,8,9,10]})\n",
    "df3.ix[[1,3],'c2'] = np.nan\n",
    "\n",
    "print(df3)\n",
    "print('-'*30)\n",
    "print(df3.dropna(axis=0)) # 결측값이 있는 행 전체 제거\n",
    "print('-'*30)\n",
    "print(df3.dropna(axis=1)) # 결측값이 있는 열 전체 제거\n",
    "print('-'*30)\n",
    "print(df3.dropna()) # df.dropna() default는 axis = 0"
   ]
  },
  {
   "cell_type": "markdown",
   "metadata": {},
   "source": [
    "### interpolate : 결측값 보간\n",
    "1) 시계열 데이터에 대해 선형적으로 비례하는 값\n",
    "\n",
    "2)이미지 보관 : 그라데이션"
   ]
  },
  {
   "cell_type": "code",
   "execution_count": 45,
   "metadata": {},
   "outputs": [
    {
     "data": {
      "text/plain": [
       "DatetimeIndex(['2020-01-13', '2020-01-16', '2020-01-17', '2020-01-20'], dtype='datetime64[ns]', freq=None)"
      ]
     },
     "execution_count": 45,
     "metadata": {},
     "output_type": "execute_result"
    }
   ],
   "source": [
    "from datetime import datetime\n",
    "dateStr=['1/13/2020','1/16/2020','1/17/2020','1/20/2020']\n",
    "\n",
    "dates = pd.to_datetime(dateStr)\n",
    "dates"
   ]
  },
  {
   "cell_type": "code",
   "execution_count": 46,
   "metadata": {},
   "outputs": [
    {
     "data": {
      "text/plain": [
       "2020-01-13     1.0\n",
       "2020-01-16     NaN\n",
       "2020-01-17     NaN\n",
       "2020-01-20    10.0\n",
       "dtype: float64"
      ]
     },
     "execution_count": 46,
     "metadata": {},
     "output_type": "execute_result"
    }
   ],
   "source": [
    "ts = pd.Series([1,np.nan,np.nan,10], index = dates)\n",
    "ts"
   ]
  },
  {
   "cell_type": "code",
   "execution_count": 47,
   "metadata": {},
   "outputs": [
    {
     "data": {
      "text/plain": [
       "2020-01-13     1.0\n",
       "2020-01-16     4.0\n",
       "2020-01-17     7.0\n",
       "2020-01-20    10.0\n",
       "dtype: float64"
      ]
     },
     "execution_count": 47,
     "metadata": {},
     "output_type": "execute_result"
    }
   ],
   "source": [
    "tslr = ts.interpolate() # method = linear : default값\n",
    "tslr"
   ]
  },
  {
   "cell_type": "code",
   "execution_count": 49,
   "metadata": {},
   "outputs": [
    {
     "data": {
      "text/plain": [
       "2020-01-13     1.000000\n",
       "2020-01-16     4.857143\n",
       "2020-01-17     6.142857\n",
       "2020-01-20    10.000000\n",
       "dtype: float64"
      ]
     },
     "execution_count": 49,
     "metadata": {},
     "output_type": "execute_result"
    }
   ],
   "source": [
    "ts.interpolate(method = 'values') # method = value : 선형적으로 비례하게 결측값 보간"
   ]
  },
  {
   "cell_type": "code",
   "execution_count": 51,
   "metadata": {},
   "outputs": [
    {
     "data": {
      "text/plain": [
       "2020-01-13     1.000000\n",
       "2020-01-16     4.857143\n",
       "2020-01-17     6.142857\n",
       "2020-01-20    10.000000\n",
       "dtype: float64"
      ]
     },
     "execution_count": 51,
     "metadata": {},
     "output_type": "execute_result"
    }
   ],
   "source": [
    "ts.interpolate(method = 'time')"
   ]
  },
  {
   "cell_type": "code",
   "execution_count": 130,
   "metadata": {},
   "outputs": [
    {
     "data": {
      "text/plain": [
       "2020-01-13     1.000000\n",
       "2020-01-16     4.857143\n",
       "2020-01-17          NaN\n",
       "2020-01-20    10.000000\n",
       "dtype: float64"
      ]
     },
     "execution_count": 130,
     "metadata": {},
     "output_type": "execute_result"
    }
   ],
   "source": [
    "ts.interpolate(method = 'time',limit = 1) # limit 결측값 몇개 보간할것인지 제한 할 수 있음"
   ]
  },
  {
   "cell_type": "markdown",
   "metadata": {},
   "source": [
    "### duplicate\n",
    " - duplicated() : 병합 여부\n",
    " - drop_duplicates() : 한개만 남겨놓고 나머지는 제거"
   ]
  },
  {
   "cell_type": "code",
   "execution_count": 65,
   "metadata": {},
   "outputs": [
    {
     "data": {
      "text/html": [
       "<div>\n",
       "<style scoped>\n",
       "    .dataframe tbody tr th:only-of-type {\n",
       "        vertical-align: middle;\n",
       "    }\n",
       "\n",
       "    .dataframe tbody tr th {\n",
       "        vertical-align: top;\n",
       "    }\n",
       "\n",
       "    .dataframe thead th {\n",
       "        text-align: right;\n",
       "    }\n",
       "</style>\n",
       "<table border=\"1\" class=\"dataframe\">\n",
       "  <thead>\n",
       "    <tr style=\"text-align: right;\">\n",
       "      <th></th>\n",
       "      <th>k1</th>\n",
       "      <th>k2</th>\n",
       "      <th>col</th>\n",
       "    </tr>\n",
       "  </thead>\n",
       "  <tbody>\n",
       "    <tr>\n",
       "      <td>0</td>\n",
       "      <td>a</td>\n",
       "      <td>x</td>\n",
       "      <td>10</td>\n",
       "    </tr>\n",
       "    <tr>\n",
       "      <td>1</td>\n",
       "      <td>b</td>\n",
       "      <td>y</td>\n",
       "      <td>20</td>\n",
       "    </tr>\n",
       "    <tr>\n",
       "      <td>2</td>\n",
       "      <td>b</td>\n",
       "      <td>y</td>\n",
       "      <td>30</td>\n",
       "    </tr>\n",
       "    <tr>\n",
       "      <td>3</td>\n",
       "      <td>c</td>\n",
       "      <td>x</td>\n",
       "      <td>40</td>\n",
       "    </tr>\n",
       "    <tr>\n",
       "      <td>4</td>\n",
       "      <td>c</td>\n",
       "      <td>z</td>\n",
       "      <td>50</td>\n",
       "    </tr>\n",
       "  </tbody>\n",
       "</table>\n",
       "</div>"
      ],
      "text/plain": [
       "  k1 k2  col\n",
       "0  a  x   10\n",
       "1  b  y   20\n",
       "2  b  y   30\n",
       "3  c  x   40\n",
       "4  c  z   50"
      ]
     },
     "execution_count": 65,
     "metadata": {},
     "output_type": "execute_result"
    }
   ],
   "source": [
    "df = pd.DataFrame({'k1':['a','b','b','c','c'],\n",
    "                   'k2':['x','y','y','x','z'],\n",
    "                   'col':[10,20,30,40,50]})\n",
    "df"
   ]
  },
  {
   "cell_type": "code",
   "execution_count": 66,
   "metadata": {},
   "outputs": [
    {
     "data": {
      "text/plain": [
       "0    False\n",
       "1    False\n",
       "2     True\n",
       "3    False\n",
       "4     True\n",
       "Name: k1, dtype: bool"
      ]
     },
     "execution_count": 66,
     "metadata": {},
     "output_type": "execute_result"
    }
   ],
   "source": [
    "# k1의 중복여부\n",
    "df.k1.duplicated() # df.duplicated('k1'), df.duplicated('[k1'])"
   ]
  },
  {
   "cell_type": "code",
   "execution_count": 67,
   "metadata": {},
   "outputs": [
    {
     "data": {
      "text/plain": [
       "0    False\n",
       "1    False\n",
       "2     True\n",
       "3    False\n",
       "4    False\n",
       "dtype: bool"
      ]
     },
     "execution_count": 67,
     "metadata": {},
     "output_type": "execute_result"
    }
   ],
   "source": [
    "# k1, k2 둘 다 중복인 경우\n",
    "df.duplicated(['k1','k2'])"
   ]
  },
  {
   "cell_type": "code",
   "execution_count": 68,
   "metadata": {},
   "outputs": [
    {
     "data": {
      "text/plain": [
       "0    False\n",
       "1     True\n",
       "2     True\n",
       "3     True\n",
       "4     True\n",
       "dtype: bool"
      ]
     },
     "execution_count": 68,
     "metadata": {},
     "output_type": "execute_result"
    }
   ],
   "source": [
    "# keep\n",
    "df.duplicated('k1',keep='first') # 중복되는 값 중 첫번째 값 빼고 나머지는 중복으로 표시\n",
    "df.duplicated('k1',keep='last') # 중복되는 값 중 마지만 빼고 다 중복으로 표시\n",
    "df.duplicated('k1',keep=False) # 중복되는 것은 모두 표시"
   ]
  },
  {
   "cell_type": "code",
   "execution_count": 69,
   "metadata": {},
   "outputs": [
    {
     "data": {
      "text/html": [
       "<div>\n",
       "<style scoped>\n",
       "    .dataframe tbody tr th:only-of-type {\n",
       "        vertical-align: middle;\n",
       "    }\n",
       "\n",
       "    .dataframe tbody tr th {\n",
       "        vertical-align: top;\n",
       "    }\n",
       "\n",
       "    .dataframe thead th {\n",
       "        text-align: right;\n",
       "    }\n",
       "</style>\n",
       "<table border=\"1\" class=\"dataframe\">\n",
       "  <thead>\n",
       "    <tr style=\"text-align: right;\">\n",
       "      <th></th>\n",
       "      <th>k1</th>\n",
       "      <th>k2</th>\n",
       "      <th>col</th>\n",
       "    </tr>\n",
       "  </thead>\n",
       "  <tbody>\n",
       "    <tr>\n",
       "      <td>0</td>\n",
       "      <td>a</td>\n",
       "      <td>x</td>\n",
       "      <td>10</td>\n",
       "    </tr>\n",
       "    <tr>\n",
       "      <td>1</td>\n",
       "      <td>b</td>\n",
       "      <td>y</td>\n",
       "      <td>20</td>\n",
       "    </tr>\n",
       "    <tr>\n",
       "      <td>3</td>\n",
       "      <td>c</td>\n",
       "      <td>x</td>\n",
       "      <td>40</td>\n",
       "    </tr>\n",
       "  </tbody>\n",
       "</table>\n",
       "</div>"
      ],
      "text/plain": [
       "  k1 k2  col\n",
       "0  a  x   10\n",
       "1  b  y   20\n",
       "3  c  x   40"
      ]
     },
     "execution_count": 69,
     "metadata": {},
     "output_type": "execute_result"
    }
   ],
   "source": [
    "# 중복값 제거(한개만 살리고 나머지 중복은 제거)\n",
    "df.drop_duplicates('k1',keep='first') # 중복 중 첫번째로 나온 것 빼고 제거"
   ]
  },
  {
   "cell_type": "code",
   "execution_count": 70,
   "metadata": {},
   "outputs": [
    {
     "data": {
      "text/html": [
       "<div>\n",
       "<style scoped>\n",
       "    .dataframe tbody tr th:only-of-type {\n",
       "        vertical-align: middle;\n",
       "    }\n",
       "\n",
       "    .dataframe tbody tr th {\n",
       "        vertical-align: top;\n",
       "    }\n",
       "\n",
       "    .dataframe thead th {\n",
       "        text-align: right;\n",
       "    }\n",
       "</style>\n",
       "<table border=\"1\" class=\"dataframe\">\n",
       "  <thead>\n",
       "    <tr style=\"text-align: right;\">\n",
       "      <th></th>\n",
       "      <th>k1</th>\n",
       "      <th>k2</th>\n",
       "      <th>col</th>\n",
       "    </tr>\n",
       "  </thead>\n",
       "  <tbody>\n",
       "    <tr>\n",
       "      <td>0</td>\n",
       "      <td>a</td>\n",
       "      <td>x</td>\n",
       "      <td>10</td>\n",
       "    </tr>\n",
       "    <tr>\n",
       "      <td>2</td>\n",
       "      <td>b</td>\n",
       "      <td>y</td>\n",
       "      <td>30</td>\n",
       "    </tr>\n",
       "    <tr>\n",
       "      <td>4</td>\n",
       "      <td>c</td>\n",
       "      <td>z</td>\n",
       "      <td>50</td>\n",
       "    </tr>\n",
       "  </tbody>\n",
       "</table>\n",
       "</div>"
      ],
      "text/plain": [
       "  k1 k2  col\n",
       "0  a  x   10\n",
       "2  b  y   30\n",
       "4  c  z   50"
      ]
     },
     "execution_count": 70,
     "metadata": {},
     "output_type": "execute_result"
    }
   ],
   "source": [
    "df.drop_duplicates('k1',keep='last') # 중복 중 마지막에 나온 것 빼고 제거"
   ]
  },
  {
   "cell_type": "code",
   "execution_count": 71,
   "metadata": {},
   "outputs": [
    {
     "data": {
      "text/html": [
       "<div>\n",
       "<style scoped>\n",
       "    .dataframe tbody tr th:only-of-type {\n",
       "        vertical-align: middle;\n",
       "    }\n",
       "\n",
       "    .dataframe tbody tr th {\n",
       "        vertical-align: top;\n",
       "    }\n",
       "\n",
       "    .dataframe thead th {\n",
       "        text-align: right;\n",
       "    }\n",
       "</style>\n",
       "<table border=\"1\" class=\"dataframe\">\n",
       "  <thead>\n",
       "    <tr style=\"text-align: right;\">\n",
       "      <th></th>\n",
       "      <th>k1</th>\n",
       "      <th>k2</th>\n",
       "      <th>col</th>\n",
       "    </tr>\n",
       "  </thead>\n",
       "  <tbody>\n",
       "    <tr>\n",
       "      <td>0</td>\n",
       "      <td>a</td>\n",
       "      <td>x</td>\n",
       "      <td>10</td>\n",
       "    </tr>\n",
       "  </tbody>\n",
       "</table>\n",
       "</div>"
      ],
      "text/plain": [
       "  k1 k2  col\n",
       "0  a  x   10"
      ]
     },
     "execution_count": 71,
     "metadata": {},
     "output_type": "execute_result"
    }
   ],
   "source": [
    "df.drop_duplicates('k1',keep=False) # 중복 다 제거"
   ]
  },
  {
   "cell_type": "markdown",
   "metadata": {},
   "source": [
    "### 유일한 값\n",
    "- unique() : 유일한 값(값의 종류)\n",
    "- value_counts() : 유일한 값 개수 세기"
   ]
  },
  {
   "cell_type": "code",
   "execution_count": 72,
   "metadata": {},
   "outputs": [
    {
     "data": {
      "text/html": [
       "<div>\n",
       "<style scoped>\n",
       "    .dataframe tbody tr th:only-of-type {\n",
       "        vertical-align: middle;\n",
       "    }\n",
       "\n",
       "    .dataframe tbody tr th {\n",
       "        vertical-align: top;\n",
       "    }\n",
       "\n",
       "    .dataframe thead th {\n",
       "        text-align: right;\n",
       "    }\n",
       "</style>\n",
       "<table border=\"1\" class=\"dataframe\">\n",
       "  <thead>\n",
       "    <tr style=\"text-align: right;\">\n",
       "      <th></th>\n",
       "      <th>a</th>\n",
       "      <th>b</th>\n",
       "      <th>c</th>\n",
       "    </tr>\n",
       "  </thead>\n",
       "  <tbody>\n",
       "    <tr>\n",
       "      <td>0</td>\n",
       "      <td>a1</td>\n",
       "      <td>a1</td>\n",
       "      <td>1</td>\n",
       "    </tr>\n",
       "    <tr>\n",
       "      <td>1</td>\n",
       "      <td>a1</td>\n",
       "      <td>a1</td>\n",
       "      <td>1</td>\n",
       "    </tr>\n",
       "    <tr>\n",
       "      <td>2</td>\n",
       "      <td>a2</td>\n",
       "      <td>a2</td>\n",
       "      <td>3</td>\n",
       "    </tr>\n",
       "    <tr>\n",
       "      <td>3</td>\n",
       "      <td>a2</td>\n",
       "      <td>a2</td>\n",
       "      <td>4</td>\n",
       "    </tr>\n",
       "    <tr>\n",
       "      <td>4</td>\n",
       "      <td>a3</td>\n",
       "      <td>NaN</td>\n",
       "      <td>4</td>\n",
       "    </tr>\n",
       "  </tbody>\n",
       "</table>\n",
       "</div>"
      ],
      "text/plain": [
       "    a    b  c\n",
       "0  a1   a1  1\n",
       "1  a1   a1  1\n",
       "2  a2   a2  3\n",
       "3  a2   a2  4\n",
       "4  a3  NaN  4"
      ]
     },
     "execution_count": 72,
     "metadata": {},
     "output_type": "execute_result"
    }
   ],
   "source": [
    "df = pd.DataFrame({\n",
    "    'a':['a1','a1','a2','a2','a3'],\n",
    "    'b':['a1','a1','a2','a2',np.nan],\n",
    "    'c':[1,1,3,4,4]})\n",
    "df"
   ]
  },
  {
   "cell_type": "code",
   "execution_count": 73,
   "metadata": {},
   "outputs": [
    {
     "data": {
      "text/plain": [
       "array(['a1', 'a2', 'a3'], dtype=object)"
      ]
     },
     "execution_count": 73,
     "metadata": {},
     "output_type": "execute_result"
    }
   ],
   "source": [
    "df['a'].unique() # 중복 제거한 값 => a1, a2, a3"
   ]
  },
  {
   "cell_type": "code",
   "execution_count": 74,
   "metadata": {},
   "outputs": [
    {
     "data": {
      "text/plain": [
       "a1    2\n",
       "a2    2\n",
       "a3    1\n",
       "Name: a, dtype: int64"
      ]
     },
     "execution_count": 74,
     "metadata": {},
     "output_type": "execute_result"
    }
   ],
   "source": [
    "# normalize : defalut = False\n",
    "df['a'].value_counts() # 각 값의 개수, normalize = False : default"
   ]
  },
  {
   "cell_type": "code",
   "execution_count": 75,
   "metadata": {},
   "outputs": [
    {
     "data": {
      "text/plain": [
       "a1    0.4\n",
       "a2    0.4\n",
       "a3    0.2\n",
       "Name: a, dtype: float64"
      ]
     },
     "execution_count": 75,
     "metadata": {},
     "output_type": "execute_result"
    }
   ],
   "source": [
    "df['a'].value_counts(normalize=True) # normalize =True : 상대비율"
   ]
  },
  {
   "cell_type": "code",
   "execution_count": 76,
   "metadata": {},
   "outputs": [
    {
     "data": {
      "text/plain": [
       "1    0.4\n",
       "3    0.2\n",
       "4    0.4\n",
       "Name: c, dtype: float64"
      ]
     },
     "execution_count": 76,
     "metadata": {},
     "output_type": "execute_result"
    }
   ],
   "source": [
    "# sort 개수 기준 정렬 default = True\n",
    "df['c'].value_counts(normalize=True,sort=False)"
   ]
  },
  {
   "cell_type": "code",
   "execution_count": 77,
   "metadata": {},
   "outputs": [
    {
     "data": {
      "text/plain": [
       "4    0.4\n",
       "1    0.4\n",
       "3    0.2\n",
       "Name: c, dtype: float64"
      ]
     },
     "execution_count": 77,
     "metadata": {},
     "output_type": "execute_result"
    }
   ],
   "source": [
    "df['c'].value_counts(normalize=True,sort=True)"
   ]
  },
  {
   "cell_type": "code",
   "execution_count": 78,
   "metadata": {},
   "outputs": [
    {
     "data": {
      "text/plain": [
       "3    0.2\n",
       "1    0.4\n",
       "4    0.4\n",
       "Name: c, dtype: float64"
      ]
     },
     "execution_count": 78,
     "metadata": {},
     "output_type": "execute_result"
    }
   ],
   "source": [
    "# ascending : 오름차순 default = False\n",
    "df['c'].value_counts(normalize=True,sort=True,ascending=True)"
   ]
  },
  {
   "cell_type": "code",
   "execution_count": 79,
   "metadata": {},
   "outputs": [
    {
     "data": {
      "text/plain": [
       "4    2\n",
       "1    2\n",
       "3    1\n",
       "Name: c, dtype: int64"
      ]
     },
     "execution_count": 79,
     "metadata": {},
     "output_type": "execute_result"
    }
   ],
   "source": [
    "df['c'].value_counts(sort=True,ascending=False) # 내림차순"
   ]
  },
  {
   "cell_type": "code",
   "execution_count": 80,
   "metadata": {},
   "outputs": [
    {
     "data": {
      "text/plain": [
       "3    1\n",
       "1    2\n",
       "4    2\n",
       "Name: c, dtype: int64"
      ]
     },
     "execution_count": 80,
     "metadata": {},
     "output_type": "execute_result"
    }
   ],
   "source": [
    "df['c'].value_counts(sort=True,ascending=True)"
   ]
  },
  {
   "cell_type": "code",
   "execution_count": 81,
   "metadata": {},
   "outputs": [
    {
     "data": {
      "text/plain": [
       "1    2\n",
       "3    1\n",
       "4    2\n",
       "Name: c, dtype: int64"
      ]
     },
     "execution_count": 81,
     "metadata": {},
     "output_type": "execute_result"
    }
   ],
   "source": [
    "df['c'].value_counts(sort=False) # 정렬 기준 없음"
   ]
  },
  {
   "cell_type": "code",
   "execution_count": 84,
   "metadata": {},
   "outputs": [
    {
     "data": {
      "text/plain": [
       "a1    2\n",
       "a2    2\n",
       "Name: b, dtype: int64"
      ]
     },
     "execution_count": 84,
     "metadata": {},
     "output_type": "execute_result"
    }
   ],
   "source": [
    "# dropna : default = True\n",
    "df['b'].value_counts()"
   ]
  },
  {
   "cell_type": "code",
   "execution_count": 85,
   "metadata": {},
   "outputs": [
    {
     "data": {
      "text/plain": [
       "a1     2\n",
       "a2     2\n",
       "NaN    1\n",
       "Name: b, dtype: int64"
      ]
     },
     "execution_count": 85,
     "metadata": {},
     "output_type": "execute_result"
    }
   ],
   "source": [
    "df['b'].value_counts(dropna = False) # dropna=False면 NaN까지 세어준다"
   ]
  },
  {
   "cell_type": "code",
   "execution_count": 87,
   "metadata": {},
   "outputs": [
    {
     "name": "stdout",
     "output_type": "stream",
     "text": [
      "0    1\n",
      "1    1\n",
      "2    3\n",
      "3    4\n",
      "4    4\n",
      "Name: c, dtype: int64\n"
     ]
    },
    {
     "data": {
      "text/plain": [
       "(-0.001, 1.0]    2\n",
       "(1.0, 2.0]       0\n",
       "(2.0, 3.0]       1\n",
       "(3.0, 4.0]       2\n",
       "(4.0, 5.0]       0\n",
       "Name: c, dtype: int64"
      ]
     },
     "execution_count": 87,
     "metadata": {},
     "output_type": "execute_result"
    }
   ],
   "source": [
    "# group별 데이터 개수 세기\n",
    "print(df['c'])\n",
    "df['c'].value_counts(bins=[0,1,2,3,4,5],sort=False) # (): 개구간(초과,미만), []: 폐구간(이상,이하)"
   ]
  },
  {
   "cell_type": "code",
   "execution_count": 88,
   "metadata": {},
   "outputs": [
    {
     "data": {
      "text/plain": [
       "0    (0, 1]\n",
       "1    (0, 1]\n",
       "2    (2, 3]\n",
       "3    (3, 4]\n",
       "4    (3, 4]\n",
       "Name: c, dtype: category\n",
       "Categories (5, interval[int64]): [(0, 1] < (1, 2] < (2, 3] < (3, 4] < (4, 5]]"
      ]
     },
     "execution_count": 88,
     "metadata": {},
     "output_type": "execute_result"
    }
   ],
   "source": [
    "# pd.cut()\n",
    "pd.cut(df['c'], bins=[0,1,2,3,4,5]) # c에 있는 각 원소가 어디에 속하는지 알려줌\n",
    "                                    # 0자리에 있는 원소는 (0,1]\n",
    "                                    # 1자리에 있는 원소는 (0,1]\n",
    "                                    # 2자리에 있는 원소는 (2,3]"
   ]
  },
  {
   "cell_type": "code",
   "execution_count": 89,
   "metadata": {},
   "outputs": [
    {
     "data": {
      "text/plain": [
       "(3, 4]    2\n",
       "(0, 1]    2\n",
       "(2, 3]    1\n",
       "(4, 5]    0\n",
       "(1, 2]    0\n",
       "Name: c, dtype: int64"
      ]
     },
     "execution_count": 89,
     "metadata": {},
     "output_type": "execute_result"
    }
   ],
   "source": [
    "res = pd.cut(df['c'], bins=[0,1,2,3,4,5])\n",
    "pd.value_counts(res) # 구간별 개수"
   ]
  },
  {
   "cell_type": "markdown",
   "metadata": {},
   "source": [
    "### 표준화\n",
    "```\n",
    "표준화 : (각 데이터 - 평균) / 표준편차\n",
    "모집단이 정규분포를 따르는 경우, 평균: 0, 표준편차: 1\n",
    "```\n",
    "표준화 방법\n",
    "- numpy\n",
    "- scipy.stats:zscore\n",
    "- sklearn.preprocessing"
   ]
  },
  {
   "cell_type": "code",
   "execution_count": null,
   "metadata": {},
   "outputs": [],
   "source": [
    "# 변수들 간 척도가 다른 경우 데이터 표준화\n",
    "# 모집단 : 전체집단\n",
    "# 모집단에서 표본추출 -> 표본집단 평균, 표준편차...-> 통계량 -> 모평균, 모분산(모수, parameter) 추정\n",
    "\n",
    "'''\n",
    "모수적 방법\n",
    "중심극한정리 : 무작위로 복원추출하면, 연속형 자료의 평균에 대한 분포는 정규분포를 띈다면\n",
    "30개 이상의 표본의 경우 정규분포를 따른다\n",
    "\n",
    "비모수적 방법\n",
    "10개 미만의 표본의 경우 모수적 방법을 사용하지 않음\n",
    "자료를 크기로 나열 -> 순위 매김 -> 차이비교\n",
    "\n",
    "'''"
   ]
  },
  {
   "cell_type": "markdown",
   "metadata": {},
   "source": [
    "### numpy"
   ]
  },
  {
   "cell_type": "code",
   "execution_count": 90,
   "metadata": {},
   "outputs": [],
   "source": [
    "from numpy import *"
   ]
  },
  {
   "cell_type": "code",
   "execution_count": 91,
   "metadata": {},
   "outputs": [
    {
     "data": {
      "text/plain": [
       "array([[ 9, 22,  6, 27, 12],\n",
       "       [ 1, 28, 20,  4, 16],\n",
       "       [27,  3, 16, 22, 21],\n",
       "       [ 3, 29,  6,  5,  2],\n",
       "       [19, 15, 24, 29,  5],\n",
       "       [29,  2, 10,  3, 29]])"
      ]
     },
     "execution_count": 91,
     "metadata": {},
     "output_type": "execute_result"
    }
   ],
   "source": [
    "data = np.random.randint(30, size = (6,5))\n",
    "data"
   ]
  },
  {
   "cell_type": "code",
   "execution_count": 92,
   "metadata": {},
   "outputs": [
    {
     "data": {
      "text/plain": [
       "array([ 7.98498591, 10.04788535,  8.18290902, 10.09950494,  8.1877958 ,\n",
       "       12.07642331])"
      ]
     },
     "execution_count": 92,
     "metadata": {},
     "output_type": "execute_result"
    }
   ],
   "source": [
    "np.std(data,axis=1) # 각 행별 std"
   ]
  },
  {
   "cell_type": "code",
   "execution_count": 93,
   "metadata": {},
   "outputs": [
    {
     "data": {
      "text/plain": [
       "array([11.04033011, 10.90489187,  6.87184271, 11.21011448,  9.19087712])"
      ]
     },
     "execution_count": 93,
     "metadata": {},
     "output_type": "execute_result"
    }
   ],
   "source": [
    "np.std(data, axis=0) # 각 열별 std"
   ]
  },
  {
   "cell_type": "code",
   "execution_count": 94,
   "metadata": {},
   "outputs": [
    {
     "data": {
      "text/plain": [
       "array([[-0.51326968,  0.5043608 , -1.11566388,  1.07046186, -0.23574101],\n",
       "       [-1.23788569,  1.05457258,  0.92163538, -0.98125671,  0.19947316],\n",
       "       [ 1.11711636, -1.23797651,  0.33954988,  0.62443609,  0.74349088],\n",
       "       [-1.05673169,  1.14627455, -1.11566388, -0.89205155, -1.32377645],\n",
       "       [ 0.39250034, -0.13755295,  1.50372088,  1.24887217, -0.99736582],\n",
       "       [ 1.29827036, -1.32967848, -0.53357838, -1.07046186,  1.61391923]])"
      ]
     },
     "execution_count": 94,
     "metadata": {},
     "output_type": "execute_result"
    }
   ],
   "source": [
    "# 열별 표준화\n",
    "std_data = (data-np.mean(data,axis=0))/np.std(data,axis=0)\n",
    "std_data"
   ]
  },
  {
   "cell_type": "code",
   "execution_count": 95,
   "metadata": {},
   "outputs": [
    {
     "data": {
      "text/plain": [
       "array([3.70074342e-17, 0.00000000e+00, 9.25185854e-17, 0.00000000e+00,\n",
       "       1.11022302e-16])"
      ]
     },
     "execution_count": 95,
     "metadata": {},
     "output_type": "execute_result"
    }
   ],
   "source": [
    "np.mean(std_data, axis=0) # 각 열별 mean"
   ]
  },
  {
   "cell_type": "code",
   "execution_count": 96,
   "metadata": {
    "scrolled": true
   },
   "outputs": [
    {
     "data": {
      "text/plain": [
       "array([1., 1., 1., 1., 1.])"
      ]
     },
     "execution_count": 96,
     "metadata": {},
     "output_type": "execute_result"
    }
   ],
   "source": [
    "np.std(std_data, axis = 0) # 각 열별 std, 표준화 한 것이니깐 std =1"
   ]
  },
  {
   "cell_type": "code",
   "execution_count": 97,
   "metadata": {},
   "outputs": [
    {
     "data": {
      "text/plain": [
       "array([1., 1., 1., 1., 1.])"
      ]
     },
     "execution_count": 97,
     "metadata": {},
     "output_type": "execute_result"
    }
   ],
   "source": [
    "np.var(std_data, axis=0) # 각 열별 var, 표준화 한 것이니깐 var = 1"
   ]
  },
  {
   "cell_type": "markdown",
   "metadata": {},
   "source": [
    "### scipy.stats:zscore"
   ]
  },
  {
   "cell_type": "code",
   "execution_count": 98,
   "metadata": {},
   "outputs": [],
   "source": [
    "import scipy.stats as ss"
   ]
  },
  {
   "cell_type": "code",
   "execution_count": 99,
   "metadata": {},
   "outputs": [
    {
     "data": {
      "text/plain": [
       "array([[-0.51326968,  0.5043608 , -1.11566388,  1.07046186, -0.23574101],\n",
       "       [-1.23788569,  1.05457258,  0.92163538, -0.98125671,  0.19947316],\n",
       "       [ 1.11711636, -1.23797651,  0.33954988,  0.62443609,  0.74349088],\n",
       "       [-1.05673169,  1.14627455, -1.11566388, -0.89205155, -1.32377645],\n",
       "       [ 0.39250034, -0.13755295,  1.50372088,  1.24887217, -0.99736582],\n",
       "       [ 1.29827036, -1.32967848, -0.53357838, -1.07046186,  1.61391923]])"
      ]
     },
     "execution_count": 99,
     "metadata": {},
     "output_type": "execute_result"
    }
   ],
   "source": [
    "# zscore()\n",
    "data_ss = ss.zscore(data)\n",
    "data_ss"
   ]
  },
  {
   "cell_type": "markdown",
   "metadata": {},
   "source": [
    "### sklearn.preprocessing"
   ]
  },
  {
   "cell_type": "code",
   "execution_count": 100,
   "metadata": {},
   "outputs": [],
   "source": [
    "from sklearn.preprocessing import *"
   ]
  },
  {
   "cell_type": "code",
   "execution_count": 101,
   "metadata": {},
   "outputs": [
    {
     "data": {
      "text/plain": [
       "array([[-0.51326968,  0.5043608 , -1.11566388,  1.07046186, -0.23574101],\n",
       "       [-1.23788569,  1.05457258,  0.92163538, -0.98125671,  0.19947316],\n",
       "       [ 1.11711636, -1.23797651,  0.33954988,  0.62443609,  0.74349088],\n",
       "       [-1.05673169,  1.14627455, -1.11566388, -0.89205155, -1.32377645],\n",
       "       [ 0.39250034, -0.13755295,  1.50372088,  1.24887217, -0.99736582],\n",
       "       [ 1.29827036, -1.32967848, -0.53357838, -1.07046186,  1.61391923]])"
      ]
     },
     "execution_count": 101,
     "metadata": {},
     "output_type": "execute_result"
    }
   ],
   "source": [
    "# StandardScaler().fit_transform()\n",
    "StandardScaler().fit_transform(data)"
   ]
  },
  {
   "cell_type": "markdown",
   "metadata": {},
   "source": [
    "### Outlier : 예외처리\n",
    "예외적인 값(이상치, 특이값, outlier)이 들어있는 데이터 표준화\n",
    "- 1) 이상치, 특이값을 찾아서 제거\n",
    "- 2) 중앙값(median), IQR을 이용하여 스케일링\n",
    "\n",
    "표준정규분표로의 표준화 : 이상치, 특이값이 없어야한다는 가정하에 표준화( z = (x - mean)/std )"
   ]
  },
  {
   "cell_type": "markdown",
   "metadata": {},
   "source": [
    "### Outlier 찾아서 제거\n",
    "StandardScaler()"
   ]
  },
  {
   "cell_type": "code",
   "execution_count": 105,
   "metadata": {},
   "outputs": [],
   "source": [
    "from sklearn.preprocessing import StandardScaler,RobustScaler\n",
    "import matplotlib.pyplot as plt"
   ]
  },
  {
   "cell_type": "code",
   "execution_count": 106,
   "metadata": {},
   "outputs": [
    {
     "data": {
      "text/plain": [
       "(array([ 6.,  5.,  7., 13., 10., 15., 13., 13., 11.,  7.]),\n",
       " array([1.300971  , 2.00996726, 2.71896353, 3.4279598 , 4.13695607,\n",
       "        4.84595233, 5.5549486 , 6.26394487, 6.97294114, 7.6819374 ,\n",
       "        8.39093367]),\n",
       " <a list of 10 Patch objects>)"
      ]
     },
     "execution_count": 106,
     "metadata": {},
     "output_type": "execute_result"
    },
    {
     "data": {
      "image/png": "[encoded data removed]",
      "text/plain": [
       "<Figure size 432x288 with 1 Axes>"
      ]
     },
     "metadata": {
      "needs_background": "light"
     },
     "output_type": "display_data"
    }
   ],
   "source": [
    "mu, sigma = 5, 2\n",
    "x = mu + sigma*np.random.randn(100)\n",
    "plt.hist(x)"
   ]
  },
  {
   "cell_type": "code",
   "execution_count": 107,
   "metadata": {},
   "outputs": [
    {
     "data": {
      "text/plain": [
       "5.139663425707794"
      ]
     },
     "execution_count": 107,
     "metadata": {},
     "output_type": "execute_result"
    }
   ],
   "source": [
    "np.mean(x) # 평균 = 5 ( mu를 5라고 했기때문에)"
   ]
  },
  {
   "cell_type": "code",
   "execution_count": 108,
   "metadata": {},
   "outputs": [
    {
     "data": {
      "text/plain": [
       "1.804368125264267"
      ]
     },
     "execution_count": 108,
     "metadata": {},
     "output_type": "execute_result"
    }
   ],
   "source": [
    "np.std(x) # std = 2 ( sigma를 2라고 했기 때문에)"
   ]
  },
  {
   "cell_type": "code",
   "execution_count": 109,
   "metadata": {},
   "outputs": [
    {
     "data": {
      "text/plain": [
       "array([  6.72206737,   5.17930189,   7.18134427,   8.10460109,\n",
       "         6.9522669 ,   6.52182934,   5.04846414,   1.55675486,\n",
       "         3.17635385,   4.38932595,   8.27753857,   5.28425897,\n",
       "         2.24441116,   4.86491964,   3.42968173,   7.54080428,\n",
       "         5.04224166,   3.48188492,   5.99641939,   3.79185153,\n",
       "         4.95834683,   5.21805416,   7.28706044,   6.11950741,\n",
       "         8.05060516,   1.300971  ,   6.07248106,   4.18106261,\n",
       "         6.76891674,   6.18344   ,   3.45960029,   6.91273903,\n",
       "         3.95693653,   5.68087667,   8.25199178,   4.59564526,\n",
       "         5.64345569,   5.87342621,   4.14684516,   7.72267717,\n",
       "         3.9601827 ,   5.42501682,   7.00350558,   7.80586324,\n",
       "         2.75011635,   5.27497632,   2.23206416,   3.41326863,\n",
       "         4.03194518,   1.88984049,   3.16328225,   1.58075843,\n",
       "         5.1699527 ,   5.01174405,   6.3100099 ,   7.08780736,\n",
       "         6.75975826,   1.66601171,   6.5441001 ,   4.63469886,\n",
       "         3.03482219,   6.5290034 ,   3.15411357,   2.20539227,\n",
       "         6.89051245,   7.3011948 ,   7.30256128,   4.66329579,\n",
       "         7.17418075,   5.76445239,   7.55785253,   4.33311195,\n",
       "         5.95648188,   5.76249503,   4.26040887,   1.41582416,\n",
       "         5.70344796,   7.35968346,   5.23357812,   5.30436202,\n",
       "         4.8908328 ,   5.94786539,   7.30394082,   3.93405392,\n",
       "         6.78391209,   4.39844598,   3.94244749,   4.06552027,\n",
       "         2.71055309,   6.67635564,   3.73353725,   3.38682308,\n",
       "         2.37109024,   5.28095728,   6.09682626,   4.15866078,\n",
       "         3.52969071,   6.48379851, 100.        , 100.        ])"
      ]
     },
     "execution_count": 109,
     "metadata": {},
     "output_type": "execute_result"
    }
   ],
   "source": [
    "# outlier 만들어주기\n",
    "x[98:100]=100\n",
    "x"
   ]
  },
  {
   "cell_type": "code",
   "execution_count": 110,
   "metadata": {},
   "outputs": [
    {
     "data": {
      "text/plain": [
       "13.401201407536725"
      ]
     },
     "execution_count": 110,
     "metadata": {},
     "output_type": "execute_result"
    }
   ],
   "source": [
    "# 값이 달라진걸 알 수 있음\n",
    "np.mean(x)\n",
    "np.std(x)"
   ]
  },
  {
   "cell_type": "code",
   "execution_count": 111,
   "metadata": {},
   "outputs": [
    {
     "data": {
      "text/plain": [
       "(array([ 6., 22., 36., 30.,  4.,  0.,  0.,  0.,  0.,  0.,  0.,  0.,  0.,\n",
       "         0.,  0.,  0.,  0.,  0.,  0.,  0.,  0.,  0.,  0.,  0.,  0.,  0.,\n",
       "         0.,  0.,  0.,  0.,  0.,  0.,  0.,  0.,  0.,  0.,  0.,  0.,  0.,\n",
       "         0.,  0.,  0.,  0.,  0.,  0.,  0.,  0.,  0.,  0.,  2.]),\n",
       " array([  0,   2,   4,   6,   8,  10,  12,  14,  16,  18,  20,  22,  24,\n",
       "         26,  28,  30,  32,  34,  36,  38,  40,  42,  44,  46,  48,  50,\n",
       "         52,  54,  56,  58,  60,  62,  64,  66,  68,  70,  72,  74,  76,\n",
       "         78,  80,  82,  84,  86,  88,  90,  92,  94,  96,  98, 100]),\n",
       " <a list of 50 Patch objects>)"
      ]
     },
     "execution_count": 111,
     "metadata": {},
     "output_type": "execute_result"
    },
    {
     "data": {
      "image/png": "[encoded data removed]",
      "text/plain": [
       "<Figure size 432x288 with 1 Axes>"
      ]
     },
     "metadata": {
      "needs_background": "light"
     },
     "output_type": "display_data"
    }
   ],
   "source": [
    "plt.hist(x, bins=np.arange(0,102,2)) # 0부터 102를 2 간격으로 보기"
   ]
  },
  {
   "cell_type": "code",
   "execution_count": 112,
   "metadata": {},
   "outputs": [
    {
     "name": "stdout",
     "output_type": "stream",
     "text": [
      "3.552713678800501e-17\n",
      "1.0\n"
     ]
    },
    {
     "data": {
      "text/plain": [
       "(array([98.,  0.,  0.,  0.,  0.,  0.,  0.,  0.,  0.,  2.]),\n",
       " array([-0.42637286,  0.31012103,  1.04661492,  1.7831088 ,  2.51960269,\n",
       "         3.25609657,  3.99259046,  4.72908435,  5.46557823,  6.20207212,\n",
       "         6.938566  ]),\n",
       " <a list of 10 Patch objects>)"
      ]
     },
     "execution_count": 112,
     "metadata": {},
     "output_type": "execute_result"
    },
    {
     "data": {
      "image/png": "[encoded data removed]",
      "text/plain": [
       "<Figure size 432x288 with 1 Axes>"
      ]
     },
     "metadata": {
      "needs_background": "light"
     },
     "output_type": "display_data"
    }
   ],
   "source": [
    "# StandardScaler().fit_transform()에 2차원이 들어가야해서 => reshape\n",
    "\n",
    "x = x.reshape(100,1) # (100,) ->(100,1) 총 데이터 개수를 알아야함 \n",
    "                    # x.reshape(-1,1) -1을 적어주면 알아서 구해줌 reshape(-1,5)하면 알아서 4가됨 (100/5)\n",
    "ss_x = StandardScaler().fit_transform(x)\n",
    "print(np.mean(ss_x))\n",
    "print(np.std(ss_x))\n",
    "plt.hist(ss_x)"
   ]
  },
  {
   "cell_type": "code",
   "execution_count": 113,
   "metadata": {},
   "outputs": [
    {
     "data": {
      "text/plain": [
       "(array([ 0.,  0.,  0.,  0.,  0.,  4.,  8., 23., 21., 26., 16.,  0.,  0.,\n",
       "         0.,  0.,  0.,  0.,  0.,  0.]),\n",
       " array([-1.00000000e+00, -9.00000000e-01, -8.00000000e-01, -7.00000000e-01,\n",
       "        -6.00000000e-01, -5.00000000e-01, -4.00000000e-01, -3.00000000e-01,\n",
       "        -2.00000000e-01, -1.00000000e-01, -2.22044605e-16,  1.00000000e-01,\n",
       "         2.00000000e-01,  3.00000000e-01,  4.00000000e-01,  5.00000000e-01,\n",
       "         6.00000000e-01,  7.00000000e-01,  8.00000000e-01,  9.00000000e-01]),\n",
       " <a list of 19 Patch objects>)"
      ]
     },
     "execution_count": 113,
     "metadata": {},
     "output_type": "execute_result"
    },
    {
     "data": {
      "image/png": "[encoded data removed]",
      "text/plain": [
       "<Figure size 432x288 with 1 Axes>"
      ]
     },
     "metadata": {
      "needs_background": "light"
     },
     "output_type": "display_data"
    }
   ],
   "source": [
    "ss__x_z = ss_x[ss_x<5] # 그래프 보고 outlier 제거\n",
    "plt.hist(ss__x_z,bins = np.arange(-1,1,0.1))"
   ]
  },
  {
   "cell_type": "markdown",
   "metadata": {},
   "source": [
    "### 중앙값(median), IQR을 이용하여 스케일링\n",
    "RobustScaler()"
   ]
  },
  {
   "cell_type": "code",
   "execution_count": 116,
   "metadata": {
    "scrolled": true
   },
   "outputs": [],
   "source": [
    "# 이상치 포함 데이터의 중앙값, IQR을 이용 -> 표준화\n",
    "np.median(x)\n",
    "q1 = np.percentile(x,25) # 1사분위수 작은 값부터 큰값까지 정렬했을때 25번째 숫자\n",
    "q3 = np.percentile(x,75) # 3사분위수\n",
    "iqr = q3-q1"
   ]
  },
  {
   "cell_type": "code",
   "execution_count": 118,
   "metadata": {},
   "outputs": [
    {
     "name": "stdout",
     "output_type": "stream",
     "text": [
      "-1.5916087892087205e-16\n",
      "0.6307822811288076\n",
      "4.801334449886842\n"
     ]
    },
    {
     "data": {
      "text/plain": [
       "(array([98.,  0.,  0.,  0.,  0.,  0.,  0.,  0.,  0.,  2.]),\n",
       " array([-1.4163764 ,  2.11977707,  5.65593054,  9.192084  , 12.72823747,\n",
       "        16.26439094, 19.8005444 , 23.33669787, 26.87285134, 30.4090048 ,\n",
       "        33.94515827]),\n",
       " <a list of 10 Patch objects>)"
      ]
     },
     "execution_count": 118,
     "metadata": {},
     "output_type": "execute_result"
    },
    {
     "data": {
      "image/png": "[encoded data removed]",
      "text/plain": [
       "<Figure size 432x288 with 1 Axes>"
      ]
     },
     "metadata": {
      "needs_background": "light"
     },
     "output_type": "display_data"
    }
   ],
   "source": [
    "x_rs = RobustScaler().fit_transform(x)\n",
    "\n",
    "print(np.median(x_rs))\n",
    "print(np.mean(x_rs))\n",
    "print(np.std(x_rs))\n",
    "plt.hist(x_rs)"
   ]
  },
  {
   "cell_type": "code",
   "execution_count": 119,
   "metadata": {},
   "outputs": [
    {
     "data": {
      "text/plain": [
       "(array([1., 1., 4., 6., 2., 6., 7., 3., 3., 7., 5., 5., 5., 4., 4., 7., 5.,\n",
       "        5., 3.]),\n",
       " array([-1.00000000e+00, -9.00000000e-01, -8.00000000e-01, -7.00000000e-01,\n",
       "        -6.00000000e-01, -5.00000000e-01, -4.00000000e-01, -3.00000000e-01,\n",
       "        -2.00000000e-01, -1.00000000e-01, -2.22044605e-16,  1.00000000e-01,\n",
       "         2.00000000e-01,  3.00000000e-01,  4.00000000e-01,  5.00000000e-01,\n",
       "         6.00000000e-01,  7.00000000e-01,  8.00000000e-01,  9.00000000e-01]),\n",
       " <a list of 19 Patch objects>)"
      ]
     },
     "execution_count": 119,
     "metadata": {},
     "output_type": "execute_result"
    },
    {
     "data": {
      "image/png": "[encoded data removed]",
      "text/plain": [
       "<Figure size 432x288 with 1 Axes>"
      ]
     },
     "metadata": {
      "needs_background": "light"
     },
     "output_type": "display_data"
    }
   ],
   "source": [
    "# outlier 제거\n",
    "x_rs_z = x_rs[x_rs<10]\n",
    "plt.hist(x_rs_z,bins = np.arange(-1,1,0.1))"
   ]
  },
  {
   "cell_type": "code",
   "execution_count": null,
   "metadata": {},
   "outputs": [],
   "source": []
  }
 ],
 "metadata": {
  "kernelspec": {
   "display_name": "Python 3",
   "language": "python",
   "name": "python3"
  },
  "language_info": {
   "codemirror_mode": {
    "name": "ipython",
    "version": 3
   },
   "file_extension": ".py",
   "mimetype": "text/x-python",
   "name": "python",
   "nbconvert_exporter": "python",
   "pygments_lexer": "ipython3",
   "version": "3.7.4"
  }
 },
 "nbformat": 4,
 "nbformat_minor": 2
}
